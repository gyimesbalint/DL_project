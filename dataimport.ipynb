version https://git-lfs.github.com/spec/v1
oid sha256:d187d81bbc76e0bf1f2a9affed078ef31103ac66e8c0ee604f930429b9a0b295
size 36838
