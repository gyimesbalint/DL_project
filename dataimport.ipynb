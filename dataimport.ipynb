{
  "nbformat": 4,
  "nbformat_minor": 0,
  "metadata": {
    "colab": {
      "name": "dataimport.ipynb másolata",
      "provenance": [],
      "collapsed_sections": []
    },
    "kernelspec": {
      "display_name": "Python 3",
      "language": "python",
      "name": "python3"
    },
    "language_info": {
      "codemirror_mode": {
        "name": "ipython",
        "version": 3
      },
      "file_extension": ".py",
      "mimetype": "text/x-python",
      "name": "python",
      "nbconvert_exporter": "python",
      "pygments_lexer": "ipython3",
      "version": "3.8.8"
    }
  },
  "cells": [
    {
      "cell_type": "markdown",
      "metadata": {
        "id": "ssQLrwJ3b8F1"
      },
      "source": [
        "#Importing datasets"
      ]
    },
    {
      "cell_type": "code",
      "metadata": {
        "colab": {
          "base_uri": "https://localhost:8080/"
        },
        "id": "K2gR-BhaV0Mr",
        "outputId": "4504bc89-4e05-459c-8581-6f54d5f5fa49"
      },
      "source": [
        "# https://drive.google.com/file/d/1pmNSD1nbYHEAiP065s4akRXHMWFs9Dqw/view?usp=sharing DBpedia train.csv\n",
        "# https://drive.google.com/file/d/1mKededzdbJsWQnwsu-R_WSILYSvNEY7c/view?usp=sharing DBpedia test.csv\n",
        "!pip install gdown \n",
        "!gdown --id 1pmNSD1nbYHEAiP065s4akRXHMWFs9Dqw --output train.csv  #import train.csv from drive\n",
        "!gdown --id 1mKededzdbJsWQnwsu-R_WSILYSvNEY7c --output test.csv   #import test.csv from drive"
      ],
      "execution_count": null,
      "outputs": [
        {
          "output_type": "stream",
          "name": "stdout",
          "text": [
            "Requirement already satisfied: gdown in /usr/local/lib/python3.7/dist-packages (3.6.4)\n",
            "Requirement already satisfied: requests in /usr/local/lib/python3.7/dist-packages (from gdown) (2.23.0)\n",
            "Requirement already satisfied: tqdm in /usr/local/lib/python3.7/dist-packages (from gdown) (4.62.3)\n",
            "Requirement already satisfied: six in /usr/local/lib/python3.7/dist-packages (from gdown) (1.15.0)\n",
            "Requirement already satisfied: idna<3,>=2.5 in /usr/local/lib/python3.7/dist-packages (from requests->gdown) (2.10)\n",
            "Requirement already satisfied: chardet<4,>=3.0.2 in /usr/local/lib/python3.7/dist-packages (from requests->gdown) (3.0.4)\n",
            "Requirement already satisfied: certifi>=2017.4.17 in /usr/local/lib/python3.7/dist-packages (from requests->gdown) (2021.10.8)\n",
            "Requirement already satisfied: urllib3!=1.25.0,!=1.25.1,<1.26,>=1.21.1 in /usr/local/lib/python3.7/dist-packages (from requests->gdown) (1.24.3)\n",
            "Downloading...\n",
            "From: https://drive.google.com/uc?id=1pmNSD1nbYHEAiP065s4akRXHMWFs9Dqw\n",
            "To: /content/train.csv\n",
            "100% 174M/174M [00:01<00:00, 127MB/s] \n",
            "Downloading...\n",
            "From: https://drive.google.com/uc?id=1mKededzdbJsWQnwsu-R_WSILYSvNEY7c\n",
            "To: /content/test.csv\n",
            "100% 21.8M/21.8M [00:00<00:00, 133MB/s]\n"
          ]
        }
      ]
    },
    {
      "cell_type": "code",
      "metadata": {
        "id": "a7DxLlchmrSG"
      },
      "source": [
        "import numpy as np\n",
        "import pandas as pd\n",
        "\n",
        "train_data = pd.read_csv('train.csv', encoding='utf8',header=None) #read csv to dataframe\n",
        "test_data = pd.read_csv('test.csv', encoding='utf8',header=None)   #read csv to dataframe\n",
        "\n",
        "train_data.where(train_data[0] < 6, inplace = True)  #select first 5 categories\n",
        "train_data = train_data[train_data[0].notnull()]     #remove NaN values\n",
        "\n",
        "test_data.where(test_data[0] < 6, inplace = True)    #select first 5 categories\n",
        "test_data = test_data[test_data[0].notnull()]        #remove NaN values"
      ],
      "execution_count": null,
      "outputs": []
    },
    {
      "cell_type": "code",
      "metadata": {
        "colab": {
          "base_uri": "https://localhost:8080/",
          "height": 202
        },
        "id": "oC2QSasgcGUv",
        "outputId": "e8ce6d0a-9523-496f-cea7-ffe60fb38880"
      },
      "source": [
        "train_data.sample(5) #sample from train data"
      ],
      "execution_count": null,
      "outputs": [
        {
          "output_type": "execute_result",
          "data": {
            "text/html": [
              "<div>\n",
              "<style scoped>\n",
              "    .dataframe tbody tr th:only-of-type {\n",
              "        vertical-align: middle;\n",
              "    }\n",
              "\n",
              "    .dataframe tbody tr th {\n",
              "        vertical-align: top;\n",
              "    }\n",
              "\n",
              "    .dataframe thead th {\n",
              "        text-align: right;\n",
              "    }\n",
              "</style>\n",
              "<table border=\"1\" class=\"dataframe\">\n",
              "  <thead>\n",
              "    <tr style=\"text-align: right;\">\n",
              "      <th></th>\n",
              "      <th>0</th>\n",
              "      <th>1</th>\n",
              "      <th>2</th>\n",
              "    </tr>\n",
              "  </thead>\n",
              "  <tbody>\n",
              "    <tr>\n",
              "      <th>185848</th>\n",
              "      <td>5.0</td>\n",
              "      <td>Joe Bock (academic)</td>\n",
              "      <td>Joe Bock is an official with the University o...</td>\n",
              "    </tr>\n",
              "    <tr>\n",
              "      <th>2424</th>\n",
              "      <td>1.0</td>\n",
              "      <td>Durtro</td>\n",
              "      <td>Durtro was a British independent record label...</td>\n",
              "    </tr>\n",
              "    <tr>\n",
              "      <th>113008</th>\n",
              "      <td>3.0</td>\n",
              "      <td>Adam Gregory</td>\n",
              "      <td>Adam Gregory (born July 12 1985) is a Canadia...</td>\n",
              "    </tr>\n",
              "    <tr>\n",
              "      <th>166365</th>\n",
              "      <td>5.0</td>\n",
              "      <td>Max Bradford</td>\n",
              "      <td>Maxwell Robert (Max) Bradford (born 19 Januar...</td>\n",
              "    </tr>\n",
              "    <tr>\n",
              "      <th>160100</th>\n",
              "      <td>5.0</td>\n",
              "      <td>George Strahan</td>\n",
              "      <td>Major Sir George Cumine Strahan KCMG (9 Decem...</td>\n",
              "    </tr>\n",
              "  </tbody>\n",
              "</table>\n",
              "</div>"
            ],
            "text/plain": [
              "          0  ...                                                  2\n",
              "185848  5.0  ...   Joe Bock is an official with the University o...\n",
              "2424    1.0  ...   Durtro was a British independent record label...\n",
              "113008  3.0  ...   Adam Gregory (born July 12 1985) is a Canadia...\n",
              "166365  5.0  ...   Maxwell Robert (Max) Bradford (born 19 Januar...\n",
              "160100  5.0  ...   Major Sir George Cumine Strahan KCMG (9 Decem...\n",
              "\n",
              "[5 rows x 3 columns]"
            ]
          },
          "metadata": {},
          "execution_count": 40
        }
      ]
    },
    {
      "cell_type": "code",
      "metadata": {
        "colab": {
          "base_uri": "https://localhost:8080/",
          "height": 202
        },
        "id": "LuZIprN5fGcK",
        "outputId": "eaa4c785-fa0b-4d9f-c6ab-658bce62e44b"
      },
      "source": [
        "test_data.sample(5) #sample from test data"
      ],
      "execution_count": null,
      "outputs": [
        {
          "output_type": "execute_result",
          "data": {
            "text/html": [
              "<div>\n",
              "<style scoped>\n",
              "    .dataframe tbody tr th:only-of-type {\n",
              "        vertical-align: middle;\n",
              "    }\n",
              "\n",
              "    .dataframe tbody tr th {\n",
              "        vertical-align: top;\n",
              "    }\n",
              "\n",
              "    .dataframe thead th {\n",
              "        text-align: right;\n",
              "    }\n",
              "</style>\n",
              "<table border=\"1\" class=\"dataframe\">\n",
              "  <thead>\n",
              "    <tr style=\"text-align: right;\">\n",
              "      <th></th>\n",
              "      <th>0</th>\n",
              "      <th>1</th>\n",
              "      <th>2</th>\n",
              "    </tr>\n",
              "  </thead>\n",
              "  <tbody>\n",
              "    <tr>\n",
              "      <th>134</th>\n",
              "      <td>1.0</td>\n",
              "      <td>Pass Transit</td>\n",
              "      <td>PASS Transit is a transit agency in Riverside...</td>\n",
              "    </tr>\n",
              "    <tr>\n",
              "      <th>3761</th>\n",
              "      <td>1.0</td>\n",
              "      <td>Just Add Water (company)</td>\n",
              "      <td>Just Add Water is an Independent video game d...</td>\n",
              "    </tr>\n",
              "    <tr>\n",
              "      <th>10557</th>\n",
              "      <td>3.0</td>\n",
              "      <td>Robert Penn Warren</td>\n",
              "      <td>Robert Penn Warren (April 24 1905 – September...</td>\n",
              "    </tr>\n",
              "    <tr>\n",
              "      <th>9548</th>\n",
              "      <td>2.0</td>\n",
              "      <td>Hunter High School (Scotland)</td>\n",
              "      <td>Hunter High School was a non-denominational s...</td>\n",
              "    </tr>\n",
              "    <tr>\n",
              "      <th>3934</th>\n",
              "      <td>1.0</td>\n",
              "      <td>Visco Corporation</td>\n",
              "      <td>Visco Corporation (株式会社ビスコ) is a Japanese sof...</td>\n",
              "    </tr>\n",
              "  </tbody>\n",
              "</table>\n",
              "</div>"
            ],
            "text/plain": [
              "         0  ...                                                  2\n",
              "134    1.0  ...   PASS Transit is a transit agency in Riverside...\n",
              "3761   1.0  ...   Just Add Water is an Independent video game d...\n",
              "10557  3.0  ...   Robert Penn Warren (April 24 1905 – September...\n",
              "9548   2.0  ...   Hunter High School was a non-denominational s...\n",
              "3934   1.0  ...   Visco Corporation (株式会社ビスコ) is a Japanese sof...\n",
              "\n",
              "[5 rows x 3 columns]"
            ]
          },
          "metadata": {},
          "execution_count": 41
        }
      ]
    },
    {
      "cell_type": "code",
      "metadata": {
        "id": "xIdmfSJsm4ZN"
      },
      "source": [
        "train_label = pd.to_numeric(train_data.iloc[:,0]) #select labels (int) from train data\n",
        "train_text = train_data.iloc[:,1:3] #select article text from train data"
      ],
      "execution_count": null,
      "outputs": []
    },
    {
      "cell_type": "code",
      "metadata": {
        "id": "dbfQMlpGpJY1"
      },
      "source": [
        "test_label = pd.to_numeric(test_data.iloc[:,0]) #select labels (int) from test data\n",
        "test_text = test_data.iloc[:,1:3] #select article text from train data"
      ],
      "execution_count": null,
      "outputs": []
    },
    {
      "cell_type": "markdown",
      "metadata": {
        "id": "tqOIQiMFcCKk"
      },
      "source": [
        "#Pre-processing"
      ]
    },
    {
      "cell_type": "code",
      "metadata": {
        "colab": {
          "base_uri": "https://localhost:8080/"
        },
        "id": "eGd_NGTLql8R",
        "outputId": "c81af597-d31e-42c9-a01e-72453dd27a3c"
      },
      "source": [
        "from sklearn.feature_extraction.text import CountVectorizer #vectorizer for article text data\n",
        "from nltk.corpus import stopwords #stopwords for desktop usage\n",
        "import nltk\n",
        "nltk.download('stopwords') #stopwords for collab notebook"
      ],
      "execution_count": null,
      "outputs": [
        {
          "output_type": "stream",
          "name": "stdout",
          "text": [
            "[nltk_data] Downloading package stopwords to /root/nltk_data...\n",
            "[nltk_data]   Package stopwords is already up-to-date!\n"
          ]
        },
        {
          "output_type": "execute_result",
          "data": {
            "text/plain": [
              "True"
            ]
          },
          "metadata": {},
          "execution_count": 44
        }
      ]
    },
    {
      "cell_type": "code",
      "metadata": {
        "id": "0sdo8wL7CGFM"
      },
      "source": [
        "vectorizer = CountVectorizer(stop_words=stopwords.words('english'), analyzer='word', ngram_range=(1, 1)) #vectorizer for words, removing stopwords"
      ],
      "execution_count": null,
      "outputs": []
    },
    {
      "cell_type": "code",
      "metadata": {
        "id": "8x0-IR01DRW6"
      },
      "source": [
        "test_title = test_text.iloc[:,0] #select titles from test text\n",
        "test_desc = test_text.iloc[:,1]  #select descriptions from test text"
      ],
      "execution_count": null,
      "outputs": []
    },
    {
      "cell_type": "code",
      "metadata": {
        "id": "yuKl7x3U33gu"
      },
      "source": [
        "train_title = train_text.iloc[:,0] #select titles from train text\n",
        "train_desc = train_text.iloc[:,1]  #select descriptions from train text"
      ],
      "execution_count": null,
      "outputs": []
    },
    {
      "cell_type": "code",
      "metadata": {
        "id": "t_3wCcvAmo_N"
      },
      "source": [
        "titles = pd.concat([test_title, train_title]) #concat titles for vectorazition\n",
        "descs = pd.concat([test_desc, train_desc]) #concat descriptions for vectorazition"
      ],
      "execution_count": null,
      "outputs": []
    },
    {
      "cell_type": "code",
      "metadata": {
        "id": "SyFZpmsYEuLP"
      },
      "source": [
        "titles = pd.DataFrame.sparse.from_spmatrix(vectorizer.fit_transform(titles)) #vectorizing test_title and adding it to a dataframe\n",
        "title_feature_names = np.asarray(vectorizer.get_feature_names()) #getting all feature names for test_title\n",
        "descs = pd.DataFrame.sparse.from_spmatrix(vectorizer.fit_transform(descs)) #vectorizing test_desc and adding it to a dataframe\n",
        "desc_feature_names = np.asarray(vectorizer.get_feature_names()) #getting all feature names for test_desc"
      ],
      "execution_count": null,
      "outputs": []
    },
    {
      "cell_type": "code",
      "metadata": {
        "id": "qKD2R761ndPh"
      },
      "source": [
        "test_title = titles[0:len(test_title.index)]"
      ],
      "execution_count": null,
      "outputs": []
    },
    {
      "cell_type": "code",
      "metadata": {
        "id": "7H4Pac1xoYgu"
      },
      "source": [
        "test_title = test_title.loc[:, test_title.sum(axis=0) > 1]"
      ],
      "execution_count": null,
      "outputs": []
    },
    {
      "cell_type": "code",
      "metadata": {
        "colab": {
          "base_uri": "https://localhost:8080/"
        },
        "id": "XqEi2-fBhGtB",
        "outputId": "9f8a7b45-e0e2-4b58-a5d8-874a76289736"
      },
      "source": [
        "#First 5 rows and feature names obtained with the vectoritzer\n",
        "print(test_title[0:5])\n",
        "print(title_feature_names[0:5])"
      ],
      "execution_count": null,
      "outputs": [
        {
          "output_type": "stream",
          "name": "stdout",
          "text": [
            "   88      101     177     184     ...  127654  127678  127921  128028\n",
            "0       0       0       0       0  ...       0       0       0       0\n",
            "1       0       0       0       0  ...       0       0       0       0\n",
            "2       0       0       0       0  ...       0       0       0       0\n",
            "3       0       0       0       0  ...       0       0       0       0\n",
            "4       0       0       0       0  ...       0       0       0       0\n",
            "\n",
            "[5 rows x 6054 columns]\n",
            "['002' '05' '07' '09' '0verflow']\n"
          ]
        },
        {
          "output_type": "execute_result",
          "data": {
            "text/plain": [
              "2536"
            ]
          },
          "metadata": {},
          "execution_count": 63
        }
      ]
    },
    {
      "cell_type": "code",
      "metadata": {
        "id": "z5txOGWsp_G_"
      },
      "source": [
        "test_desc = descs.head(len(test_desc.index))"
      ],
      "execution_count": null,
      "outputs": []
    },
    {
      "cell_type": "code",
      "metadata": {
        "id": "uJ-KYd0OxKuY"
      },
      "source": [
        "test_desc = test_desc.loc[:, test_desc.sum(axis=0) > 1]"
      ],
      "execution_count": null,
      "outputs": []
    },
    {
      "cell_type": "code",
      "metadata": {
        "colab": {
          "base_uri": "https://localhost:8080/"
        },
        "id": "ukBvNK_bpH-J",
        "outputId": "1fc901aa-4f52-41a7-a887-d910c0d06ce0"
      },
      "source": [
        "#First 5 rows and feature names obtained with the vectorizer\n",
        "print(test_desc[0:5])"
      ],
      "execution_count": null,
      "outputs": [
        {
          "output_type": "stream",
          "name": "stdout",
          "text": [
            "   0       1       56      70      ...  315478  315615  315709  315723\n",
            "0       0       0       0       0  ...       0       0       0       0\n",
            "1       0       0       0       0  ...       0       0       0       0\n",
            "2       0       0       0       0  ...       0       0       0       0\n",
            "3       0       0       0       0  ...       0       0       0       0\n",
            "4       0       0       0       0  ...       0       0       0       0\n",
            "\n",
            "[5 rows x 34626 columns]\n"
          ]
        }
      ]
    },
    {
      "cell_type": "code",
      "metadata": {
        "id": "-54u7V4OFOnh"
      },
      "source": [
        "train_title = titles.tail(len(test_title.index))"
      ],
      "execution_count": null,
      "outputs": []
    },
    {
      "cell_type": "code",
      "metadata": {
        "id": "SsJ1HLPjycIQ"
      },
      "source": [
        "train_title = train_title.loc[:, train_title.sum(axis=0) > 1]"
      ],
      "execution_count": null,
      "outputs": []
    },
    {
      "cell_type": "code",
      "metadata": {
        "colab": {
          "base_uri": "https://localhost:8080/"
        },
        "id": "AXIH2FymkHOK",
        "outputId": "5363c733-c6fe-4add-c3b4-0a866c0e8190"
      },
      "source": [
        "#First 5 rows and feature names obtained with the vectoritzer\n",
        "print(train_title[0:5])"
      ],
      "execution_count": null,
      "outputs": [
        {
          "output_type": "stream",
          "name": "stdout",
          "text": [
            "        23      37      55      69      ...  127572  127709  128021  128028\n",
            "200000       0       0       0       0  ...       0       0       0       0\n",
            "200001       0       0       0       0  ...       0       0       0       0\n",
            "200002       0       0       0       0  ...       0       0       0       0\n",
            "200003       0       0       0       0  ...       0       0       0       0\n",
            "200004       0       0       0       0  ...       0       0       0       0\n",
            "\n",
            "[5 rows x 5933 columns]\n"
          ]
        }
      ]
    },
    {
      "cell_type": "code",
      "metadata": {
        "id": "SKbN2KbbsUqd"
      },
      "source": [
        "train_desc = descs.tail(len(test_desc.index))"
      ],
      "execution_count": null,
      "outputs": []
    },
    {
      "cell_type": "code",
      "metadata": {
        "id": "BFNdC3fUza2X"
      },
      "source": [
        "train_desc = train_desc.loc[:, train_desc.sum(axis=0) > 1]"
      ],
      "execution_count": null,
      "outputs": []
    },
    {
      "cell_type": "code",
      "metadata": {
        "colab": {
          "base_uri": "https://localhost:8080/"
        },
        "id": "SmOXEY0fq3Pu",
        "outputId": "ece29904-f09c-4445-a071-6bfab1cf2fef"
      },
      "source": [
        "#First 5 rows and feature names obtained with the vectoritzer\n",
        "print(train_desc[0:5])"
      ],
      "execution_count": null,
      "outputs": [
        {
          "output_type": "stream",
          "name": "stdout",
          "text": [
            "        0       83      111     132     ...  315478  315556  315560  315718\n",
            "200000       0       0       0       0  ...       0       0       0       0\n",
            "200001       0       0       0       0  ...       0       0       0       0\n",
            "200002       0       0       0       0  ...       0       0       0       0\n",
            "200003       0       0       0       0  ...       0       0       0       0\n",
            "200004       0       0       0       0  ...       0       0       0       0\n",
            "\n",
            "[5 rows x 27315 columns]\n"
          ]
        }
      ]
    },
    {
      "cell_type": "code",
      "metadata": {
        "id": "omfbCxvr-aJl"
      },
      "source": [
        "from scipy.sparse import csr_matrix #for min-max scaling sparse matrices"
      ],
      "execution_count": null,
      "outputs": []
    },
    {
      "cell_type": "code",
      "metadata": {
        "id": "_B3DpLPb7Dku"
      },
      "source": [
        "def normalize(df): #function for min-max scaling of dataframes\n",
        "    result = df.copy()\n",
        "    for feature_name in df.columns:\n",
        "        max_value = csr_matrix(df[feature_name]).max()\n",
        "        min_value = csr_matrix(df[feature_name]).min()\n",
        "        result[feature_name] = (df[feature_name] - min_value) / max((max_value - min_value), 1)\n",
        "    return result"
      ],
      "execution_count": null,
      "outputs": []
    },
    {
      "cell_type": "code",
      "metadata": {
        "id": "xofqUiCj51N2"
      },
      "source": [
        "test_title = normalize(test_title) #min-max scale test_title"
      ],
      "execution_count": null,
      "outputs": []
    },
    {
      "cell_type": "code",
      "metadata": {
        "colab": {
          "base_uri": "https://localhost:8080/"
        },
        "id": "ZZtMnnUptxIn",
        "outputId": "f3878749-cb09-4584-ee1b-b6791e7888df"
      },
      "source": [
        "print(test_title[0:5])"
      ],
      "execution_count": null,
      "outputs": [
        {
          "output_type": "stream",
          "name": "stdout",
          "text": [
            "   88      101     177     184     ...  127654  127678  127921  128028\n",
            "0     0.0     0.0     0.0     0.0  ...     0.0     0.0     0.0     0.0\n",
            "1     0.0     0.0     0.0     0.0  ...     0.0     0.0     0.0     0.0\n",
            "2     0.0     0.0     0.0     0.0  ...     0.0     0.0     0.0     0.0\n",
            "3     0.0     0.0     0.0     0.0  ...     0.0     0.0     0.0     0.0\n",
            "4     0.0     0.0     0.0     0.0  ...     0.0     0.0     0.0     0.0\n",
            "\n",
            "[5 rows x 6054 columns]\n"
          ]
        }
      ]
    },
    {
      "cell_type": "code",
      "metadata": {
        "id": "4v9lEKB951N2"
      },
      "source": [
        "test_desc = normalize(test_desc) #min-max scale test_desc"
      ],
      "execution_count": null,
      "outputs": []
    },
    {
      "cell_type": "code",
      "metadata": {
        "id": "cH74B7tUtxgF",
        "colab": {
          "base_uri": "https://localhost:8080/"
        },
        "outputId": "a009e5c4-678e-4b7a-8738-191925be88dc"
      },
      "source": [
        "print(test_desc[0:5])"
      ],
      "execution_count": null,
      "outputs": [
        {
          "output_type": "stream",
          "name": "stdout",
          "text": [
            "   0       1       56      70      ...  315478  315615  315709  315723\n",
            "0     0.0     0.0     0.0     0.0  ...     0.0     0.0     0.0     0.0\n",
            "1     0.0     0.0     0.0     0.0  ...     0.0     0.0     0.0     0.0\n",
            "2     0.0     0.0     0.0     0.0  ...     0.0     0.0     0.0     0.0\n",
            "3     0.0     0.0     0.0     0.0  ...     0.0     0.0     0.0     0.0\n",
            "4     0.0     0.0     0.0     0.0  ...     0.0     0.0     0.0     0.0\n",
            "\n",
            "[5 rows x 34626 columns]\n"
          ]
        }
      ]
    },
    {
      "cell_type": "code",
      "metadata": {
        "id": "seP8jG3CB-qB"
      },
      "source": [
        "train_title = normalize(train_title) #min-max scale train_title"
      ],
      "execution_count": null,
      "outputs": []
    },
    {
      "cell_type": "code",
      "metadata": {
        "id": "Z37ue-AbtxyD",
        "colab": {
          "base_uri": "https://localhost:8080/"
        },
        "outputId": "e7636be3-6465-4020-b23e-0c2449a34a07"
      },
      "source": [
        "print(train_title[0:5])"
      ],
      "execution_count": null,
      "outputs": [
        {
          "output_type": "stream",
          "name": "stdout",
          "text": [
            "        23      37      55      69      ...  127572  127709  128021  128028\n",
            "200000     0.0     0.0     0.0     0.0  ...     0.0     0.0     0.0     0.0\n",
            "200001     0.0     0.0     0.0     0.0  ...     0.0     0.0     0.0     0.0\n",
            "200002     0.0     0.0     0.0     0.0  ...     0.0     0.0     0.0     0.0\n",
            "200003     0.0     0.0     0.0     0.0  ...     0.0     0.0     0.0     0.0\n",
            "200004     0.0     0.0     0.0     0.0  ...     0.0     0.0     0.0     0.0\n",
            "\n",
            "[5 rows x 5933 columns]\n"
          ]
        }
      ]
    },
    {
      "cell_type": "code",
      "metadata": {
        "id": "t7My4oYrSmLv"
      },
      "source": [
        "train_desc = normalize(train_desc) #min-max scale train_desc"
      ],
      "execution_count": null,
      "outputs": []
    },
    {
      "cell_type": "code",
      "metadata": {
        "id": "lAJvee20tyUd",
        "colab": {
          "base_uri": "https://localhost:8080/"
        },
        "outputId": "3cec0140-014d-4fa8-9b7c-579f0b00a625"
      },
      "source": [
        "print(train_desc[0:5])"
      ],
      "execution_count": null,
      "outputs": [
        {
          "output_type": "stream",
          "name": "stdout",
          "text": [
            "        0       83      111     132     ...  315478  315556  315560  315718\n",
            "200000     0.0     0.0     0.0     0.0  ...     0.0     0.0     0.0     0.0\n",
            "200001     0.0     0.0     0.0     0.0  ...     0.0     0.0     0.0     0.0\n",
            "200002     0.0     0.0     0.0     0.0  ...     0.0     0.0     0.0     0.0\n",
            "200003     0.0     0.0     0.0     0.0  ...     0.0     0.0     0.0     0.0\n",
            "200004     0.0     0.0     0.0     0.0  ...     0.0     0.0     0.0     0.0\n",
            "\n",
            "[5 rows x 27315 columns]\n"
          ]
        }
      ]
    },
    {
      "cell_type": "code",
      "metadata": {
        "id": "_SyYggbJorJj"
      },
      "source": [
        "test_title.to_csv(index=False)\n",
        "test_desc.to_csv(index=False)\n",
        "train_title.to_csv(index=False)\n",
        "train_desc.to_csv(index=False)"
      ],
      "execution_count": null,
      "outputs": []
    },
    {
      "cell_type": "code",
      "metadata": {
        "id": "_OYLgAiIe9wE"
      },
      "source": [
        ""
      ],
      "execution_count": null,
      "outputs": []
    },
    {
      "cell_type": "code",
      "metadata": {
        "id": "ZBZxmZ1Te9uW"
      },
      "source": [
        ""
      ],
      "execution_count": null,
      "outputs": []
    },
    {
      "cell_type": "markdown",
      "metadata": {
        "id": "qsQlbcyBklGw"
      },
      "source": [
        "Our **X** will be the sparse matrices and the feature names from the title and the description, and **Y** will be the labels provided in the csv file.\n",
        "\n",
        "Validation split is obtained later in the model.fit() function from training data"
      ]
    }
  ]
}