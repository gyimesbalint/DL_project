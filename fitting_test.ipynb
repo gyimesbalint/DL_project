version https://git-lfs.github.com/spec/v1
oid sha256:1159d02f30930d433ac47bdbd7d4b5d87a45c5b51f47c7b7af0c60bee7e2408e
size 86194
