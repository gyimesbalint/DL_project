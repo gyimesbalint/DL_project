version https://git-lfs.github.com/spec/v1
oid sha256:221531158c4a8588ba50baa4547c147141c36ccc29f183b66f414a3d53cda0ce
size 2338281
