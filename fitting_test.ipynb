{
  "nbformat": 4,
  "nbformat_minor": 0,
  "metadata": {
    "accelerator": "TPU",
    "colab": {
      "name": "fitting_test.ipynb",
      "provenance": [],
      "collapsed_sections": [],
      "include_colab_link": true
    },
    "kernelspec": {
      "display_name": "Python 3",
      "language": "python",
      "name": "python3"
    },
    "language_info": {
      "codemirror_mode": {
        "name": "ipython",
        "version": 3
      },
      "file_extension": ".py",
      "mimetype": "text/x-python",
      "name": "python",
      "nbconvert_exporter": "python",
      "pygments_lexer": "ipython3",
      "version": "3.6.13"
    }
  },
  "cells": [
    {
      "cell_type": "markdown",
      "metadata": {
        "id": "view-in-github",
        "colab_type": "text"
      },
      "source": [
        "<a href=\"https://colab.research.google.com/github/gyimesbalint/DL_project/blob/main/fitting_test.ipynb\" target=\"_parent\"><img src=\"https://colab.research.google.com/assets/colab-badge.svg\" alt=\"Open In Colab\"/></a>"
      ]
    },
    {
      "cell_type": "markdown",
      "metadata": {
        "id": "ssQLrwJ3b8F1"
      },
      "source": [
        "#Importing datasets"
      ]
    },
    {
      "cell_type": "code",
      "metadata": {
        "colab": {
          "base_uri": "https://localhost:8080/"
        },
        "id": "K2gR-BhaV0Mr",
        "outputId": "8e18cd60-7ee6-4f9f-fae9-6d9b24e7abab"
      },
      "source": [
        "# https://drive.google.com/file/d/1pmNSD1nbYHEAiP065s4akRXHMWFs9Dqw/view?usp=sharing DBpedia train.csv\n",
        "# https://drive.google.com/file/d/1mKededzdbJsWQnwsu-R_WSILYSvNEY7c/view?usp=sharing DBpedia test.csv\n",
        "!pip install gdown\n",
        "!gdown --id 1pmNSD1nbYHEAiP065s4akRXHMWFs9Dqw --output train.csv  #import train.csv from drive\n",
        "!gdown --id 1mKededzdbJsWQnwsu-R_WSILYSvNEY7c --output test.csv   #import test.csv from drive"
      ],
      "execution_count": 1,
      "outputs": [
        {
          "output_type": "stream",
          "name": "stdout",
          "text": [
            "Requirement already satisfied: gdown in /usr/local/lib/python3.7/dist-packages (3.6.4)\n",
            "Requirement already satisfied: requests in /usr/local/lib/python3.7/dist-packages (from gdown) (2.23.0)\n",
            "Requirement already satisfied: tqdm in /usr/local/lib/python3.7/dist-packages (from gdown) (4.62.3)\n",
            "Requirement already satisfied: six in /usr/local/lib/python3.7/dist-packages (from gdown) (1.15.0)\n",
            "Requirement already satisfied: urllib3!=1.25.0,!=1.25.1,<1.26,>=1.21.1 in /usr/local/lib/python3.7/dist-packages (from requests->gdown) (1.24.3)\n",
            "Requirement already satisfied: certifi>=2017.4.17 in /usr/local/lib/python3.7/dist-packages (from requests->gdown) (2021.10.8)\n",
            "Requirement already satisfied: idna<3,>=2.5 in /usr/local/lib/python3.7/dist-packages (from requests->gdown) (2.10)\n",
            "Requirement already satisfied: chardet<4,>=3.0.2 in /usr/local/lib/python3.7/dist-packages (from requests->gdown) (3.0.4)\n",
            "Downloading...\n",
            "From: https://drive.google.com/uc?id=1pmNSD1nbYHEAiP065s4akRXHMWFs9Dqw\n",
            "To: /content/train.csv\n",
            "100% 174M/174M [00:01<00:00, 148MB/s]\n",
            "Downloading...\n",
            "From: https://drive.google.com/uc?id=1mKededzdbJsWQnwsu-R_WSILYSvNEY7c\n",
            "To: /content/test.csv\n",
            "100% 21.8M/21.8M [00:00<00:00, 80.6MB/s]\n"
          ]
        }
      ]
    },
    {
      "cell_type": "code",
      "metadata": {
        "id": "a7DxLlchmrSG"
      },
      "source": [
        "import numpy as np\n",
        "import pandas as pd\n",
        "\n",
        "train_data = pd.read_csv('train.csv', encoding='utf8',header=None) #read csv to dataframe\n",
        "test_data = pd.read_csv('test.csv', encoding='utf8',header=None)   #read csv to dataframe\n",
        "\n",
        "train_data.where(train_data[0] < 6, inplace = True)  #select first 5 categories\n",
        "train_data = train_data[train_data[0].notnull()]     #remove NaN values\n",
        "\n",
        "test_data.where(test_data[0] < 6, inplace = True)    #select first 5 categories\n",
        "test_data = test_data[test_data[0].notnull()]        #remove NaN values"
      ],
      "execution_count": 2,
      "outputs": []
    },
    {
      "cell_type": "code",
      "metadata": {
        "colab": {
          "base_uri": "https://localhost:8080/",
          "height": 423
        },
        "id": "FOolUWEX56RF",
        "outputId": "b86eba62-5e32-4fe8-a53a-965d141f9134"
      },
      "source": [
        "size_division = 2\n",
        "\n",
        "training_data = train_data.where(train_data[0] == 1.0)\n",
        "training_data = training_data[training_data[0].notnull()]\n",
        "training_data = training_data.head(len(training_data) // size_division)\n",
        "for i in range(2, 6):\n",
        "    tmp = train_data.where(train_data[0] == (i * 1.0))\n",
        "    tmp = tmp[tmp[0].notnull()]\n",
        "    tmp = tmp.head(len(tmp) // size_division)\n",
        "    training_data = pd.concat([training_data, tmp])\n",
        "train_data = training_data #reduce training_data size\n",
        "train_data"
      ],
      "execution_count": 3,
      "outputs": [
        {
          "output_type": "execute_result",
          "data": {
            "text/html": [
              "<div>\n",
              "<style scoped>\n",
              "    .dataframe tbody tr th:only-of-type {\n",
              "        vertical-align: middle;\n",
              "    }\n",
              "\n",
              "    .dataframe tbody tr th {\n",
              "        vertical-align: top;\n",
              "    }\n",
              "\n",
              "    .dataframe thead th {\n",
              "        text-align: right;\n",
              "    }\n",
              "</style>\n",
              "<table border=\"1\" class=\"dataframe\">\n",
              "  <thead>\n",
              "    <tr style=\"text-align: right;\">\n",
              "      <th></th>\n",
              "      <th>0</th>\n",
              "      <th>1</th>\n",
              "      <th>2</th>\n",
              "    </tr>\n",
              "  </thead>\n",
              "  <tbody>\n",
              "    <tr>\n",
              "      <th>0</th>\n",
              "      <td>1.0</td>\n",
              "      <td>E. D. Abbott Ltd</td>\n",
              "      <td>Abbott of Farnham E D Abbott Limited was a Br...</td>\n",
              "    </tr>\n",
              "    <tr>\n",
              "      <th>1</th>\n",
              "      <td>1.0</td>\n",
              "      <td>Schwan-Stabilo</td>\n",
              "      <td>Schwan-STABILO is a German maker of pens for ...</td>\n",
              "    </tr>\n",
              "    <tr>\n",
              "      <th>2</th>\n",
              "      <td>1.0</td>\n",
              "      <td>Q-workshop</td>\n",
              "      <td>Q-workshop is a Polish company located in Poz...</td>\n",
              "    </tr>\n",
              "    <tr>\n",
              "      <th>3</th>\n",
              "      <td>1.0</td>\n",
              "      <td>Marvell Software Solutions Israel</td>\n",
              "      <td>Marvell Software Solutions Israel known as RA...</td>\n",
              "    </tr>\n",
              "    <tr>\n",
              "      <th>4</th>\n",
              "      <td>1.0</td>\n",
              "      <td>Bergan Mercy Medical Center</td>\n",
              "      <td>Bergan Mercy Medical Center is a hospital loc...</td>\n",
              "    </tr>\n",
              "    <tr>\n",
              "      <th>...</th>\n",
              "      <td>...</td>\n",
              "      <td>...</td>\n",
              "      <td>...</td>\n",
              "    </tr>\n",
              "    <tr>\n",
              "      <th>179995</th>\n",
              "      <td>5.0</td>\n",
              "      <td>Pedro de Sousa Holstein 1st Duke of Palmela</td>\n",
              "      <td>D. Pedro de Sousa Holstein 1st Duke of Faial ...</td>\n",
              "    </tr>\n",
              "    <tr>\n",
              "      <th>179996</th>\n",
              "      <td>5.0</td>\n",
              "      <td>Joseph P. Kennedy II</td>\n",
              "      <td>Joseph Patrick Joe Kennedy II (born September...</td>\n",
              "    </tr>\n",
              "    <tr>\n",
              "      <th>179997</th>\n",
              "      <td>5.0</td>\n",
              "      <td>William Legge 1st Earl of Dartmouth</td>\n",
              "      <td>William Legge 1st Earl of Dartmouth (1672-175...</td>\n",
              "    </tr>\n",
              "    <tr>\n",
              "      <th>179998</th>\n",
              "      <td>5.0</td>\n",
              "      <td>Rolando Crespo</td>\n",
              "      <td>Rolando Crespo is a former Representative of ...</td>\n",
              "    </tr>\n",
              "    <tr>\n",
              "      <th>179999</th>\n",
              "      <td>5.0</td>\n",
              "      <td>Ira B. Bradford</td>\n",
              "      <td>Ira B. Bradford (June 24 1851 - September 1 1...</td>\n",
              "    </tr>\n",
              "  </tbody>\n",
              "</table>\n",
              "<p>100000 rows × 3 columns</p>\n",
              "</div>"
            ],
            "text/plain": [
              "          0  ...                                                  2\n",
              "0       1.0  ...   Abbott of Farnham E D Abbott Limited was a Br...\n",
              "1       1.0  ...   Schwan-STABILO is a German maker of pens for ...\n",
              "2       1.0  ...   Q-workshop is a Polish company located in Poz...\n",
              "3       1.0  ...   Marvell Software Solutions Israel known as RA...\n",
              "4       1.0  ...   Bergan Mercy Medical Center is a hospital loc...\n",
              "...     ...  ...                                                ...\n",
              "179995  5.0  ...   D. Pedro de Sousa Holstein 1st Duke of Faial ...\n",
              "179996  5.0  ...   Joseph Patrick Joe Kennedy II (born September...\n",
              "179997  5.0  ...   William Legge 1st Earl of Dartmouth (1672-175...\n",
              "179998  5.0  ...   Rolando Crespo is a former Representative of ...\n",
              "179999  5.0  ...   Ira B. Bradford (June 24 1851 - September 1 1...\n",
              "\n",
              "[100000 rows x 3 columns]"
            ]
          },
          "metadata": {},
          "execution_count": 3
        }
      ]
    },
    {
      "cell_type": "code",
      "metadata": {
        "colab": {
          "base_uri": "https://localhost:8080/",
          "height": 423
        },
        "id": "2oY2JHmj56RH",
        "outputId": "c8f9ae01-ddb7-4c6e-de65-02915c64e998"
      },
      "source": [
        "testing_data = test_data.where(test_data[0] == 1.0)\n",
        "testing_data = testing_data[testing_data[0].notnull()]\n",
        "testing_data = testing_data.head(len(testing_data) // size_division)\n",
        "for i in range(2, 6):\n",
        "    tmp = test_data.where(test_data[0] == (i * 1.0))\n",
        "    tmp = tmp[tmp[0].notnull()]\n",
        "    tmp = tmp.head(len(tmp) // size_division)\n",
        "    testing_data = pd.concat([testing_data, tmp])\n",
        "test_data = testing_data #reduce testing_data size\n",
        "test_data"
      ],
      "execution_count": 4,
      "outputs": [
        {
          "output_type": "execute_result",
          "data": {
            "text/html": [
              "<div>\n",
              "<style scoped>\n",
              "    .dataframe tbody tr th:only-of-type {\n",
              "        vertical-align: middle;\n",
              "    }\n",
              "\n",
              "    .dataframe tbody tr th {\n",
              "        vertical-align: top;\n",
              "    }\n",
              "\n",
              "    .dataframe thead th {\n",
              "        text-align: right;\n",
              "    }\n",
              "</style>\n",
              "<table border=\"1\" class=\"dataframe\">\n",
              "  <thead>\n",
              "    <tr style=\"text-align: right;\">\n",
              "      <th></th>\n",
              "      <th>0</th>\n",
              "      <th>1</th>\n",
              "      <th>2</th>\n",
              "    </tr>\n",
              "  </thead>\n",
              "  <tbody>\n",
              "    <tr>\n",
              "      <th>0</th>\n",
              "      <td>1.0</td>\n",
              "      <td>TY KU</td>\n",
              "      <td>TY KU /taɪkuː/ is an American alcoholic bever...</td>\n",
              "    </tr>\n",
              "    <tr>\n",
              "      <th>1</th>\n",
              "      <td>1.0</td>\n",
              "      <td>Odd Lot Entertainment</td>\n",
              "      <td>OddLot Entertainment founded in 2001 by longt...</td>\n",
              "    </tr>\n",
              "    <tr>\n",
              "      <th>2</th>\n",
              "      <td>1.0</td>\n",
              "      <td>Henkel</td>\n",
              "      <td>Henkel AG &amp; Company KGaA operates worldwide w...</td>\n",
              "    </tr>\n",
              "    <tr>\n",
              "      <th>3</th>\n",
              "      <td>1.0</td>\n",
              "      <td>GOAT Store</td>\n",
              "      <td>The GOAT Store (Games Of All Type Store) LLC ...</td>\n",
              "    </tr>\n",
              "    <tr>\n",
              "      <th>4</th>\n",
              "      <td>1.0</td>\n",
              "      <td>RagWing Aircraft Designs</td>\n",
              "      <td>RagWing Aircraft Designs (also called the Rag...</td>\n",
              "    </tr>\n",
              "    <tr>\n",
              "      <th>...</th>\n",
              "      <td>...</td>\n",
              "      <td>...</td>\n",
              "      <td>...</td>\n",
              "    </tr>\n",
              "    <tr>\n",
              "      <th>22495</th>\n",
              "      <td>5.0</td>\n",
              "      <td>Louis Coppersmith</td>\n",
              "      <td>W. Louis Coppersmith (June 19 1928 – January ...</td>\n",
              "    </tr>\n",
              "    <tr>\n",
              "      <th>22496</th>\n",
              "      <td>5.0</td>\n",
              "      <td>Jeff Johnson (Minnesota politician)</td>\n",
              "      <td>Jeff Johnson (born 1966) is a politician from...</td>\n",
              "    </tr>\n",
              "    <tr>\n",
              "      <th>22497</th>\n",
              "      <td>5.0</td>\n",
              "      <td>Carlos Trujillo</td>\n",
              "      <td>Carlos Trujillo (born on February 25 1983) is...</td>\n",
              "    </tr>\n",
              "    <tr>\n",
              "      <th>22498</th>\n",
              "      <td>5.0</td>\n",
              "      <td>Charles Melvin Price</td>\n",
              "      <td>Charles Melvin Price (January 1 1905 - April ...</td>\n",
              "    </tr>\n",
              "    <tr>\n",
              "      <th>22499</th>\n",
              "      <td>5.0</td>\n",
              "      <td>John Robert Evans</td>\n",
              "      <td>John Robert Evans CC OOnt (born October 1 192...</td>\n",
              "    </tr>\n",
              "  </tbody>\n",
              "</table>\n",
              "<p>12500 rows × 3 columns</p>\n",
              "</div>"
            ],
            "text/plain": [
              "         0  ...                                                  2\n",
              "0      1.0  ...   TY KU /taɪkuː/ is an American alcoholic bever...\n",
              "1      1.0  ...   OddLot Entertainment founded in 2001 by longt...\n",
              "2      1.0  ...   Henkel AG & Company KGaA operates worldwide w...\n",
              "3      1.0  ...   The GOAT Store (Games Of All Type Store) LLC ...\n",
              "4      1.0  ...   RagWing Aircraft Designs (also called the Rag...\n",
              "...    ...  ...                                                ...\n",
              "22495  5.0  ...   W. Louis Coppersmith (June 19 1928 – January ...\n",
              "22496  5.0  ...   Jeff Johnson (born 1966) is a politician from...\n",
              "22497  5.0  ...   Carlos Trujillo (born on February 25 1983) is...\n",
              "22498  5.0  ...   Charles Melvin Price (January 1 1905 - April ...\n",
              "22499  5.0  ...   John Robert Evans CC OOnt (born October 1 192...\n",
              "\n",
              "[12500 rows x 3 columns]"
            ]
          },
          "metadata": {},
          "execution_count": 4
        }
      ]
    },
    {
      "cell_type": "code",
      "metadata": {
        "colab": {
          "base_uri": "https://localhost:8080/",
          "height": 206
        },
        "id": "oC2QSasgcGUv",
        "outputId": "a500ac8a-02fa-4686-ec5b-8bc46f19c3eb"
      },
      "source": [
        "train_data.sample(5) #sample from train data"
      ],
      "execution_count": 5,
      "outputs": [
        {
          "output_type": "execute_result",
          "data": {
            "text/html": [
              "<div>\n",
              "<style scoped>\n",
              "    .dataframe tbody tr th:only-of-type {\n",
              "        vertical-align: middle;\n",
              "    }\n",
              "\n",
              "    .dataframe tbody tr th {\n",
              "        vertical-align: top;\n",
              "    }\n",
              "\n",
              "    .dataframe thead th {\n",
              "        text-align: right;\n",
              "    }\n",
              "</style>\n",
              "<table border=\"1\" class=\"dataframe\">\n",
              "  <thead>\n",
              "    <tr style=\"text-align: right;\">\n",
              "      <th></th>\n",
              "      <th>0</th>\n",
              "      <th>1</th>\n",
              "      <th>2</th>\n",
              "    </tr>\n",
              "  </thead>\n",
              "  <tbody>\n",
              "    <tr>\n",
              "      <th>137430</th>\n",
              "      <td>4.0</td>\n",
              "      <td>Kristian Platt</td>\n",
              "      <td>Kristian Platt (born 15 December 1991 Rock Fe...</td>\n",
              "    </tr>\n",
              "    <tr>\n",
              "      <th>135642</th>\n",
              "      <td>4.0</td>\n",
              "      <td>Vedran Ćorluka</td>\n",
              "      <td>Vedran Ćorluka (pronounced [ʋědran t͡ɕǒrluka]...</td>\n",
              "    </tr>\n",
              "    <tr>\n",
              "      <th>49904</th>\n",
              "      <td>2.0</td>\n",
              "      <td>Vainona High School</td>\n",
              "      <td>Vainona High School is a high school in a plu...</td>\n",
              "    </tr>\n",
              "    <tr>\n",
              "      <th>83420</th>\n",
              "      <td>3.0</td>\n",
              "      <td>Chloé Sainte-Marie</td>\n",
              "      <td>Chloé Sainte-Marie (born Marie-Aline Joyal on...</td>\n",
              "    </tr>\n",
              "    <tr>\n",
              "      <th>43793</th>\n",
              "      <td>2.0</td>\n",
              "      <td>Uppsala University</td>\n",
              "      <td>Uppsala University (Swedish: Uppsala universi...</td>\n",
              "    </tr>\n",
              "  </tbody>\n",
              "</table>\n",
              "</div>"
            ],
            "text/plain": [
              "          0  ...                                                  2\n",
              "137430  4.0  ...   Kristian Platt (born 15 December 1991 Rock Fe...\n",
              "135642  4.0  ...   Vedran Ćorluka (pronounced [ʋědran t͡ɕǒrluka]...\n",
              "49904   2.0  ...   Vainona High School is a high school in a plu...\n",
              "83420   3.0  ...   Chloé Sainte-Marie (born Marie-Aline Joyal on...\n",
              "43793   2.0  ...   Uppsala University (Swedish: Uppsala universi...\n",
              "\n",
              "[5 rows x 3 columns]"
            ]
          },
          "metadata": {},
          "execution_count": 5
        }
      ]
    },
    {
      "cell_type": "code",
      "metadata": {
        "colab": {
          "base_uri": "https://localhost:8080/",
          "height": 206
        },
        "id": "LuZIprN5fGcK",
        "outputId": "69e8c4f3-7146-41cc-9264-613c46c5a9bc"
      },
      "source": [
        "test_data.sample(5) #sample from test data"
      ],
      "execution_count": 6,
      "outputs": [
        {
          "output_type": "execute_result",
          "data": {
            "text/html": [
              "<div>\n",
              "<style scoped>\n",
              "    .dataframe tbody tr th:only-of-type {\n",
              "        vertical-align: middle;\n",
              "    }\n",
              "\n",
              "    .dataframe tbody tr th {\n",
              "        vertical-align: top;\n",
              "    }\n",
              "\n",
              "    .dataframe thead th {\n",
              "        text-align: right;\n",
              "    }\n",
              "</style>\n",
              "<table border=\"1\" class=\"dataframe\">\n",
              "  <thead>\n",
              "    <tr style=\"text-align: right;\">\n",
              "      <th></th>\n",
              "      <th>0</th>\n",
              "      <th>1</th>\n",
              "      <th>2</th>\n",
              "    </tr>\n",
              "  </thead>\n",
              "  <tbody>\n",
              "    <tr>\n",
              "      <th>2065</th>\n",
              "      <td>1.0</td>\n",
              "      <td>Arts Marketing Association</td>\n",
              "      <td>The Arts Marketing Association (AMA) is a pro...</td>\n",
              "    </tr>\n",
              "    <tr>\n",
              "      <th>6332</th>\n",
              "      <td>2.0</td>\n",
              "      <td>Mewar University</td>\n",
              "      <td>Mewar University is an autonomous body set up...</td>\n",
              "    </tr>\n",
              "    <tr>\n",
              "      <th>12367</th>\n",
              "      <td>3.0</td>\n",
              "      <td>Hi-Yo Silver!</td>\n",
              "      <td>Hi-Yo Silver! was a musical solo project by B...</td>\n",
              "    </tr>\n",
              "    <tr>\n",
              "      <th>21494</th>\n",
              "      <td>5.0</td>\n",
              "      <td>Ashraf Abdelwahab</td>\n",
              "      <td>Ashraf Hassan Abdelwahab (Arabic: أشرف حسن عب...</td>\n",
              "    </tr>\n",
              "    <tr>\n",
              "      <th>1897</th>\n",
              "      <td>1.0</td>\n",
              "      <td>Lockheed Corporation</td>\n",
              "      <td>The Lockheed Corporation (originally Loughead...</td>\n",
              "    </tr>\n",
              "  </tbody>\n",
              "</table>\n",
              "</div>"
            ],
            "text/plain": [
              "         0  ...                                                  2\n",
              "2065   1.0  ...   The Arts Marketing Association (AMA) is a pro...\n",
              "6332   2.0  ...   Mewar University is an autonomous body set up...\n",
              "12367  3.0  ...   Hi-Yo Silver! was a musical solo project by B...\n",
              "21494  5.0  ...   Ashraf Hassan Abdelwahab (Arabic: أشرف حسن عب...\n",
              "1897   1.0  ...   The Lockheed Corporation (originally Loughead...\n",
              "\n",
              "[5 rows x 3 columns]"
            ]
          },
          "metadata": {},
          "execution_count": 6
        }
      ]
    },
    {
      "cell_type": "code",
      "metadata": {
        "id": "xIdmfSJsm4ZN",
        "colab": {
          "base_uri": "https://localhost:8080/"
        },
        "outputId": "91322da0-871c-4a46-ee7d-7fa2edbc3157"
      },
      "source": [
        "train_label = pd.to_numeric(train_data.iloc[:,0]) #select labels (int) from train data\n",
        "train_text = train_data.iloc[:,1:3] #select article text from train data\n",
        "train_label.shape"
      ],
      "execution_count": 7,
      "outputs": [
        {
          "output_type": "execute_result",
          "data": {
            "text/plain": [
              "(100000,)"
            ]
          },
          "metadata": {},
          "execution_count": 7
        }
      ]
    },
    {
      "cell_type": "code",
      "metadata": {
        "id": "dbfQMlpGpJY1",
        "colab": {
          "base_uri": "https://localhost:8080/"
        },
        "outputId": "24090c40-8e32-4d9c-f477-21e485ddbc91"
      },
      "source": [
        "test_label = pd.to_numeric(test_data.iloc[:,0]) #select labels (int) from test data\n",
        "test_text = test_data.iloc[:,1:3] #select article text from train data\n",
        "test_label.shape"
      ],
      "execution_count": 8,
      "outputs": [
        {
          "output_type": "execute_result",
          "data": {
            "text/plain": [
              "(12500,)"
            ]
          },
          "metadata": {},
          "execution_count": 8
        }
      ]
    },
    {
      "cell_type": "markdown",
      "metadata": {
        "id": "tqOIQiMFcCKk"
      },
      "source": [
        "#Pre-processing"
      ]
    },
    {
      "cell_type": "code",
      "metadata": {
        "colab": {
          "base_uri": "https://localhost:8080/"
        },
        "id": "eGd_NGTLql8R",
        "outputId": "c3f319da-5e36-44c0-c828-ed9b49fc5b17"
      },
      "source": [
        "from sklearn.feature_extraction.text import CountVectorizer #vectorizer for article text data\n",
        "from nltk.corpus import stopwords #stopwords for desktop usage\n",
        "import nltk\n",
        "nltk.download('stopwords') #stopwords for collab notebook"
      ],
      "execution_count": 9,
      "outputs": [
        {
          "output_type": "stream",
          "name": "stdout",
          "text": [
            "[nltk_data] Downloading package stopwords to /root/nltk_data...\n",
            "[nltk_data]   Package stopwords is already up-to-date!\n"
          ]
        },
        {
          "output_type": "execute_result",
          "data": {
            "text/plain": [
              "True"
            ]
          },
          "metadata": {},
          "execution_count": 9
        }
      ]
    },
    {
      "cell_type": "code",
      "metadata": {
        "id": "0sdo8wL7CGFM"
      },
      "source": [
        "vectorizer = CountVectorizer(stop_words=stopwords.words('english'), analyzer='word', ngram_range=(1, 1)) #vectorizer for words, removing stopwords"
      ],
      "execution_count": 10,
      "outputs": []
    },
    {
      "cell_type": "code",
      "metadata": {
        "id": "8x0-IR01DRW6"
      },
      "source": [
        "test_title = test_text.iloc[:,0] #select titles from test text\n",
        "test_desc = test_text.iloc[:,1]  #select descriptions from test text"
      ],
      "execution_count": 11,
      "outputs": []
    },
    {
      "cell_type": "code",
      "metadata": {
        "id": "yuKl7x3U33gu"
      },
      "source": [
        "train_title = train_text.iloc[:,0] #select titles from train text\n",
        "train_desc = train_text.iloc[:,1]  #select descriptions from train text"
      ],
      "execution_count": 12,
      "outputs": []
    },
    {
      "cell_type": "code",
      "metadata": {
        "id": "t_3wCcvAmo_N"
      },
      "source": [
        "titles = pd.concat([test_title, train_title]) #concat titles for vectorazition\n",
        "descs = pd.concat([test_desc, train_desc]) #concat descriptions for vectorazition"
      ],
      "execution_count": 13,
      "outputs": []
    },
    {
      "cell_type": "code",
      "metadata": {
        "colab": {
          "base_uri": "https://localhost:8080/"
        },
        "id": "SyFZpmsYEuLP",
        "outputId": "42d33de0-4fc8-4a25-c6c7-49fbdf41d98b"
      },
      "source": [
        "titles = pd.DataFrame.sparse.from_spmatrix(vectorizer.fit_transform(titles)) #vectorizing test_title and adding it to a dataframe\n",
        "title_feature_names = np.asarray(vectorizer.get_feature_names()) #getting all feature names for test_title\n",
        "descs = pd.DataFrame.sparse.from_spmatrix(vectorizer.fit_transform(descs)) #vectorizing test_desc and adding it to a dataframe\n",
        "desc_feature_names = np.asarray(vectorizer.get_feature_names()) #getting all feature names for test_desc"
      ],
      "execution_count": 14,
      "outputs": [
        {
          "output_type": "stream",
          "name": "stderr",
          "text": [
            "/usr/local/lib/python3.7/dist-packages/sklearn/utils/deprecation.py:87: FutureWarning: Function get_feature_names is deprecated; get_feature_names is deprecated in 1.0 and will be removed in 1.2. Please use get_feature_names_out instead.\n",
            "  warnings.warn(msg, category=FutureWarning)\n"
          ]
        }
      ]
    },
    {
      "cell_type": "code",
      "metadata": {
        "id": "a5_xy05SwC6g"
      },
      "source": [
        "word_rarity = 8\n",
        "\n",
        "titles = titles.loc[:, titles.sum(axis=0) > word_rarity] #remove extremely rare words"
      ],
      "execution_count": 15,
      "outputs": []
    },
    {
      "cell_type": "code",
      "metadata": {
        "colab": {
          "base_uri": "https://localhost:8080/"
        },
        "id": "4tyVH1MKzbbO",
        "outputId": "4056f0da-b2d7-4cc1-90ec-56245dc32e1a"
      },
      "source": [
        "titles.shape"
      ],
      "execution_count": 16,
      "outputs": [
        {
          "output_type": "execute_result",
          "data": {
            "text/plain": [
              "(112500, 3948)"
            ]
          },
          "metadata": {},
          "execution_count": 16
        }
      ]
    },
    {
      "cell_type": "code",
      "metadata": {
        "id": "qKD2R761ndPh"
      },
      "source": [
        "descs = descs.loc[:, descs.sum(axis=0) > word_rarity] #remove extremely rare words"
      ],
      "execution_count": 17,
      "outputs": []
    },
    {
      "cell_type": "code",
      "metadata": {
        "id": "xK_KvFgDR1si",
        "colab": {
          "base_uri": "https://localhost:8080/"
        },
        "outputId": "bdc61b84-daf8-45dc-95fc-e8bd6d03f741"
      },
      "source": [
        "descs.shape"
      ],
      "execution_count": 18,
      "outputs": [
        {
          "output_type": "execute_result",
          "data": {
            "text/plain": [
              "(112500, 23472)"
            ]
          },
          "metadata": {},
          "execution_count": 18
        }
      ]
    },
    {
      "cell_type": "code",
      "metadata": {
        "colab": {
          "base_uri": "https://localhost:8080/"
        },
        "id": "7H4Pac1xoYgu",
        "outputId": "236a6623-2c55-45ad-a9d1-77907804db46"
      },
      "source": [
        "test_title = titles.head(len(test_title.index)) #split vectorized data\n",
        "test_title.shape"
      ],
      "execution_count": 19,
      "outputs": [
        {
          "output_type": "execute_result",
          "data": {
            "text/plain": [
              "(12500, 3948)"
            ]
          },
          "metadata": {},
          "execution_count": 19
        }
      ]
    },
    {
      "cell_type": "code",
      "metadata": {
        "colab": {
          "base_uri": "https://localhost:8080/"
        },
        "id": "XqEi2-fBhGtB",
        "outputId": "d623075a-e9ce-4052-809c-da91b7a42e9f"
      },
      "source": [
        "#First 5 rows and feature names obtained with the vectoritzer\n",
        "print(test_title[0:5])\n",
        "print(title_feature_names[0:5])"
      ],
      "execution_count": 20,
      "outputs": [
        {
          "output_type": "stream",
          "name": "stdout",
          "text": [
            "   232    236    237    238    239    ...  77371  77372  77385  77508  77638\n",
            "0      0      0      0      0      0  ...      0      0      0      0      0\n",
            "1      0      0      0      0      0  ...      0      0      0      0      0\n",
            "2      0      0      0      0      0  ...      0      0      0      0      0\n",
            "3      0      0      0      0      0  ...      0      0      0      0      0\n",
            "4      0      0      0      0      0  ...      0      0      0      0      0\n",
            "\n",
            "[5 rows x 3948 columns]\n",
            "['002' '07' '0verflow' '10' '100']\n"
          ]
        }
      ]
    },
    {
      "cell_type": "code",
      "metadata": {
        "id": "z5txOGWsp_G_"
      },
      "source": [
        "test_desc = descs.head(len(test_desc.index))"
      ],
      "execution_count": 21,
      "outputs": []
    },
    {
      "cell_type": "code",
      "metadata": {
        "id": "E12HiVEU08Qs",
        "colab": {
          "base_uri": "https://localhost:8080/"
        },
        "outputId": "32667c26-1459-4cf8-939e-e360bef5be57"
      },
      "source": [
        "test_desc.shape"
      ],
      "execution_count": 22,
      "outputs": [
        {
          "output_type": "execute_result",
          "data": {
            "text/plain": [
              "(12500, 23472)"
            ]
          },
          "metadata": {},
          "execution_count": 22
        }
      ]
    },
    {
      "cell_type": "code",
      "metadata": {
        "id": "ukBvNK_bpH-J",
        "colab": {
          "base_uri": "https://localhost:8080/"
        },
        "outputId": "62f4dc80-2be4-44d7-dc04-ada21ac94666"
      },
      "source": [
        "#First 5 rows and feature names obtained with the vectorizer\n",
        "print(test_desc[0:5])"
      ],
      "execution_count": 23,
      "outputs": [
        {
          "output_type": "stream",
          "name": "stdout",
          "text": [
            "   0       1       47      63      ...  200778  201952  201965  202410\n",
            "0       0       0       0       0  ...       0       0       0       0\n",
            "1       0       0       0       0  ...       0       0       0       0\n",
            "2       0       0       0       0  ...       0       0       0       0\n",
            "3       0       0       0       0  ...       0       0       0       0\n",
            "4       0       0       0       0  ...       0       0       0       0\n",
            "\n",
            "[5 rows x 23472 columns]\n"
          ]
        }
      ]
    },
    {
      "cell_type": "code",
      "metadata": {
        "id": "-54u7V4OFOnh"
      },
      "source": [
        "train_title = titles.tail(len(titles) - len(test_title)) #split vectorized data"
      ],
      "execution_count": 24,
      "outputs": []
    },
    {
      "cell_type": "code",
      "metadata": {
        "colab": {
          "base_uri": "https://localhost:8080/"
        },
        "id": "SsJ1HLPjycIQ",
        "outputId": "399c2bae-b360-405f-f497-ef8de165b37a"
      },
      "source": [
        "train_title.shape"
      ],
      "execution_count": 25,
      "outputs": [
        {
          "output_type": "execute_result",
          "data": {
            "text/plain": [
              "(100000, 3948)"
            ]
          },
          "metadata": {},
          "execution_count": 25
        }
      ]
    },
    {
      "cell_type": "code",
      "metadata": {
        "colab": {
          "base_uri": "https://localhost:8080/"
        },
        "id": "AXIH2FymkHOK",
        "outputId": "ad617be0-c235-4955-d85c-1b3255f7031e"
      },
      "source": [
        "#First 5 rows and feature names obtained with the vectoritzer\n",
        "print(train_title[0:5])"
      ],
      "execution_count": 26,
      "outputs": [
        {
          "output_type": "stream",
          "name": "stdout",
          "text": [
            "       232    236    237    238    239    ...  77371  77372  77385  77508  77638\n",
            "12500      0      0      0      0      0  ...      0      0      0      0      0\n",
            "12501      0      0      0      0      0  ...      0      0      0      0      0\n",
            "12502      0      0      0      0      0  ...      0      0      0      0      0\n",
            "12503      0      0      0      0      0  ...      0      0      0      0      0\n",
            "12504      0      0      0      0      0  ...      0      0      0      0      0\n",
            "\n",
            "[5 rows x 3948 columns]\n"
          ]
        }
      ]
    },
    {
      "cell_type": "code",
      "metadata": {
        "id": "SKbN2KbbsUqd"
      },
      "source": [
        "train_desc = descs.tail(len(descs) - len(test_desc.index))"
      ],
      "execution_count": 27,
      "outputs": []
    },
    {
      "cell_type": "code",
      "metadata": {
        "id": "BFNdC3fUza2X",
        "colab": {
          "base_uri": "https://localhost:8080/"
        },
        "outputId": "6caf496f-310b-4591-c88e-7f7e299252a7"
      },
      "source": [
        "train_desc.shape"
      ],
      "execution_count": 28,
      "outputs": [
        {
          "output_type": "execute_result",
          "data": {
            "text/plain": [
              "(100000, 23472)"
            ]
          },
          "metadata": {},
          "execution_count": 28
        }
      ]
    },
    {
      "cell_type": "code",
      "metadata": {
        "id": "SmOXEY0fq3Pu",
        "colab": {
          "base_uri": "https://localhost:8080/"
        },
        "outputId": "f86aa56e-dc98-455d-80e7-c9397f9645a7"
      },
      "source": [
        "#First 5 rows and feature names obtained with the vectoritzer\n",
        "print(train_desc[0:5])"
      ],
      "execution_count": 29,
      "outputs": [
        {
          "output_type": "stream",
          "name": "stdout",
          "text": [
            "       0       1       47      63      ...  200778  201952  201965  202410\n",
            "12500       0       0       0       0  ...       0       0       0       0\n",
            "12501       0       0       0       0  ...       0       0       0       0\n",
            "12502       0       0       0       0  ...       0       0       0       0\n",
            "12503       0       0       0       0  ...       0       0       0       0\n",
            "12504       0       0       0       0  ...       0       0       0       0\n",
            "\n",
            "[5 rows x 23472 columns]\n"
          ]
        }
      ]
    },
    {
      "cell_type": "code",
      "metadata": {
        "id": "omfbCxvr-aJl"
      },
      "source": [
        "from scipy.sparse import csr_matrix #for min-max scaling sparse matrices"
      ],
      "execution_count": 30,
      "outputs": []
    },
    {
      "cell_type": "code",
      "metadata": {
        "id": "_B3DpLPb7Dku"
      },
      "source": [
        "def normalize(df): #function for min-max scaling of dataframes\n",
        "    result = df.copy()\n",
        "    for feature_name in df.columns:\n",
        "        max_value = csr_matrix(df[feature_name]).max()\n",
        "        min_value = csr_matrix(df[feature_name]).min()\n",
        "        result[feature_name] = (df[feature_name] - min_value) / max((max_value - min_value), 1)\n",
        "    return result"
      ],
      "execution_count": 31,
      "outputs": []
    },
    {
      "cell_type": "code",
      "metadata": {
        "id": "xofqUiCj51N2"
      },
      "source": [
        "test_title = normalize(test_title) #min-max scale test_title"
      ],
      "execution_count": 32,
      "outputs": []
    },
    {
      "cell_type": "code",
      "metadata": {
        "colab": {
          "base_uri": "https://localhost:8080/"
        },
        "id": "ZZtMnnUptxIn",
        "outputId": "8e6f74da-e8f8-4558-cf4f-d46eadd61b1e"
      },
      "source": [
        "print(test_title[0:5])"
      ],
      "execution_count": 33,
      "outputs": [
        {
          "output_type": "stream",
          "name": "stdout",
          "text": [
            "   232    236    237    238    239    ...  77371  77372  77385  77508  77638\n",
            "0    0.0    0.0    0.0    0.0    0.0  ...    0.0    0.0    0.0    0.0    0.0\n",
            "1    0.0    0.0    0.0    0.0    0.0  ...    0.0    0.0    0.0    0.0    0.0\n",
            "2    0.0    0.0    0.0    0.0    0.0  ...    0.0    0.0    0.0    0.0    0.0\n",
            "3    0.0    0.0    0.0    0.0    0.0  ...    0.0    0.0    0.0    0.0    0.0\n",
            "4    0.0    0.0    0.0    0.0    0.0  ...    0.0    0.0    0.0    0.0    0.0\n",
            "\n",
            "[5 rows x 3948 columns]\n"
          ]
        }
      ]
    },
    {
      "cell_type": "code",
      "metadata": {
        "id": "4v9lEKB951N2"
      },
      "source": [
        "test_desc = normalize(test_desc) #min-max scale test_desc"
      ],
      "execution_count": 34,
      "outputs": []
    },
    {
      "cell_type": "code",
      "metadata": {
        "id": "cH74B7tUtxgF",
        "colab": {
          "base_uri": "https://localhost:8080/"
        },
        "outputId": "60bc2d9d-28dc-4f8f-c80b-330b0f67875a"
      },
      "source": [
        "print(test_desc[0:5])"
      ],
      "execution_count": 35,
      "outputs": [
        {
          "output_type": "stream",
          "name": "stdout",
          "text": [
            "   0       1       47      63      ...  200778  201952  201965  202410\n",
            "0     0.0     0.0     0.0     0.0  ...     0.0     0.0     0.0     0.0\n",
            "1     0.0     0.0     0.0     0.0  ...     0.0     0.0     0.0     0.0\n",
            "2     0.0     0.0     0.0     0.0  ...     0.0     0.0     0.0     0.0\n",
            "3     0.0     0.0     0.0     0.0  ...     0.0     0.0     0.0     0.0\n",
            "4     0.0     0.0     0.0     0.0  ...     0.0     0.0     0.0     0.0\n",
            "\n",
            "[5 rows x 23472 columns]\n"
          ]
        }
      ]
    },
    {
      "cell_type": "code",
      "metadata": {
        "id": "seP8jG3CB-qB"
      },
      "source": [
        "train_title = normalize(train_title) #min-max scale train_title"
      ],
      "execution_count": 36,
      "outputs": []
    },
    {
      "cell_type": "code",
      "metadata": {
        "colab": {
          "base_uri": "https://localhost:8080/"
        },
        "id": "Z37ue-AbtxyD",
        "outputId": "b6712957-3793-4e5f-f61a-93d340dfc78e"
      },
      "source": [
        "print(train_title[0:5])"
      ],
      "execution_count": 37,
      "outputs": [
        {
          "output_type": "stream",
          "name": "stdout",
          "text": [
            "       232    236    237    238    239    ...  77371  77372  77385  77508  77638\n",
            "12500    0.0    0.0    0.0    0.0    0.0  ...    0.0    0.0    0.0    0.0    0.0\n",
            "12501    0.0    0.0    0.0    0.0    0.0  ...    0.0    0.0    0.0    0.0    0.0\n",
            "12502    0.0    0.0    0.0    0.0    0.0  ...    0.0    0.0    0.0    0.0    0.0\n",
            "12503    0.0    0.0    0.0    0.0    0.0  ...    0.0    0.0    0.0    0.0    0.0\n",
            "12504    0.0    0.0    0.0    0.0    0.0  ...    0.0    0.0    0.0    0.0    0.0\n",
            "\n",
            "[5 rows x 3948 columns]\n"
          ]
        }
      ]
    },
    {
      "cell_type": "code",
      "metadata": {
        "id": "t7My4oYrSmLv"
      },
      "source": [
        "train_desc = normalize(train_desc) #min-max scale train_desc"
      ],
      "execution_count": 38,
      "outputs": []
    },
    {
      "cell_type": "code",
      "metadata": {
        "id": "lAJvee20tyUd",
        "colab": {
          "base_uri": "https://localhost:8080/"
        },
        "outputId": "2b6dfb1a-146f-4946-ac19-884c77aefea3"
      },
      "source": [
        "print(train_desc[0:5])"
      ],
      "execution_count": 39,
      "outputs": [
        {
          "output_type": "stream",
          "name": "stdout",
          "text": [
            "       0       1       47      63      ...  200778  201952  201965  202410\n",
            "12500     0.0     0.0     0.0     0.0  ...     0.0     0.0     0.0     0.0\n",
            "12501     0.0     0.0     0.0     0.0  ...     0.0     0.0     0.0     0.0\n",
            "12502     0.0     0.0     0.0     0.0  ...     0.0     0.0     0.0     0.0\n",
            "12503     0.0     0.0     0.0     0.0  ...     0.0     0.0     0.0     0.0\n",
            "12504     0.0     0.0     0.0     0.0  ...     0.0     0.0     0.0     0.0\n",
            "\n",
            "[5 rows x 23472 columns]\n"
          ]
        }
      ]
    },
    {
      "cell_type": "code",
      "metadata": {
        "colab": {
          "base_uri": "https://localhost:8080/"
        },
        "id": "_SyYggbJorJj",
        "outputId": "0d9bdeaf-79b9-4a30-c4d5-913762941199"
      },
      "source": [
        "train_set = pd.concat([train_title, train_desc], axis=1)\n",
        "\n",
        "input_shape = train_set.iloc[0].shape\n",
        "input_shape #get input_shape for the model"
      ],
      "execution_count": 40,
      "outputs": [
        {
          "output_type": "execute_result",
          "data": {
            "text/plain": [
              "(27420,)"
            ]
          },
          "metadata": {},
          "execution_count": 40
        }
      ]
    },
    {
      "cell_type": "code",
      "source": [
        "from sklearn.model_selection import train_test_split\n",
        "\n",
        "test_set = pd.concat([test_title, test_desc], axis=1)\n",
        "test_size = 0.5\n",
        "val_set, test_set, val_label, test_label = train_test_split(test_set, test_label, test_size=test_size) #create validation sets"
      ],
      "metadata": {
        "id": "K7mNmdPEsyuF"
      },
      "execution_count": 41,
      "outputs": []
    },
    {
      "cell_type": "code",
      "source": [
        "from tensorflow.keras.utils import to_categorical\n",
        "val_set = val_set.to_numpy()\n",
        "\n",
        "val_label = val_label.to_numpy()\n",
        "val_label = val_label - 1\n",
        "val_label = to_categorical(val_label, num_classes=5) #reshape val_label from int to categorical\n",
        "val_label"
      ],
      "metadata": {
        "id": "5n3zApCVs5Vy",
        "outputId": "757a31cd-b1d3-4958-f794-9d6bcf0b4694",
        "colab": {
          "base_uri": "https://localhost:8080/"
        }
      },
      "execution_count": 42,
      "outputs": [
        {
          "output_type": "execute_result",
          "data": {
            "text/plain": [
              "array([[0., 0., 0., 1., 0.],\n",
              "       [0., 0., 0., 0., 1.],\n",
              "       [0., 0., 0., 1., 0.],\n",
              "       ...,\n",
              "       [0., 1., 0., 0., 0.],\n",
              "       [0., 1., 0., 0., 0.],\n",
              "       [1., 0., 0., 0., 0.]], dtype=float32)"
            ]
          },
          "metadata": {},
          "execution_count": 42
        }
      ]
    },
    {
      "cell_type": "code",
      "source": [
        "test_set = test_set.to_numpy()\n",
        "\n",
        "test_label = test_label.to_numpy()\n",
        "test_label = test_label - 1\n",
        "test_label = to_categorical(test_label, num_classes=5) #reshape test_label from int to categorical\n",
        "test_label"
      ],
      "metadata": {
        "id": "Or-F2DXUtClG",
        "outputId": "cf22d2d0-0322-4f45-d190-5bd78077f25c",
        "colab": {
          "base_uri": "https://localhost:8080/"
        }
      },
      "execution_count": 43,
      "outputs": [
        {
          "output_type": "execute_result",
          "data": {
            "text/plain": [
              "array([[0., 0., 0., 0., 1.],\n",
              "       [0., 0., 0., 0., 1.],\n",
              "       [0., 1., 0., 0., 0.],\n",
              "       ...,\n",
              "       [0., 0., 1., 0., 0.],\n",
              "       [0., 0., 1., 0., 0.],\n",
              "       [0., 0., 0., 1., 0.]], dtype=float32)"
            ]
          },
          "metadata": {},
          "execution_count": 43
        }
      ]
    },
    {
      "cell_type": "markdown",
      "source": [
        "Our **X** will be the sparse matrices and the feature names from the title and the description, and **Y** will be the labels provided in the csv file."
      ],
      "metadata": {
        "id": "5ehOnrvetQ_s"
      }
    },
    {
      "cell_type": "markdown",
      "source": [
        "# Data generator"
      ],
      "metadata": {
        "id": "d7cQB6dmsmDu"
      }
    },
    {
      "cell_type": "code",
      "source": [
        "from tensorflow.keras.utils import Sequence, to_categorical\n",
        "\n",
        "class DataGenerator(Sequence): #custom data generator\n",
        "    'Generates data for Keras'\n",
        "    def __init__(self, list_IDs, labels, batch_size=4, dim=(input_shape[0]), n_channels=1,\n",
        "                 n_classes=5, shuffle=True):\n",
        "        #Initialization\n",
        "        self.dim = dim\n",
        "        self.batch_size = batch_size\n",
        "        self.labels = labels\n",
        "        self.list_IDs = list_IDs\n",
        "        self.n_channels = n_channels\n",
        "        self.n_classes = n_classes\n",
        "        self.shuffle = shuffle\n",
        "        self.on_epoch_end()\n",
        "\n",
        "    def __len__(self):\n",
        "        #Denotes the number of batches per epoch\n",
        "        return int(np.floor(len(self.list_IDs) / self.batch_size))\n",
        "\n",
        "    def __getitem__(self, index):\n",
        "        #Generate one batch of data\n",
        "        # Generate indexes of the batch\n",
        "        indexes = self.indexes[index*self.batch_size:(index+1)*self.batch_size]\n",
        "        # Generate data\n",
        "        X, y = self.__data_generation(indexes)\n",
        "\n",
        "        return X, y\n",
        "\n",
        "    def on_epoch_end(self):\n",
        "        #Updates indexes after each epoch\n",
        "        self.indexes = np.arange(len(self.list_IDs))\n",
        "        if self.shuffle == True:\n",
        "            np.random.shuffle(self.indexes)\n",
        "\n",
        "    def __data_generation(self, list_IDs_temp):\n",
        "        #Generates data containing batch_size samples\n",
        "        # X : (n_samples, *dim, n_channels)\n",
        "        # Initialization\n",
        "        X = np.empty((self.batch_size, self.dim))#, self.n_channels))\n",
        "        y = np.empty((self.batch_size), dtype=int)\n",
        "        # Generate data\n",
        "        for i in range(len(list_IDs_temp)):\n",
        "            # Store sample\n",
        "            X[i] = self.list_IDs.iloc[list_IDs_temp[i]].to_numpy()#.reshape(self.dim, self.n_channels)\n",
        "\n",
        "            # Store class\n",
        "            y[i] = self.labels.iloc[list_IDs_temp[i]]\n",
        "\n",
        "        return X, to_categorical(y - 1, num_classes=self.n_classes)"
      ],
      "metadata": {
        "id": "FKqd9dkYswl5"
      },
      "execution_count": 44,
      "outputs": []
    },
    {
      "cell_type": "code",
      "source": [
        "train_generator = DataGenerator(train_set, train_label)"
      ],
      "metadata": {
        "id": "Jr_QRj34s1F_"
      },
      "execution_count": 45,
      "outputs": []
    },
    {
      "cell_type": "markdown",
      "metadata": {
        "id": "FHdJewoCstfr"
      },
      "source": [
        "#Hyperparameter tuning"
      ]
    },
    {
      "cell_type": "code",
      "metadata": {
        "id": "in3fW_ywrkWU"
      },
      "source": [
        "%tensorflow_version 2.x"
      ],
      "execution_count": 46,
      "outputs": []
    },
    {
      "cell_type": "code",
      "source": [
        "!pip install keras-tuner"
      ],
      "metadata": {
        "colab": {
          "base_uri": "https://localhost:8080/"
        },
        "id": "B3f5e9XtpKDg",
        "outputId": "4f771867-696a-4dd2-adcb-b54785c840d6"
      },
      "execution_count": 47,
      "outputs": [
        {
          "output_type": "stream",
          "name": "stdout",
          "text": [
            "Collecting keras-tuner\n",
            "  Downloading keras_tuner-1.1.0-py3-none-any.whl (98 kB)\n",
            "\u001b[?25l\r\u001b[K     |███▍                            | 10 kB 15.3 MB/s eta 0:00:01\r\u001b[K     |██████▊                         | 20 kB 18.5 MB/s eta 0:00:01\r\u001b[K     |██████████                      | 30 kB 13.9 MB/s eta 0:00:01\r\u001b[K     |█████████████▍                  | 40 kB 10.2 MB/s eta 0:00:01\r\u001b[K     |████████████████▊               | 51 kB 5.4 MB/s eta 0:00:01\r\u001b[K     |████████████████████            | 61 kB 5.5 MB/s eta 0:00:01\r\u001b[K     |███████████████████████▍        | 71 kB 6.2 MB/s eta 0:00:01\r\u001b[K     |██████████████████████████▊     | 81 kB 7.0 MB/s eta 0:00:01\r\u001b[K     |██████████████████████████████  | 92 kB 7.1 MB/s eta 0:00:01\r\u001b[K     |████████████████████████████████| 98 kB 3.9 MB/s \n",
            "\u001b[?25hRequirement already satisfied: tensorboard in /usr/local/lib/python3.7/dist-packages (from keras-tuner) (2.7.0)\n",
            "Requirement already satisfied: scipy in /usr/local/lib/python3.7/dist-packages (from keras-tuner) (1.4.1)\n",
            "Requirement already satisfied: ipython in /usr/local/lib/python3.7/dist-packages (from keras-tuner) (5.5.0)\n",
            "Requirement already satisfied: requests in /usr/local/lib/python3.7/dist-packages (from keras-tuner) (2.23.0)\n",
            "Requirement already satisfied: numpy in /usr/local/lib/python3.7/dist-packages (from keras-tuner) (1.19.5)\n",
            "Collecting kt-legacy\n",
            "  Downloading kt_legacy-1.0.4-py3-none-any.whl (9.6 kB)\n",
            "Requirement already satisfied: packaging in /usr/local/lib/python3.7/dist-packages (from keras-tuner) (21.3)\n",
            "Requirement already satisfied: decorator in /usr/local/lib/python3.7/dist-packages (from ipython->keras-tuner) (4.4.2)\n",
            "Requirement already satisfied: pygments in /usr/local/lib/python3.7/dist-packages (from ipython->keras-tuner) (2.6.1)\n",
            "Requirement already satisfied: pickleshare in /usr/local/lib/python3.7/dist-packages (from ipython->keras-tuner) (0.7.5)\n",
            "Requirement already satisfied: traitlets>=4.2 in /usr/local/lib/python3.7/dist-packages (from ipython->keras-tuner) (5.1.1)\n",
            "Requirement already satisfied: pexpect in /usr/local/lib/python3.7/dist-packages (from ipython->keras-tuner) (4.8.0)\n",
            "Requirement already satisfied: prompt-toolkit<2.0.0,>=1.0.4 in /usr/local/lib/python3.7/dist-packages (from ipython->keras-tuner) (1.0.18)\n",
            "Requirement already satisfied: setuptools>=18.5 in /usr/local/lib/python3.7/dist-packages (from ipython->keras-tuner) (57.4.0)\n",
            "Requirement already satisfied: simplegeneric>0.8 in /usr/local/lib/python3.7/dist-packages (from ipython->keras-tuner) (0.8.1)\n",
            "Requirement already satisfied: six>=1.9.0 in /usr/local/lib/python3.7/dist-packages (from prompt-toolkit<2.0.0,>=1.0.4->ipython->keras-tuner) (1.15.0)\n",
            "Requirement already satisfied: wcwidth in /usr/local/lib/python3.7/dist-packages (from prompt-toolkit<2.0.0,>=1.0.4->ipython->keras-tuner) (0.2.5)\n",
            "Requirement already satisfied: pyparsing!=3.0.5,>=2.0.2 in /usr/local/lib/python3.7/dist-packages (from packaging->keras-tuner) (3.0.6)\n",
            "Requirement already satisfied: ptyprocess>=0.5 in /usr/local/lib/python3.7/dist-packages (from pexpect->ipython->keras-tuner) (0.7.0)\n",
            "Requirement already satisfied: idna<3,>=2.5 in /usr/local/lib/python3.7/dist-packages (from requests->keras-tuner) (2.10)\n",
            "Requirement already satisfied: chardet<4,>=3.0.2 in /usr/local/lib/python3.7/dist-packages (from requests->keras-tuner) (3.0.4)\n",
            "Requirement already satisfied: urllib3!=1.25.0,!=1.25.1,<1.26,>=1.21.1 in /usr/local/lib/python3.7/dist-packages (from requests->keras-tuner) (1.24.3)\n",
            "Requirement already satisfied: certifi>=2017.4.17 in /usr/local/lib/python3.7/dist-packages (from requests->keras-tuner) (2021.10.8)\n",
            "Requirement already satisfied: google-auth<3,>=1.6.3 in /usr/local/lib/python3.7/dist-packages (from tensorboard->keras-tuner) (1.35.0)\n",
            "Requirement already satisfied: absl-py>=0.4 in /usr/local/lib/python3.7/dist-packages (from tensorboard->keras-tuner) (0.12.0)\n",
            "Requirement already satisfied: tensorboard-data-server<0.7.0,>=0.6.0 in /usr/local/lib/python3.7/dist-packages (from tensorboard->keras-tuner) (0.6.1)\n",
            "Requirement already satisfied: grpcio>=1.24.3 in /usr/local/lib/python3.7/dist-packages (from tensorboard->keras-tuner) (1.42.0)\n",
            "Requirement already satisfied: markdown>=2.6.8 in /usr/local/lib/python3.7/dist-packages (from tensorboard->keras-tuner) (3.3.6)\n",
            "Requirement already satisfied: google-auth-oauthlib<0.5,>=0.4.1 in /usr/local/lib/python3.7/dist-packages (from tensorboard->keras-tuner) (0.4.6)\n",
            "Requirement already satisfied: protobuf>=3.6.0 in /usr/local/lib/python3.7/dist-packages (from tensorboard->keras-tuner) (3.17.3)\n",
            "Requirement already satisfied: werkzeug>=0.11.15 in /usr/local/lib/python3.7/dist-packages (from tensorboard->keras-tuner) (1.0.1)\n",
            "Requirement already satisfied: wheel>=0.26 in /usr/local/lib/python3.7/dist-packages (from tensorboard->keras-tuner) (0.37.0)\n",
            "Requirement already satisfied: tensorboard-plugin-wit>=1.6.0 in /usr/local/lib/python3.7/dist-packages (from tensorboard->keras-tuner) (1.8.0)\n",
            "Requirement already satisfied: rsa<5,>=3.1.4 in /usr/local/lib/python3.7/dist-packages (from google-auth<3,>=1.6.3->tensorboard->keras-tuner) (4.8)\n",
            "Requirement already satisfied: cachetools<5.0,>=2.0.0 in /usr/local/lib/python3.7/dist-packages (from google-auth<3,>=1.6.3->tensorboard->keras-tuner) (4.2.4)\n",
            "Requirement already satisfied: pyasn1-modules>=0.2.1 in /usr/local/lib/python3.7/dist-packages (from google-auth<3,>=1.6.3->tensorboard->keras-tuner) (0.2.8)\n",
            "Requirement already satisfied: requests-oauthlib>=0.7.0 in /usr/local/lib/python3.7/dist-packages (from google-auth-oauthlib<0.5,>=0.4.1->tensorboard->keras-tuner) (1.3.0)\n",
            "Requirement already satisfied: importlib-metadata>=4.4 in /usr/local/lib/python3.7/dist-packages (from markdown>=2.6.8->tensorboard->keras-tuner) (4.8.2)\n",
            "Requirement already satisfied: typing-extensions>=3.6.4 in /usr/local/lib/python3.7/dist-packages (from importlib-metadata>=4.4->markdown>=2.6.8->tensorboard->keras-tuner) (3.10.0.2)\n",
            "Requirement already satisfied: zipp>=0.5 in /usr/local/lib/python3.7/dist-packages (from importlib-metadata>=4.4->markdown>=2.6.8->tensorboard->keras-tuner) (3.6.0)\n",
            "Requirement already satisfied: pyasn1<0.5.0,>=0.4.6 in /usr/local/lib/python3.7/dist-packages (from pyasn1-modules>=0.2.1->google-auth<3,>=1.6.3->tensorboard->keras-tuner) (0.4.8)\n",
            "Requirement already satisfied: oauthlib>=3.0.0 in /usr/local/lib/python3.7/dist-packages (from requests-oauthlib>=0.7.0->google-auth-oauthlib<0.5,>=0.4.1->tensorboard->keras-tuner) (3.1.1)\n",
            "Installing collected packages: kt-legacy, keras-tuner\n",
            "Successfully installed keras-tuner-1.1.0 kt-legacy-1.0.4\n"
          ]
        }
      ]
    },
    {
      "cell_type": "code",
      "metadata": {
        "id": "_OYLgAiIe9wE"
      },
      "source": [
        "#from tensorflow.keras.models import Sequential\n",
        "#from tensorflow.keras.layers import Activation, Dense, Flatten, Conv1D, MaxPooling1D, Dropout\n",
        "#from tensorflow.keras.optimizers import SGD\n",
        "import tensorflow as tf\n",
        "from tensorflow import keras\n",
        "import matplotlib.pyplot as plt"
      ],
      "execution_count": 48,
      "outputs": []
    },
    {
      "cell_type": "code",
      "source": [
        "def build_model(hp): # model builder for the tuner\n",
        "  model = keras.Sequential([\n",
        "    keras.layers.Dense(\n",
        "        units=hp.Int('dense_1_units', min_value=32, max_value=128,step=16),\n",
        "        activation='relu',\n",
        "        input_shape=input_shape\n",
        "    ),\n",
        "     keras.layers.Flatten(),\n",
        "    #keras.layers.Dense(\n",
        "    #    units=hp.Int('dense_2_units', min_value=64, max_value=128,step=16),\n",
        "    #    activation='relu'\n",
        "    #),\n",
        "    #keras.layers.Dropout(hp.Float('dropout_1',min_value=0.25, max_value=0.75, step=0.25)),\n",
        "    keras.layers.Dense(\n",
        "        units=hp.Int('dense_2_units', min_value=64, max_value=128,step=16),\n",
        "        activation='relu'\n",
        "    ),\n",
        "    keras.layers.Dropout(hp.Float('dropout_1',min_value=0.25, max_value=0.75, step=0.25)),\n",
        "    keras.layers.Dense(5, activation='softmax')\n",
        "  ])\n",
        "\n",
        "\n",
        "  model.compile(\n",
        "      loss='categorical_crossentropy',\n",
        "      optimizer=keras.optimizers.Adam(hp.Choice('learning_rate', values=[1e-2, 1e-3])),\n",
        "      metrics=['accuracy'])\n",
        "  \n",
        "  return model"
      ],
      "metadata": {
        "id": "FxdK-53CmnzC"
      },
      "execution_count": 49,
      "outputs": []
    },
    {
      "cell_type": "code",
      "source": [
        "from kerastuner.tuners import Hyperband\n",
        "\n",
        "tuner = Hyperband(\n",
        "    build_model,\n",
        "    objective='val_accuracy',\n",
        "    factor=3,\n",
        "    max_epochs=10,\n",
        "    directory='output',\n",
        "    project_name='MLP_model1')"
      ],
      "metadata": {
        "id": "R87SOrbGo8Lb",
        "outputId": "e6888c51-c319-4783-be1e-5e842c5ead75",
        "colab": {
          "base_uri": "https://localhost:8080/"
        }
      },
      "execution_count": 50,
      "outputs": [
        {
          "output_type": "stream",
          "name": "stderr",
          "text": [
            "/usr/local/lib/python3.7/dist-packages/ipykernel_launcher.py:1: DeprecationWarning: `import kerastuner` is deprecated, please use `import keras_tuner`.\n",
            "  \"\"\"Entry point for launching an IPython kernel.\n"
          ]
        }
      ]
    },
    {
      "cell_type": "code",
      "source": [
        "tuner.search_space_summary()"
      ],
      "metadata": {
        "colab": {
          "base_uri": "https://localhost:8080/"
        },
        "id": "ypFtzmPNqgh2",
        "outputId": "f2070f27-bad4-4372-8778-9c668b5f5eed"
      },
      "execution_count": 51,
      "outputs": [
        {
          "output_type": "stream",
          "name": "stdout",
          "text": [
            "Search space summary\n",
            "Default search space size: 4\n",
            "dense_1_units (Int)\n",
            "{'default': None, 'conditions': [], 'min_value': 32, 'max_value': 128, 'step': 16, 'sampling': None}\n",
            "dense_2_units (Int)\n",
            "{'default': None, 'conditions': [], 'min_value': 64, 'max_value': 128, 'step': 16, 'sampling': None}\n",
            "dropout_1 (Float)\n",
            "{'default': 0.25, 'conditions': [], 'min_value': 0.25, 'max_value': 0.75, 'step': 0.25, 'sampling': None}\n",
            "learning_rate (Choice)\n",
            "{'default': 0.01, 'conditions': [], 'values': [0.01, 0.001], 'ordered': True}\n"
          ]
        }
      ]
    },
    {
      "cell_type": "code",
      "source": [
        "tuner.search(train_generator, epochs=10, steps_per_epoch=250, validation_data=(val_set,val_label))"
      ],
      "metadata": {
        "colab": {
          "base_uri": "https://localhost:8080/"
        },
        "id": "Qrls78YDq0lO",
        "outputId": "5a3dcca7-31af-418e-8557-1e00c4780f1d"
      },
      "execution_count": null,
      "outputs": [
        {
          "output_type": "stream",
          "name": "stdout",
          "text": [
            "Trial 2 Complete [00h 13m 55s]\n",
            "val_accuracy: 0.9607999920845032\n",
            "\n",
            "Best val_accuracy So Far: 0.9607999920845032\n",
            "Total elapsed time: 00h 28m 19s\n",
            "\n",
            "Search: Running Trial #3\n",
            "\n",
            "Hyperparameter    |Value             |Best Value So Far \n",
            "dense_1_units     |96                |96                \n",
            "dense_2_units     |112               |80                \n",
            "dropout_1         |0.75              |0.75              \n",
            "learning_rate     |0.01              |0.001             \n",
            "tuner/epochs      |2                 |2                 \n",
            "tuner/initial_e...|0                 |0                 \n",
            "tuner/bracket     |2                 |2                 \n",
            "tuner/round       |0                 |0                 \n",
            "\n",
            "Epoch 1/2\n",
            " 74/250 [=======>......................] - ETA: 4:48 - loss: 1.2012 - accuracy: 0.4595"
          ]
        }
      ]
    },
    {
      "cell_type": "code",
      "source": [
        "tuner.results_summary()"
      ],
      "metadata": {
        "id": "IzuT6bKWtmVT"
      },
      "execution_count": null,
      "outputs": []
    },
    {
      "cell_type": "code",
      "source": [
        "params_best = tuner.get_best_hyperparameters(num_trials=1)[0] # Parameters of the best model\n",
        "params_best.get_config()['values']"
      ],
      "metadata": {
        "id": "rpIhJch7t6GN"
      },
      "execution_count": null,
      "outputs": []
    },
    {
      "cell_type": "markdown",
      "source": [
        "# Model and fitting"
      ],
      "metadata": {
        "id": "WJALXlz5tcPS"
      }
    },
    {
      "cell_type": "code",
      "metadata": {
        "id": "ZBZxmZ1Te9uW"
      },
      "source": [
        "model = tuner.hypermodel.build(params_best) # Building a model with the best parameters"
      ],
      "execution_count": null,
      "outputs": []
    },
    {
      "cell_type": "code",
      "metadata": {
        "id": "O9bmJOY3tn-H"
      },
      "source": [
        "print(model.summary())"
      ],
      "execution_count": null,
      "outputs": []
    },
    {
      "cell_type": "code",
      "metadata": {
        "id": "4QW9sGHFtn-I"
      },
      "source": [
        "from tensorflow.keras.callbacks import EarlyStopping, ModelCheckpoint, TensorBoard #set up callbacks\n",
        "patience=10\n",
        "early_stopping=EarlyStopping(patience=patience, verbose=1)\n",
        "checkpointer=ModelCheckpoint(filepath='model.hdf5', save_best_only=True, verbose=1)\n",
        "tb = TensorBoard(log_dir='logs', histogram_freq=1, write_graph=1)"
      ],
      "execution_count": null,
      "outputs": []
    },
    {
      "cell_type": "code",
      "metadata": {
        "id": "JI2d4WRAtn-I",
        "scrolled": true
      },
      "source": [
        "#train model\n",
        "network_history = model.fit(train_generator, validation_data=(val_set, val_label), epochs=20,steps_per_epoch=250, verbose=1, callbacks=[early_stopping, checkpointer, tb])"
      ],
      "execution_count": null,
      "outputs": []
    },
    {
      "cell_type": "markdown",
      "metadata": {
        "id": "ilKJXR9Mshos"
      },
      "source": [
        "# Evaluation"
      ]
    },
    {
      "cell_type": "code",
      "metadata": {
        "id": "qWGJnrXhuf1e",
        "scrolled": false
      },
      "source": [
        "from keras.models import load_model\n",
        "model.load_weights(\"model.hdf5\")\n",
        "test_err = model.evaluate(test_set, test_label)\n",
        "print(\"Test error:\", test_err[0], \"Teszt accuracy:\", test_err[1])"
      ],
      "execution_count": null,
      "outputs": []
    },
    {
      "cell_type": "code",
      "metadata": {
        "id": "qQ7O1bChuq4l"
      },
      "source": [
        "import numpy as np\n",
        "from sklearn.metrics import accuracy_score, precision_score, recall_score, f1_score, roc_curve, confusion_matrix\n",
        "# get predictions\n",
        "y_pred = model.predict(test_set)\n",
        "y_pred = np.argmax(y_pred,1)\n",
        "y_true = np.argmax(test_label,1)\n",
        "\n",
        "print(\"test accuracy: %g\" %(accuracy_score(y_true, y_pred)))\n",
        "print(\"Precision\", precision_score(y_true, y_pred, average=\"macro\"))\n",
        "print(\"Recall\", recall_score(y_true, y_pred, average=\"macro\"))\n",
        "print(\"f1_score\", f1_score(y_true, y_pred, average=\"macro\"))\n",
        "print(\"\\nConfusion matrix: \")\n",
        "conf=confusion_matrix(y_true, y_pred)\n",
        "print(conf)"
      ],
      "execution_count": null,
      "outputs": []
    },
    {
      "cell_type": "code",
      "metadata": {
        "id": "SNOZBCYyuumA"
      },
      "source": [
        "import seaborn as sns\n",
        "sns.heatmap(conf, annot=True, fmt='d', vmax=20) # get heatmap"
      ],
      "execution_count": null,
      "outputs": []
    }
  ]
}