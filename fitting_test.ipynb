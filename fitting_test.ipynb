version https://git-lfs.github.com/spec/v1
oid sha256:73ef6db589f5570734d0fcd715edb237f4c9a3247dd63f1679907c7e490238f3
size 66057
