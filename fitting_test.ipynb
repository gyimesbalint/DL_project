{
  "nbformat": 4,
  "nbformat_minor": 0,
  "metadata": {
    "accelerator": "GPU",
    "colab": {
      "name": "fitting_test.ipynb",
      "provenance": [],
      "collapsed_sections": []
    },
    "kernelspec": {
      "display_name": "Python 3",
      "language": "python",
      "name": "python3"
    },
    "language_info": {
      "codemirror_mode": {
        "name": "ipython",
        "version": 3
      },
      "file_extension": ".py",
      "mimetype": "text/x-python",
      "name": "python",
      "nbconvert_exporter": "python",
      "pygments_lexer": "ipython3",
      "version": "3.6.13"
    }
  },
  "cells": [
    {
      "cell_type": "markdown",
      "metadata": {
        "id": "view-in-github"
      },
      "source": [
        "<a href=\"https://colab.research.google.com/github/gyimesbalint/DL_project/blob/main/fitting_test.ipynb\" target=\"_parent\"><img src=\"https://colab.research.google.com/assets/colab-badge.svg\" alt=\"Open In Colab\"/></a>"
      ]
    },
    {
      "cell_type": "markdown",
      "metadata": {
        "id": "ssQLrwJ3b8F1"
      },
      "source": [
        "#Importing datasets"
      ]
    },
    {
      "cell_type": "code",
      "metadata": {
        "colab": {
          "base_uri": "https://localhost:8080/"
        },
        "id": "K2gR-BhaV0Mr",
        "outputId": "1a78254d-8228-46c1-b54b-662ed9393b86"
      },
      "source": [
        "# https://drive.google.com/file/d/1pmNSD1nbYHEAiP065s4akRXHMWFs9Dqw/view?usp=sharing DBpedia train.csv\n",
        "# https://drive.google.com/file/d/1mKededzdbJsWQnwsu-R_WSILYSvNEY7c/view?usp=sharing DBpedia test.csv\n",
        "!pip install gdown\n",
        "!gdown --id 1pmNSD1nbYHEAiP065s4akRXHMWFs9Dqw --output train.csv  #import train.csv from drive\n",
        "!gdown --id 1mKededzdbJsWQnwsu-R_WSILYSvNEY7c --output test.csv   #import test.csv from drive"
      ],
      "execution_count": 80,
      "outputs": [
        {
          "output_type": "stream",
          "name": "stdout",
          "text": [
            "Requirement already satisfied: gdown in /usr/local/lib/python3.7/dist-packages (3.6.4)\n",
            "Requirement already satisfied: six in /usr/local/lib/python3.7/dist-packages (from gdown) (1.15.0)\n",
            "Requirement already satisfied: requests in /usr/local/lib/python3.7/dist-packages (from gdown) (2.23.0)\n",
            "Requirement already satisfied: tqdm in /usr/local/lib/python3.7/dist-packages (from gdown) (4.62.3)\n",
            "Requirement already satisfied: certifi>=2017.4.17 in /usr/local/lib/python3.7/dist-packages (from requests->gdown) (2021.10.8)\n",
            "Requirement already satisfied: idna<3,>=2.5 in /usr/local/lib/python3.7/dist-packages (from requests->gdown) (2.10)\n",
            "Requirement already satisfied: urllib3!=1.25.0,!=1.25.1,<1.26,>=1.21.1 in /usr/local/lib/python3.7/dist-packages (from requests->gdown) (1.24.3)\n",
            "Requirement already satisfied: chardet<4,>=3.0.2 in /usr/local/lib/python3.7/dist-packages (from requests->gdown) (3.0.4)\n",
            "Downloading...\n",
            "From: https://drive.google.com/uc?id=1pmNSD1nbYHEAiP065s4akRXHMWFs9Dqw\n",
            "To: /content/train.csv\n",
            "100% 174M/174M [00:01<00:00, 149MB/s]\n",
            "Downloading...\n",
            "From: https://drive.google.com/uc?id=1mKededzdbJsWQnwsu-R_WSILYSvNEY7c\n",
            "To: /content/test.csv\n",
            "100% 21.8M/21.8M [00:00<00:00, 133MB/s]\n"
          ]
        }
      ]
    },
    {
      "cell_type": "code",
      "metadata": {
        "id": "a7DxLlchmrSG"
      },
      "source": [
        "import numpy as np\n",
        "import pandas as pd\n",
        "\n",
        "train_data = pd.read_csv('train.csv', encoding='utf8',header=None) #read csv to dataframe\n",
        "test_data = pd.read_csv('test.csv', encoding='utf8',header=None)   #read csv to dataframe\n",
        "\n",
        "train_data.where(train_data[0] < 6, inplace = True)  #select first 5 categories\n",
        "train_data = train_data[train_data[0].notnull()]     #remove NaN values\n",
        "\n",
        "test_data.where(test_data[0] < 6, inplace = True)    #select first 5 categories\n",
        "test_data = test_data[test_data[0].notnull()]        #remove NaN values"
      ],
      "execution_count": 81,
      "outputs": []
    },
    {
      "cell_type": "code",
      "metadata": {
        "colab": {
          "base_uri": "https://localhost:8080/",
          "height": 423
        },
        "id": "FOolUWEX56RF",
        "outputId": "07eb9f4f-f111-4406-9e55-9f52d470acb2"
      },
      "source": [
        "training_data = train_data.where(train_data[0] == 1.0)\n",
        "training_data = training_data[training_data[0].notnull()]\n",
        "training_data = training_data.head(len(training_data) // 5)\n",
        "for i in range(2, 6):\n",
        "    tmp = train_data.where(train_data[0] == (i * 1.0))\n",
        "    tmp = tmp[tmp[0].notnull()]\n",
        "    tmp = tmp.head(len(tmp) // 5)\n",
        "    training_data = pd.concat([training_data, tmp])\n",
        "train_data = training_data\n",
        "train_data"
      ],
      "execution_count": 82,
      "outputs": [
        {
          "output_type": "execute_result",
          "data": {
            "text/html": [
              "<div>\n",
              "<style scoped>\n",
              "    .dataframe tbody tr th:only-of-type {\n",
              "        vertical-align: middle;\n",
              "    }\n",
              "\n",
              "    .dataframe tbody tr th {\n",
              "        vertical-align: top;\n",
              "    }\n",
              "\n",
              "    .dataframe thead th {\n",
              "        text-align: right;\n",
              "    }\n",
              "</style>\n",
              "<table border=\"1\" class=\"dataframe\">\n",
              "  <thead>\n",
              "    <tr style=\"text-align: right;\">\n",
              "      <th></th>\n",
              "      <th>0</th>\n",
              "      <th>1</th>\n",
              "      <th>2</th>\n",
              "    </tr>\n",
              "  </thead>\n",
              "  <tbody>\n",
              "    <tr>\n",
              "      <th>0</th>\n",
              "      <td>1.0</td>\n",
              "      <td>E. D. Abbott Ltd</td>\n",
              "      <td>Abbott of Farnham E D Abbott Limited was a Br...</td>\n",
              "    </tr>\n",
              "    <tr>\n",
              "      <th>1</th>\n",
              "      <td>1.0</td>\n",
              "      <td>Schwan-Stabilo</td>\n",
              "      <td>Schwan-STABILO is a German maker of pens for ...</td>\n",
              "    </tr>\n",
              "    <tr>\n",
              "      <th>2</th>\n",
              "      <td>1.0</td>\n",
              "      <td>Q-workshop</td>\n",
              "      <td>Q-workshop is a Polish company located in Poz...</td>\n",
              "    </tr>\n",
              "    <tr>\n",
              "      <th>3</th>\n",
              "      <td>1.0</td>\n",
              "      <td>Marvell Software Solutions Israel</td>\n",
              "      <td>Marvell Software Solutions Israel known as RA...</td>\n",
              "    </tr>\n",
              "    <tr>\n",
              "      <th>4</th>\n",
              "      <td>1.0</td>\n",
              "      <td>Bergan Mercy Medical Center</td>\n",
              "      <td>Bergan Mercy Medical Center is a hospital loc...</td>\n",
              "    </tr>\n",
              "    <tr>\n",
              "      <th>...</th>\n",
              "      <td>...</td>\n",
              "      <td>...</td>\n",
              "      <td>...</td>\n",
              "    </tr>\n",
              "    <tr>\n",
              "      <th>167995</th>\n",
              "      <td>5.0</td>\n",
              "      <td>Zsolt Horváth (politician 1964)</td>\n",
              "      <td>Zsolt Horváth (born May 22 1964) is a Hungari...</td>\n",
              "    </tr>\n",
              "    <tr>\n",
              "      <th>167996</th>\n",
              "      <td>5.0</td>\n",
              "      <td>Majaliwa K. Majaliwa</td>\n",
              "      <td>Majaliwa Kassim Majaliwa (born 22 December 19...</td>\n",
              "    </tr>\n",
              "    <tr>\n",
              "      <th>167997</th>\n",
              "      <td>5.0</td>\n",
              "      <td>Jeanne Hulit</td>\n",
              "      <td>Jeanne A. Hulit (born 1958) served as Acting ...</td>\n",
              "    </tr>\n",
              "    <tr>\n",
              "      <th>167998</th>\n",
              "      <td>5.0</td>\n",
              "      <td>Peter N. Silvestri</td>\n",
              "      <td>Peter N. Silvestri is currently a member of t...</td>\n",
              "    </tr>\n",
              "    <tr>\n",
              "      <th>167999</th>\n",
              "      <td>5.0</td>\n",
              "      <td>Joseph Petrarca Jr.</td>\n",
              "      <td>Joseph A. Joe Petrarca Jr. (born April 2 1961...</td>\n",
              "    </tr>\n",
              "  </tbody>\n",
              "</table>\n",
              "<p>40000 rows × 3 columns</p>\n",
              "</div>"
            ],
            "text/plain": [
              "          0  ...                                                  2\n",
              "0       1.0  ...   Abbott of Farnham E D Abbott Limited was a Br...\n",
              "1       1.0  ...   Schwan-STABILO is a German maker of pens for ...\n",
              "2       1.0  ...   Q-workshop is a Polish company located in Poz...\n",
              "3       1.0  ...   Marvell Software Solutions Israel known as RA...\n",
              "4       1.0  ...   Bergan Mercy Medical Center is a hospital loc...\n",
              "...     ...  ...                                                ...\n",
              "167995  5.0  ...   Zsolt Horváth (born May 22 1964) is a Hungari...\n",
              "167996  5.0  ...   Majaliwa Kassim Majaliwa (born 22 December 19...\n",
              "167997  5.0  ...   Jeanne A. Hulit (born 1958) served as Acting ...\n",
              "167998  5.0  ...   Peter N. Silvestri is currently a member of t...\n",
              "167999  5.0  ...   Joseph A. Joe Petrarca Jr. (born April 2 1961...\n",
              "\n",
              "[40000 rows x 3 columns]"
            ]
          },
          "metadata": {},
          "execution_count": 82
        }
      ]
    },
    {
      "cell_type": "code",
      "metadata": {
        "colab": {
          "base_uri": "https://localhost:8080/",
          "height": 423
        },
        "id": "2oY2JHmj56RH",
        "outputId": "71065d45-a78a-470f-9b4c-72656cd0c99a"
      },
      "source": [
        "testing_data = test_data.where(test_data[0] == 1.0)\n",
        "testing_data = testing_data[testing_data[0].notnull()]\n",
        "testing_data = testing_data.head(len(testing_data) // 5)\n",
        "for i in range(2, 6):\n",
        "    tmp = test_data.where(test_data[0] == (i * 1.0))\n",
        "    tmp = tmp[tmp[0].notnull()]\n",
        "    tmp = tmp.head(len(tmp) // 5)\n",
        "    testing_data = pd.concat([testing_data, tmp])\n",
        "test_data = testing_data\n",
        "test_data"
      ],
      "execution_count": 83,
      "outputs": [
        {
          "output_type": "execute_result",
          "data": {
            "text/html": [
              "<div>\n",
              "<style scoped>\n",
              "    .dataframe tbody tr th:only-of-type {\n",
              "        vertical-align: middle;\n",
              "    }\n",
              "\n",
              "    .dataframe tbody tr th {\n",
              "        vertical-align: top;\n",
              "    }\n",
              "\n",
              "    .dataframe thead th {\n",
              "        text-align: right;\n",
              "    }\n",
              "</style>\n",
              "<table border=\"1\" class=\"dataframe\">\n",
              "  <thead>\n",
              "    <tr style=\"text-align: right;\">\n",
              "      <th></th>\n",
              "      <th>0</th>\n",
              "      <th>1</th>\n",
              "      <th>2</th>\n",
              "    </tr>\n",
              "  </thead>\n",
              "  <tbody>\n",
              "    <tr>\n",
              "      <th>0</th>\n",
              "      <td>1.0</td>\n",
              "      <td>TY KU</td>\n",
              "      <td>TY KU /taɪkuː/ is an American alcoholic bever...</td>\n",
              "    </tr>\n",
              "    <tr>\n",
              "      <th>1</th>\n",
              "      <td>1.0</td>\n",
              "      <td>Odd Lot Entertainment</td>\n",
              "      <td>OddLot Entertainment founded in 2001 by longt...</td>\n",
              "    </tr>\n",
              "    <tr>\n",
              "      <th>2</th>\n",
              "      <td>1.0</td>\n",
              "      <td>Henkel</td>\n",
              "      <td>Henkel AG &amp; Company KGaA operates worldwide w...</td>\n",
              "    </tr>\n",
              "    <tr>\n",
              "      <th>3</th>\n",
              "      <td>1.0</td>\n",
              "      <td>GOAT Store</td>\n",
              "      <td>The GOAT Store (Games Of All Type Store) LLC ...</td>\n",
              "    </tr>\n",
              "    <tr>\n",
              "      <th>4</th>\n",
              "      <td>1.0</td>\n",
              "      <td>RagWing Aircraft Designs</td>\n",
              "      <td>RagWing Aircraft Designs (also called the Rag...</td>\n",
              "    </tr>\n",
              "    <tr>\n",
              "      <th>...</th>\n",
              "      <td>...</td>\n",
              "      <td>...</td>\n",
              "      <td>...</td>\n",
              "    </tr>\n",
              "    <tr>\n",
              "      <th>20995</th>\n",
              "      <td>5.0</td>\n",
              "      <td>Annise Parker</td>\n",
              "      <td>Annise Danette Parker (born May 17 1956) is a...</td>\n",
              "    </tr>\n",
              "    <tr>\n",
              "      <th>20996</th>\n",
              "      <td>5.0</td>\n",
              "      <td>Taylor Townsend (politician)</td>\n",
              "      <td>Thomas Taylor Townsend known as Taylor Townse...</td>\n",
              "    </tr>\n",
              "    <tr>\n",
              "      <th>20997</th>\n",
              "      <td>5.0</td>\n",
              "      <td>Keith B. Alexander</td>\n",
              "      <td>Keith Brian Alexander (born December 2 1951) ...</td>\n",
              "    </tr>\n",
              "    <tr>\n",
              "      <th>20998</th>\n",
              "      <td>5.0</td>\n",
              "      <td>Henry Hague Davis</td>\n",
              "      <td>Henry Hague Davis (September 10 1885 – June 3...</td>\n",
              "    </tr>\n",
              "    <tr>\n",
              "      <th>20999</th>\n",
              "      <td>5.0</td>\n",
              "      <td>László Domokos</td>\n",
              "      <td>László Domokos (born February 26 1965) is a H...</td>\n",
              "    </tr>\n",
              "  </tbody>\n",
              "</table>\n",
              "<p>5000 rows × 3 columns</p>\n",
              "</div>"
            ],
            "text/plain": [
              "         0  ...                                                  2\n",
              "0      1.0  ...   TY KU /taɪkuː/ is an American alcoholic bever...\n",
              "1      1.0  ...   OddLot Entertainment founded in 2001 by longt...\n",
              "2      1.0  ...   Henkel AG & Company KGaA operates worldwide w...\n",
              "3      1.0  ...   The GOAT Store (Games Of All Type Store) LLC ...\n",
              "4      1.0  ...   RagWing Aircraft Designs (also called the Rag...\n",
              "...    ...  ...                                                ...\n",
              "20995  5.0  ...   Annise Danette Parker (born May 17 1956) is a...\n",
              "20996  5.0  ...   Thomas Taylor Townsend known as Taylor Townse...\n",
              "20997  5.0  ...   Keith Brian Alexander (born December 2 1951) ...\n",
              "20998  5.0  ...   Henry Hague Davis (September 10 1885 – June 3...\n",
              "20999  5.0  ...   László Domokos (born February 26 1965) is a H...\n",
              "\n",
              "[5000 rows x 3 columns]"
            ]
          },
          "metadata": {},
          "execution_count": 83
        }
      ]
    },
    {
      "cell_type": "code",
      "metadata": {
        "colab": {
          "base_uri": "https://localhost:8080/",
          "height": 206
        },
        "id": "oC2QSasgcGUv",
        "outputId": "05b4319e-d6d4-4a89-883f-0e53c4ed1741"
      },
      "source": [
        "train_data.sample(5) #sample from train data"
      ],
      "execution_count": 84,
      "outputs": [
        {
          "output_type": "execute_result",
          "data": {
            "text/html": [
              "<div>\n",
              "<style scoped>\n",
              "    .dataframe tbody tr th:only-of-type {\n",
              "        vertical-align: middle;\n",
              "    }\n",
              "\n",
              "    .dataframe tbody tr th {\n",
              "        vertical-align: top;\n",
              "    }\n",
              "\n",
              "    .dataframe thead th {\n",
              "        text-align: right;\n",
              "    }\n",
              "</style>\n",
              "<table border=\"1\" class=\"dataframe\">\n",
              "  <thead>\n",
              "    <tr style=\"text-align: right;\">\n",
              "      <th></th>\n",
              "      <th>0</th>\n",
              "      <th>1</th>\n",
              "      <th>2</th>\n",
              "    </tr>\n",
              "  </thead>\n",
              "  <tbody>\n",
              "    <tr>\n",
              "      <th>126887</th>\n",
              "      <td>4.0</td>\n",
              "      <td>Ding Meiyuan</td>\n",
              "      <td>Ding Meiyuan (Chinese: 丁美媛; born February 27 ...</td>\n",
              "    </tr>\n",
              "    <tr>\n",
              "      <th>769</th>\n",
              "      <td>1.0</td>\n",
              "      <td>Rectilinear Research Corporation</td>\n",
              "      <td>Rectilinear Research Corporation was a manufa...</td>\n",
              "    </tr>\n",
              "    <tr>\n",
              "      <th>127327</th>\n",
              "      <td>4.0</td>\n",
              "      <td>Bill McNulty</td>\n",
              "      <td>William Francis McNulty (born August 29 1946 ...</td>\n",
              "    </tr>\n",
              "    <tr>\n",
              "      <th>86155</th>\n",
              "      <td>3.0</td>\n",
              "      <td>Tony Daniel (science fiction writer)</td>\n",
              "      <td>Tony Daniel (born 1963) is an American scienc...</td>\n",
              "    </tr>\n",
              "    <tr>\n",
              "      <th>81322</th>\n",
              "      <td>3.0</td>\n",
              "      <td>Heinrich Werner (composer)</td>\n",
              "      <td>Heinrich Werner (2 October 1800 – 3 March 183...</td>\n",
              "    </tr>\n",
              "  </tbody>\n",
              "</table>\n",
              "</div>"
            ],
            "text/plain": [
              "          0  ...                                                  2\n",
              "126887  4.0  ...   Ding Meiyuan (Chinese: 丁美媛; born February 27 ...\n",
              "769     1.0  ...   Rectilinear Research Corporation was a manufa...\n",
              "127327  4.0  ...   William Francis McNulty (born August 29 1946 ...\n",
              "86155   3.0  ...   Tony Daniel (born 1963) is an American scienc...\n",
              "81322   3.0  ...   Heinrich Werner (2 October 1800 – 3 March 183...\n",
              "\n",
              "[5 rows x 3 columns]"
            ]
          },
          "metadata": {},
          "execution_count": 84
        }
      ]
    },
    {
      "cell_type": "code",
      "metadata": {
        "colab": {
          "base_uri": "https://localhost:8080/",
          "height": 206
        },
        "id": "LuZIprN5fGcK",
        "outputId": "b8b79579-e82b-4fb2-f0c0-7951b714321f"
      },
      "source": [
        "test_data.sample(5) #sample from test data"
      ],
      "execution_count": 85,
      "outputs": [
        {
          "output_type": "execute_result",
          "data": {
            "text/html": [
              "<div>\n",
              "<style scoped>\n",
              "    .dataframe tbody tr th:only-of-type {\n",
              "        vertical-align: middle;\n",
              "    }\n",
              "\n",
              "    .dataframe tbody tr th {\n",
              "        vertical-align: top;\n",
              "    }\n",
              "\n",
              "    .dataframe thead th {\n",
              "        text-align: right;\n",
              "    }\n",
              "</style>\n",
              "<table border=\"1\" class=\"dataframe\">\n",
              "  <thead>\n",
              "    <tr style=\"text-align: right;\">\n",
              "      <th></th>\n",
              "      <th>0</th>\n",
              "      <th>1</th>\n",
              "      <th>2</th>\n",
              "    </tr>\n",
              "  </thead>\n",
              "  <tbody>\n",
              "    <tr>\n",
              "      <th>5273</th>\n",
              "      <td>2.0</td>\n",
              "      <td>Parshvanath College of Engineering</td>\n",
              "      <td>The Parshvanath College of Engineering was a ...</td>\n",
              "    </tr>\n",
              "    <tr>\n",
              "      <th>752</th>\n",
              "      <td>1.0</td>\n",
              "      <td>Hill International</td>\n",
              "      <td>Hill International (NYSE: HIL) is a worldwide...</td>\n",
              "    </tr>\n",
              "    <tr>\n",
              "      <th>15481</th>\n",
              "      <td>4.0</td>\n",
              "      <td>Gavin Gordon (footballer)</td>\n",
              "      <td>Gavin Kenyatta Gordon (born 24 June 1979 in M...</td>\n",
              "    </tr>\n",
              "    <tr>\n",
              "      <th>20310</th>\n",
              "      <td>5.0</td>\n",
              "      <td>Naomi Gonzalez</td>\n",
              "      <td>Naomi R. Gonzalez (born June 4 1978) is an at...</td>\n",
              "    </tr>\n",
              "    <tr>\n",
              "      <th>15747</th>\n",
              "      <td>4.0</td>\n",
              "      <td>Sezer Huysuz</td>\n",
              "      <td>Sezer Huysuz (born November 20 1977 in Ordu) ...</td>\n",
              "    </tr>\n",
              "  </tbody>\n",
              "</table>\n",
              "</div>"
            ],
            "text/plain": [
              "         0  ...                                                  2\n",
              "5273   2.0  ...   The Parshvanath College of Engineering was a ...\n",
              "752    1.0  ...   Hill International (NYSE: HIL) is a worldwide...\n",
              "15481  4.0  ...   Gavin Kenyatta Gordon (born 24 June 1979 in M...\n",
              "20310  5.0  ...   Naomi R. Gonzalez (born June 4 1978) is an at...\n",
              "15747  4.0  ...   Sezer Huysuz (born November 20 1977 in Ordu) ...\n",
              "\n",
              "[5 rows x 3 columns]"
            ]
          },
          "metadata": {},
          "execution_count": 85
        }
      ]
    },
    {
      "cell_type": "code",
      "metadata": {
        "id": "xIdmfSJsm4ZN"
      },
      "source": [
        "train_label = pd.to_numeric(train_data.iloc[:,0]) #select labels (int) from train data\n",
        "train_text = train_data.iloc[:,1:3] #select article text from train data"
      ],
      "execution_count": 86,
      "outputs": []
    },
    {
      "cell_type": "code",
      "metadata": {
        "id": "dbfQMlpGpJY1"
      },
      "source": [
        "test_label = pd.to_numeric(test_data.iloc[:,0]) #select labels (int) from test data\n",
        "test_text = test_data.iloc[:,1:3] #select article text from train data"
      ],
      "execution_count": 87,
      "outputs": []
    },
    {
      "cell_type": "markdown",
      "metadata": {
        "id": "tqOIQiMFcCKk"
      },
      "source": [
        "#Pre-processing"
      ]
    },
    {
      "cell_type": "code",
      "metadata": {
        "colab": {
          "base_uri": "https://localhost:8080/"
        },
        "id": "eGd_NGTLql8R",
        "outputId": "703efb07-c445-4ce1-ad03-4a7a1372ed35"
      },
      "source": [
        "from sklearn.feature_extraction.text import CountVectorizer #vectorizer for article text data\n",
        "from nltk.corpus import stopwords #stopwords for desktop usage\n",
        "import nltk\n",
        "nltk.download('stopwords') #stopwords for collab notebook"
      ],
      "execution_count": 88,
      "outputs": [
        {
          "output_type": "stream",
          "name": "stdout",
          "text": [
            "[nltk_data] Downloading package stopwords to /root/nltk_data...\n",
            "[nltk_data]   Package stopwords is already up-to-date!\n"
          ]
        },
        {
          "output_type": "execute_result",
          "data": {
            "text/plain": [
              "True"
            ]
          },
          "metadata": {},
          "execution_count": 88
        }
      ]
    },
    {
      "cell_type": "code",
      "metadata": {
        "id": "0sdo8wL7CGFM"
      },
      "source": [
        "vectorizer = CountVectorizer(stop_words=stopwords.words('english'), analyzer='word', ngram_range=(1, 1)) #vectorizer for words, removing stopwords"
      ],
      "execution_count": 89,
      "outputs": []
    },
    {
      "cell_type": "code",
      "metadata": {
        "id": "8x0-IR01DRW6"
      },
      "source": [
        "test_title = test_text.iloc[:,0] #select titles from test text\n",
        "test_desc = test_text.iloc[:,1]  #select descriptions from test text"
      ],
      "execution_count": 90,
      "outputs": []
    },
    {
      "cell_type": "code",
      "metadata": {
        "id": "yuKl7x3U33gu"
      },
      "source": [
        "train_title = train_text.iloc[:,0] #select titles from train text\n",
        "train_desc = train_text.iloc[:,1]  #select descriptions from train text"
      ],
      "execution_count": 91,
      "outputs": []
    },
    {
      "cell_type": "code",
      "metadata": {
        "id": "t_3wCcvAmo_N"
      },
      "source": [
        "titles = pd.concat([test_title, train_title]) #concat titles for vectorazition\n",
        "descs = pd.concat([test_desc, train_desc]) #concat descriptions for vectorazition"
      ],
      "execution_count": 92,
      "outputs": []
    },
    {
      "cell_type": "code",
      "metadata": {
        "id": "SyFZpmsYEuLP",
        "colab": {
          "base_uri": "https://localhost:8080/"
        },
        "outputId": "24666c21-2fee-4aca-bbcc-fbd9dce42675"
      },
      "source": [
        "titles = pd.DataFrame.sparse.from_spmatrix(vectorizer.fit_transform(titles)) #vectorizing test_title and adding it to a dataframe\n",
        "title_feature_names = np.asarray(vectorizer.get_feature_names()) #getting all feature names for test_title\n",
        "descs = pd.DataFrame.sparse.from_spmatrix(vectorizer.fit_transform(descs)) #vectorizing test_desc and adding it to a dataframe\n",
        "desc_feature_names = np.asarray(vectorizer.get_feature_names()) #getting all feature names for test_desc"
      ],
      "execution_count": 93,
      "outputs": [
        {
          "output_type": "stream",
          "name": "stderr",
          "text": [
            "/usr/local/lib/python3.7/dist-packages/sklearn/utils/deprecation.py:87: FutureWarning: Function get_feature_names is deprecated; get_feature_names is deprecated in 1.0 and will be removed in 1.2. Please use get_feature_names_out instead.\n",
            "  warnings.warn(msg, category=FutureWarning)\n"
          ]
        }
      ]
    },
    {
      "cell_type": "code",
      "metadata": {
        "id": "a5_xy05SwC6g"
      },
      "source": [
        "titles = titles.loc[:, titles.sum(axis=0) > 8]"
      ],
      "execution_count": 94,
      "outputs": []
    },
    {
      "cell_type": "code",
      "metadata": {
        "colab": {
          "base_uri": "https://localhost:8080/"
        },
        "id": "4tyVH1MKzbbO",
        "outputId": "e7b808bb-8f91-4688-ece2-fce417022a80"
      },
      "source": [
        "titles.shape"
      ],
      "execution_count": 95,
      "outputs": [
        {
          "output_type": "execute_result",
          "data": {
            "text/plain": [
              "(45000, 1614)"
            ]
          },
          "metadata": {},
          "execution_count": 95
        }
      ]
    },
    {
      "cell_type": "code",
      "metadata": {
        "id": "qKD2R761ndPh"
      },
      "source": [
        "#descs = descs.loc[:, descs.sum(axis=0) > 8]"
      ],
      "execution_count": 96,
      "outputs": []
    },
    {
      "cell_type": "code",
      "metadata": {
        "id": "xK_KvFgDR1si"
      },
      "source": [
        "#descs.shape"
      ],
      "execution_count": 97,
      "outputs": []
    },
    {
      "cell_type": "code",
      "metadata": {
        "colab": {
          "base_uri": "https://localhost:8080/"
        },
        "id": "7H4Pac1xoYgu",
        "outputId": "38cfe83d-aa37-454b-ba28-b6ab1343eede"
      },
      "source": [
        "test_title = titles[0:len(test_title.index)]\n",
        "test_title.shape"
      ],
      "execution_count": 98,
      "outputs": [
        {
          "output_type": "execute_result",
          "data": {
            "text/plain": [
              "(5000, 1614)"
            ]
          },
          "metadata": {},
          "execution_count": 98
        }
      ]
    },
    {
      "cell_type": "code",
      "metadata": {
        "colab": {
          "base_uri": "https://localhost:8080/"
        },
        "id": "XqEi2-fBhGtB",
        "outputId": "75c13c55-c7f9-4f61-d9ac-bfb508e60c90"
      },
      "source": [
        "#First 5 rows and feature names obtained with the vectoritzer\n",
        "print(test_title[0:5])\n",
        "print(title_feature_names[0:5])"
      ],
      "execution_count": 99,
      "outputs": [
        {
          "output_type": "stream",
          "name": "stdout",
          "text": [
            "   138    153    164    175    187    ...  39509  39510  39511  39539  39555\n",
            "0      0      0      0      0      0  ...      0      0      0      0      0\n",
            "1      0      0      0      0      0  ...      0      0      0      0      0\n",
            "2      0      0      0      0      0  ...      0      0      0      0      0\n",
            "3      0      0      0      0      0  ...      0      0      0      0      0\n",
            "4      0      0      0      0      0  ...      0      0      0      0      0\n",
            "\n",
            "[5 rows x 1614 columns]\n",
            "['07' '0verflow' '10' '100' '1000memories']\n"
          ]
        }
      ]
    },
    {
      "cell_type": "code",
      "metadata": {
        "id": "z5txOGWsp_G_"
      },
      "source": [
        "#test_desc = descs.head(len(test_desc.index))"
      ],
      "execution_count": 100,
      "outputs": []
    },
    {
      "cell_type": "code",
      "metadata": {
        "id": "E12HiVEU08Qs"
      },
      "source": [
        "#test_desc.shape"
      ],
      "execution_count": 101,
      "outputs": []
    },
    {
      "cell_type": "code",
      "metadata": {
        "id": "ukBvNK_bpH-J"
      },
      "source": [
        "#First 5 rows and feature names obtained with the vectorizer\n",
        "#print(test_desc[0:5])"
      ],
      "execution_count": 102,
      "outputs": []
    },
    {
      "cell_type": "code",
      "metadata": {
        "id": "-54u7V4OFOnh"
      },
      "source": [
        "train_title = titles.tail(len(titles) - len(test_title))"
      ],
      "execution_count": 103,
      "outputs": []
    },
    {
      "cell_type": "code",
      "metadata": {
        "colab": {
          "base_uri": "https://localhost:8080/"
        },
        "id": "SsJ1HLPjycIQ",
        "outputId": "0c6030ea-7179-435d-9e2f-f2e8f28be906"
      },
      "source": [
        "train_title.shape"
      ],
      "execution_count": 104,
      "outputs": [
        {
          "output_type": "execute_result",
          "data": {
            "text/plain": [
              "(40000, 1614)"
            ]
          },
          "metadata": {},
          "execution_count": 104
        }
      ]
    },
    {
      "cell_type": "code",
      "metadata": {
        "colab": {
          "base_uri": "https://localhost:8080/"
        },
        "id": "AXIH2FymkHOK",
        "outputId": "60aa4479-d0e1-4b25-dbbe-eb07efc4b2b5"
      },
      "source": [
        "#First 5 rows and feature names obtained with the vectoritzer\n",
        "print(train_title[0:5])"
      ],
      "execution_count": 105,
      "outputs": [
        {
          "output_type": "stream",
          "name": "stdout",
          "text": [
            "      138    153    164    175    187    ...  39509  39510  39511  39539  39555\n",
            "5000      0      0      0      0      0  ...      0      0      0      0      0\n",
            "5001      0      0      0      0      0  ...      0      0      0      0      0\n",
            "5002      0      0      0      0      0  ...      0      0      0      0      0\n",
            "5003      0      0      0      0      0  ...      0      0      0      0      0\n",
            "5004      0      0      0      0      0  ...      0      0      0      0      0\n",
            "\n",
            "[5 rows x 1614 columns]\n"
          ]
        }
      ]
    },
    {
      "cell_type": "code",
      "metadata": {
        "id": "SKbN2KbbsUqd"
      },
      "source": [
        "#train_desc = descs.tail(len(descs) - len(test_desc.index))"
      ],
      "execution_count": 106,
      "outputs": []
    },
    {
      "cell_type": "code",
      "metadata": {
        "id": "BFNdC3fUza2X"
      },
      "source": [
        "#train_desc.shape"
      ],
      "execution_count": 107,
      "outputs": []
    },
    {
      "cell_type": "code",
      "metadata": {
        "id": "SmOXEY0fq3Pu"
      },
      "source": [
        "#First 5 rows and feature names obtained with the vectoritzer\n",
        "#print(train_desc[0:5])"
      ],
      "execution_count": 108,
      "outputs": []
    },
    {
      "cell_type": "code",
      "metadata": {
        "id": "omfbCxvr-aJl"
      },
      "source": [
        "from scipy.sparse import csr_matrix #for min-max scaling sparse matrices"
      ],
      "execution_count": 109,
      "outputs": []
    },
    {
      "cell_type": "code",
      "metadata": {
        "id": "_B3DpLPb7Dku"
      },
      "source": [
        "def normalize(df): #function for min-max scaling of dataframes\n",
        "    result = df.copy()\n",
        "    for feature_name in df.columns:\n",
        "        max_value = csr_matrix(df[feature_name]).max()\n",
        "        min_value = csr_matrix(df[feature_name]).min()\n",
        "        result[feature_name] = (df[feature_name] - min_value) / max((max_value - min_value), 1)\n",
        "    return result"
      ],
      "execution_count": 110,
      "outputs": []
    },
    {
      "cell_type": "code",
      "metadata": {
        "id": "xofqUiCj51N2"
      },
      "source": [
        "test_title = normalize(test_title) #min-max scale test_title"
      ],
      "execution_count": 111,
      "outputs": []
    },
    {
      "cell_type": "code",
      "metadata": {
        "colab": {
          "base_uri": "https://localhost:8080/"
        },
        "id": "ZZtMnnUptxIn",
        "outputId": "9d6bf79f-9cad-46a2-ab8c-52808955241b"
      },
      "source": [
        "print(test_title[0:5])"
      ],
      "execution_count": 112,
      "outputs": [
        {
          "output_type": "stream",
          "name": "stdout",
          "text": [
            "   138    153    164    175    187    ...  39509  39510  39511  39539  39555\n",
            "0    0.0    0.0    0.0    0.0    0.0  ...    0.0    0.0    0.0    0.0    0.0\n",
            "1    0.0    0.0    0.0    0.0    0.0  ...    0.0    0.0    0.0    0.0    0.0\n",
            "2    0.0    0.0    0.0    0.0    0.0  ...    0.0    0.0    0.0    0.0    0.0\n",
            "3    0.0    0.0    0.0    0.0    0.0  ...    0.0    0.0    0.0    0.0    0.0\n",
            "4    0.0    0.0    0.0    0.0    0.0  ...    0.0    0.0    0.0    0.0    0.0\n",
            "\n",
            "[5 rows x 1614 columns]\n"
          ]
        }
      ]
    },
    {
      "cell_type": "code",
      "metadata": {
        "id": "4v9lEKB951N2"
      },
      "source": [
        "#test_desc = normalize(test_desc) #min-max scale test_desc"
      ],
      "execution_count": 113,
      "outputs": []
    },
    {
      "cell_type": "code",
      "metadata": {
        "id": "cH74B7tUtxgF"
      },
      "source": [
        "#print(test_desc[0:5])"
      ],
      "execution_count": 114,
      "outputs": []
    },
    {
      "cell_type": "code",
      "metadata": {
        "id": "seP8jG3CB-qB"
      },
      "source": [
        "train_title = normalize(train_title) #min-max scale train_title"
      ],
      "execution_count": 115,
      "outputs": []
    },
    {
      "cell_type": "code",
      "metadata": {
        "colab": {
          "base_uri": "https://localhost:8080/"
        },
        "id": "Z37ue-AbtxyD",
        "outputId": "44472b41-f28c-4254-b1a9-943b3c64a918"
      },
      "source": [
        "print(train_title[0:5])"
      ],
      "execution_count": 116,
      "outputs": [
        {
          "output_type": "stream",
          "name": "stdout",
          "text": [
            "      138    153    164    175    187    ...  39509  39510  39511  39539  39555\n",
            "5000    0.0    0.0    0.0    0.0    0.0  ...    0.0    0.0    0.0    0.0    0.0\n",
            "5001    0.0    0.0    0.0    0.0    0.0  ...    0.0    0.0    0.0    0.0    0.0\n",
            "5002    0.0    0.0    0.0    0.0    0.0  ...    0.0    0.0    0.0    0.0    0.0\n",
            "5003    0.0    0.0    0.0    0.0    0.0  ...    0.0    0.0    0.0    0.0    0.0\n",
            "5004    0.0    0.0    0.0    0.0    0.0  ...    0.0    0.0    0.0    0.0    0.0\n",
            "\n",
            "[5 rows x 1614 columns]\n"
          ]
        }
      ]
    },
    {
      "cell_type": "code",
      "metadata": {
        "id": "t7My4oYrSmLv"
      },
      "source": [
        "#train_desc = normalize(train_desc) #min-max scale train_desc"
      ],
      "execution_count": 117,
      "outputs": []
    },
    {
      "cell_type": "code",
      "metadata": {
        "id": "lAJvee20tyUd"
      },
      "source": [
        "#print(train_desc[0:5])"
      ],
      "execution_count": 118,
      "outputs": []
    },
    {
      "cell_type": "code",
      "metadata": {
        "colab": {
          "base_uri": "https://localhost:8080/"
        },
        "id": "_SyYggbJorJj",
        "outputId": "18124448-21f7-4b51-90c1-1228e9cef4fb"
      },
      "source": [
        "input_shape = train_title.iloc[0].shape\n",
        "input_shape = (input_shape[0], 1)\n",
        "input_shape"
      ],
      "execution_count": 119,
      "outputs": [
        {
          "output_type": "execute_result",
          "data": {
            "text/plain": [
              "(1614, 1)"
            ]
          },
          "metadata": {},
          "execution_count": 119
        }
      ]
    },
    {
      "cell_type": "markdown",
      "metadata": {
        "id": "qsQlbcyBklGw"
      },
      "source": [
        "Our **X** will be the sparse matrices and the feature names from the title and the description, and **Y** will be the labels provided in the csv file.\n",
        "\n",
        "Validation split is obtained later in the model.fit() function from training data"
      ]
    },
    {
      "cell_type": "code",
      "metadata": {
        "id": "in3fW_ywrkWU"
      },
      "source": [
        "%tensorflow_version 2.x"
      ],
      "execution_count": 120,
      "outputs": []
    },
    {
      "cell_type": "code",
      "metadata": {
        "colab": {
          "base_uri": "https://localhost:8080/"
        },
        "id": "cLGT1u65rj22",
        "outputId": "38683bb4-9ddc-4d72-f7f7-f1e3bbb14f01"
      },
      "source": [
        "!pip install keras-tuner"
      ],
      "execution_count": 121,
      "outputs": [
        {
          "output_type": "stream",
          "name": "stdout",
          "text": [
            "Requirement already satisfied: keras-tuner in /usr/local/lib/python3.7/dist-packages (1.1.0)\n",
            "Requirement already satisfied: scipy in /usr/local/lib/python3.7/dist-packages (from keras-tuner) (1.4.1)\n",
            "Requirement already satisfied: packaging in /usr/local/lib/python3.7/dist-packages (from keras-tuner) (21.3)\n",
            "Requirement already satisfied: numpy in /usr/local/lib/python3.7/dist-packages (from keras-tuner) (1.19.5)\n",
            "Requirement already satisfied: tensorboard in /usr/local/lib/python3.7/dist-packages (from keras-tuner) (2.7.0)\n",
            "Requirement already satisfied: kt-legacy in /usr/local/lib/python3.7/dist-packages (from keras-tuner) (1.0.4)\n",
            "Requirement already satisfied: requests in /usr/local/lib/python3.7/dist-packages (from keras-tuner) (2.23.0)\n",
            "Requirement already satisfied: ipython in /usr/local/lib/python3.7/dist-packages (from keras-tuner) (5.5.0)\n",
            "Requirement already satisfied: setuptools>=18.5 in /usr/local/lib/python3.7/dist-packages (from ipython->keras-tuner) (57.4.0)\n",
            "Requirement already satisfied: prompt-toolkit<2.0.0,>=1.0.4 in /usr/local/lib/python3.7/dist-packages (from ipython->keras-tuner) (1.0.18)\n",
            "Requirement already satisfied: pexpect in /usr/local/lib/python3.7/dist-packages (from ipython->keras-tuner) (4.8.0)\n",
            "Requirement already satisfied: simplegeneric>0.8 in /usr/local/lib/python3.7/dist-packages (from ipython->keras-tuner) (0.8.1)\n",
            "Requirement already satisfied: traitlets>=4.2 in /usr/local/lib/python3.7/dist-packages (from ipython->keras-tuner) (5.1.1)\n",
            "Requirement already satisfied: pickleshare in /usr/local/lib/python3.7/dist-packages (from ipython->keras-tuner) (0.7.5)\n",
            "Requirement already satisfied: decorator in /usr/local/lib/python3.7/dist-packages (from ipython->keras-tuner) (4.4.2)\n",
            "Requirement already satisfied: pygments in /usr/local/lib/python3.7/dist-packages (from ipython->keras-tuner) (2.6.1)\n",
            "Requirement already satisfied: six>=1.9.0 in /usr/local/lib/python3.7/dist-packages (from prompt-toolkit<2.0.0,>=1.0.4->ipython->keras-tuner) (1.15.0)\n",
            "Requirement already satisfied: wcwidth in /usr/local/lib/python3.7/dist-packages (from prompt-toolkit<2.0.0,>=1.0.4->ipython->keras-tuner) (0.2.5)\n",
            "Requirement already satisfied: pyparsing!=3.0.5,>=2.0.2 in /usr/local/lib/python3.7/dist-packages (from packaging->keras-tuner) (3.0.6)\n",
            "Requirement already satisfied: ptyprocess>=0.5 in /usr/local/lib/python3.7/dist-packages (from pexpect->ipython->keras-tuner) (0.7.0)\n",
            "Requirement already satisfied: idna<3,>=2.5 in /usr/local/lib/python3.7/dist-packages (from requests->keras-tuner) (2.10)\n",
            "Requirement already satisfied: urllib3!=1.25.0,!=1.25.1,<1.26,>=1.21.1 in /usr/local/lib/python3.7/dist-packages (from requests->keras-tuner) (1.24.3)\n",
            "Requirement already satisfied: chardet<4,>=3.0.2 in /usr/local/lib/python3.7/dist-packages (from requests->keras-tuner) (3.0.4)\n",
            "Requirement already satisfied: certifi>=2017.4.17 in /usr/local/lib/python3.7/dist-packages (from requests->keras-tuner) (2021.10.8)\n",
            "Requirement already satisfied: absl-py>=0.4 in /usr/local/lib/python3.7/dist-packages (from tensorboard->keras-tuner) (0.12.0)\n",
            "Requirement already satisfied: tensorboard-plugin-wit>=1.6.0 in /usr/local/lib/python3.7/dist-packages (from tensorboard->keras-tuner) (1.8.0)\n",
            "Requirement already satisfied: google-auth<3,>=1.6.3 in /usr/local/lib/python3.7/dist-packages (from tensorboard->keras-tuner) (1.35.0)\n",
            "Requirement already satisfied: protobuf>=3.6.0 in /usr/local/lib/python3.7/dist-packages (from tensorboard->keras-tuner) (3.17.3)\n",
            "Requirement already satisfied: wheel>=0.26 in /usr/local/lib/python3.7/dist-packages (from tensorboard->keras-tuner) (0.37.0)\n",
            "Requirement already satisfied: werkzeug>=0.11.15 in /usr/local/lib/python3.7/dist-packages (from tensorboard->keras-tuner) (1.0.1)\n",
            "Requirement already satisfied: markdown>=2.6.8 in /usr/local/lib/python3.7/dist-packages (from tensorboard->keras-tuner) (3.3.6)\n",
            "Requirement already satisfied: tensorboard-data-server<0.7.0,>=0.6.0 in /usr/local/lib/python3.7/dist-packages (from tensorboard->keras-tuner) (0.6.1)\n",
            "Requirement already satisfied: google-auth-oauthlib<0.5,>=0.4.1 in /usr/local/lib/python3.7/dist-packages (from tensorboard->keras-tuner) (0.4.6)\n",
            "Requirement already satisfied: grpcio>=1.24.3 in /usr/local/lib/python3.7/dist-packages (from tensorboard->keras-tuner) (1.42.0)\n",
            "Requirement already satisfied: cachetools<5.0,>=2.0.0 in /usr/local/lib/python3.7/dist-packages (from google-auth<3,>=1.6.3->tensorboard->keras-tuner) (4.2.4)\n",
            "Requirement already satisfied: pyasn1-modules>=0.2.1 in /usr/local/lib/python3.7/dist-packages (from google-auth<3,>=1.6.3->tensorboard->keras-tuner) (0.2.8)\n",
            "Requirement already satisfied: rsa<5,>=3.1.4 in /usr/local/lib/python3.7/dist-packages (from google-auth<3,>=1.6.3->tensorboard->keras-tuner) (4.8)\n",
            "Requirement already satisfied: requests-oauthlib>=0.7.0 in /usr/local/lib/python3.7/dist-packages (from google-auth-oauthlib<0.5,>=0.4.1->tensorboard->keras-tuner) (1.3.0)\n",
            "Requirement already satisfied: importlib-metadata>=4.4 in /usr/local/lib/python3.7/dist-packages (from markdown>=2.6.8->tensorboard->keras-tuner) (4.8.2)\n",
            "Requirement already satisfied: typing-extensions>=3.6.4 in /usr/local/lib/python3.7/dist-packages (from importlib-metadata>=4.4->markdown>=2.6.8->tensorboard->keras-tuner) (3.10.0.2)\n",
            "Requirement already satisfied: zipp>=0.5 in /usr/local/lib/python3.7/dist-packages (from importlib-metadata>=4.4->markdown>=2.6.8->tensorboard->keras-tuner) (3.6.0)\n",
            "Requirement already satisfied: pyasn1<0.5.0,>=0.4.6 in /usr/local/lib/python3.7/dist-packages (from pyasn1-modules>=0.2.1->google-auth<3,>=1.6.3->tensorboard->keras-tuner) (0.4.8)\n",
            "Requirement already satisfied: oauthlib>=3.0.0 in /usr/local/lib/python3.7/dist-packages (from requests-oauthlib>=0.7.0->google-auth-oauthlib<0.5,>=0.4.1->tensorboard->keras-tuner) (3.1.1)\n"
          ]
        }
      ]
    },
    {
      "cell_type": "code",
      "metadata": {
        "id": "_OYLgAiIe9wE"
      },
      "source": [
        "#from tensorflow.keras.models import Sequential\n",
        "#from tensorflow.keras.layers import Activation, Dense, Flatten, Conv1D, MaxPooling1D, Dropout\n",
        "#from tensorflow.keras.optimizers import SGD\n",
        "import tensorflow as tf\n",
        "from tensorflow import keras\n",
        "import matplotlib.pyplot as plt"
      ],
      "execution_count": 122,
      "outputs": []
    },
    {
      "cell_type": "code",
      "metadata": {
        "id": "vyAyVcGloOH9"
      },
      "source": [
        "def build_model(hp):\n",
        "  model = keras.Sequential([\n",
        "    keras.layers.Conv1D(\n",
        "        filters=hp.Int('conv_1_filter', min_value=16, max_value=64, step=16),\n",
        "        kernel_size=hp.Choice('conv_1_kernel',values=[3,5]),\n",
        "        activation='relu',\n",
        "        input_shape=input_shape\n",
        "    ),\n",
        "    keras.layers.MaxPooling1D(pool_size=1),\n",
        "    keras.layers.Conv1D(\n",
        "        filters=hp.Int('conv_2_filter', min_value=16, max_value=32, step=16),\n",
        "        kernel_size=hp.Choice('conv_2_kernel',values=[3,5]),\n",
        "        activation='relu'\n",
        "    ),\n",
        "    keras.layers.MaxPooling1D(pool_size=1),\n",
        "    keras.layers.Flatten(),\n",
        "    keras.layers.Desne(\n",
        "        units=hp.INt('dense_1_units',min_value=16, max_values=64, step=16),\n",
        "        activation='relu'\n",
        "    ),\n",
        "    keras.layers.Dropout(hp.Float('dropout_1',min_value=0.25,max_value=0.75, step=0.25)),\n",
        "     keras.layers.Desne(5, activation='softmax'),\n",
        "  ])\n",
        "\n",
        "\n",
        "  model.compile(optimizer=keras.optimizers.Adam(hp.Choice('learning_rate', values=[1e-2, 1e-3])))"
      ],
      "execution_count": 123,
      "outputs": []
    },
    {
      "cell_type": "code",
      "metadata": {
        "id": "ZBZxmZ1Te9uW"
      },
      "source": [
        "model = keras.models.Sequential()\n",
        "model.add(keras.layers.Conv1D(32, 3, activation='relu', kernel_initializer='he_normal', input_shape=input_shape))\n",
        "model.add(keras.layers.MaxPooling1D(pool_size=2))\n",
        "model.add(keras.layers.Conv1D(16, 3, activation='relu', kernel_initializer='he_normal'))\n",
        "model.add(keras.layers.MaxPooling1D(pool_size=2))\n",
        "model.add(keras.layers.Flatten())\n",
        "model.add(keras.layers.Dense(16, activation='relu'))\n",
        "model.add(keras.layers.Dropout(0.5))\n",
        "model.add(keras.layers.Dense(5, activation='softmax'))\n",
        "model.compile(loss='categorical_crossentropy', optimizer=keras.optimizers.Adam(learning_rate=1e-3), metrics=['accuracy'])"
      ],
      "execution_count": 124,
      "outputs": []
    },
    {
      "cell_type": "code",
      "metadata": {
        "colab": {
          "base_uri": "https://localhost:8080/"
        },
        "id": "O9bmJOY3tn-H",
        "outputId": "b22ef3f0-bb8c-48db-b5b3-35e9ea173933"
      },
      "source": [
        "print(model.summary())"
      ],
      "execution_count": 125,
      "outputs": [
        {
          "output_type": "stream",
          "name": "stdout",
          "text": [
            "Model: \"sequential_1\"\n",
            "_________________________________________________________________\n",
            " Layer (type)                Output Shape              Param #   \n",
            "=================================================================\n",
            " conv1d_2 (Conv1D)           (None, 1612, 32)          128       \n",
            "                                                                 \n",
            " max_pooling1d_2 (MaxPooling  (None, 806, 32)          0         \n",
            " 1D)                                                             \n",
            "                                                                 \n",
            " conv1d_3 (Conv1D)           (None, 804, 16)           1552      \n",
            "                                                                 \n",
            " max_pooling1d_3 (MaxPooling  (None, 402, 16)          0         \n",
            " 1D)                                                             \n",
            "                                                                 \n",
            " flatten_1 (Flatten)         (None, 6432)              0         \n",
            "                                                                 \n",
            " dense_2 (Dense)             (None, 16)                102928    \n",
            "                                                                 \n",
            " dropout_1 (Dropout)         (None, 16)                0         \n",
            "                                                                 \n",
            " dense_3 (Dense)             (None, 5)                 85        \n",
            "                                                                 \n",
            "=================================================================\n",
            "Total params: 104,693\n",
            "Trainable params: 104,693\n",
            "Non-trainable params: 0\n",
            "_________________________________________________________________\n",
            "None\n"
          ]
        }
      ]
    },
    {
      "cell_type": "code",
      "metadata": {
        "id": "4QW9sGHFtn-I"
      },
      "source": [
        "from tensorflow.keras.callbacks import EarlyStopping, ModelCheckpoint, TensorBoard\n",
        "patience=10\n",
        "early_stopping=EarlyStopping(patience=patience, verbose=1)\n",
        "checkpointer=ModelCheckpoint(filepath='model.hdf5', save_best_only=True, verbose=1)\n",
        "tb = TensorBoard(log_dir='logs', histogram_freq=1, write_graph=1)"
      ],
      "execution_count": 126,
      "outputs": []
    },
    {
      "cell_type": "code",
      "metadata": {
        "colab": {
          "base_uri": "https://localhost:8080/"
        },
        "id": "k4Pmi95O9kOh",
        "outputId": "ea2b76eb-e51b-42e7-9f1c-46e99f49fbbd"
      },
      "source": [
        "train_title.shape"
      ],
      "execution_count": 127,
      "outputs": [
        {
          "output_type": "execute_result",
          "data": {
            "text/plain": [
              "(40000, 1614)"
            ]
          },
          "metadata": {},
          "execution_count": 127
        }
      ]
    },
    {
      "cell_type": "code",
      "metadata": {
        "id": "BPdspK-39UvH"
      },
      "source": [
        "from sklearn.model_selection import train_test_split\n",
        "\n",
        "test_size = 0.5\n",
        "val_title, test_title, val_label, test_label = train_test_split(test_title, test_label, test_size=test_size)"
      ],
      "execution_count": 128,
      "outputs": []
    },
    {
      "cell_type": "code",
      "metadata": {
        "id": "-7fE_7ly9-tf"
      },
      "source": [
        "from tensorflow.keras.utils import Sequence, to_categorical\n",
        "\n",
        "class DataGenerator(Sequence):\n",
        "    'Generates data for Keras'\n",
        "    def __init__(self, list_IDs, labels, batch_size=4, dim=(input_shape[0]), n_channels=1,\n",
        "                 n_classes=5, shuffle=True):\n",
        "        #Initialization\n",
        "        self.dim = dim\n",
        "        self.batch_size = batch_size\n",
        "        self.labels = labels\n",
        "        self.list_IDs = list_IDs\n",
        "        self.n_channels = n_channels\n",
        "        self.n_classes = n_classes\n",
        "        self.shuffle = shuffle\n",
        "        self.on_epoch_end()\n",
        "\n",
        "    def __len__(self):\n",
        "        #Denotes the number of batches per epoch\n",
        "        return int(np.floor(len(self.list_IDs) / self.batch_size))\n",
        "\n",
        "    def __getitem__(self, index):\n",
        "        #Generate one batch of data\n",
        "        # Generate indexes of the batch\n",
        "        indexes = self.indexes[index*self.batch_size:(index+1)*self.batch_size]\n",
        "        # Find list of IDs\n",
        "        #list_IDs_temp = [self.list_IDs.iloc[k] for k in indexes]\n",
        "        # Generate data\n",
        "        X, y = self.__data_generation(indexes)\n",
        "\n",
        "        return X, y\n",
        "\n",
        "    def on_epoch_end(self):\n",
        "        #Updates indexes after each epoch\n",
        "        self.indexes = np.arange(len(self.list_IDs))\n",
        "        if self.shuffle == True:\n",
        "            np.random.shuffle(self.indexes)\n",
        "\n",
        "    def __data_generation(self, list_IDs_temp):\n",
        "        #Generates data containing batch_size samples\n",
        "        # X : (n_samples, *dim, n_channels)\n",
        "        # Initialization\n",
        "        X = np.empty((self.batch_size, self.dim, self.n_channels))\n",
        "        y = np.empty((self.batch_size), dtype=int)\n",
        "        # Generate data\n",
        "        for i in range(len(list_IDs_temp)):\n",
        "            # Store sample\n",
        "            X[i] = self.list_IDs.iloc[list_IDs_temp[i]].to_numpy().reshape(self.dim, self.n_channels)\n",
        "\n",
        "            # Store class\n",
        "            y[i] = self.labels.iloc[list_IDs_temp[i]]\n",
        "\n",
        "        return X, to_categorical(y - 1, num_classes=self.n_classes)"
      ],
      "execution_count": 134,
      "outputs": []
    },
    {
      "cell_type": "code",
      "metadata": {
        "id": "v2bv5dDMBLmw"
      },
      "source": [
        "from tensorflow.keras.preprocessing.image import ImageDataGenerator\n",
        "\n",
        "train_generator = DataGenerator(train_title, train_label)"
      ],
      "execution_count": 135,
      "outputs": []
    },
    {
      "cell_type": "code",
      "metadata": {
        "colab": {
          "base_uri": "https://localhost:8080/"
        },
        "id": "Ha03AZL-56RV",
        "outputId": "4bb5eb84-0f52-4f7b-ac08-d499a9bceac1"
      },
      "source": [
        "s = val_title.shape\n",
        "val_title = val_title.to_numpy().reshape(s[0], s[1], 1)\n",
        "print(val_title.shape)\n",
        "val_label = val_label.to_numpy()\n",
        "val_label = val_label - 1\n",
        "val_label = to_categorical(val_label, num_classes=5)\n",
        "val_label"
      ],
      "execution_count": 131,
      "outputs": [
        {
          "output_type": "stream",
          "name": "stdout",
          "text": [
            "(2500, 1614, 1)\n"
          ]
        },
        {
          "output_type": "execute_result",
          "data": {
            "text/plain": [
              "array([[0., 1., 0., 0., 0.],\n",
              "       [0., 0., 1., 0., 0.],\n",
              "       [0., 0., 1., 0., 0.],\n",
              "       ...,\n",
              "       [0., 1., 0., 0., 0.],\n",
              "       [0., 1., 0., 0., 0.],\n",
              "       [0., 0., 0., 0., 1.]], dtype=float32)"
            ]
          },
          "metadata": {},
          "execution_count": 131
        }
      ]
    },
    {
      "cell_type": "code",
      "metadata": {
        "colab": {
          "base_uri": "https://localhost:8080/"
        },
        "id": "emqCK_-Q56RV",
        "outputId": "2277e0bd-1c0a-44f7-f66b-d4c04da9401e"
      },
      "source": [
        "s = test_title.shape\n",
        "test_title.to_numpy().reshape(s[0], s[1], 1)\n",
        "print(test_title.shape)\n",
        "test_label = test_label.to_numpy()\n",
        "test_label = test_label - 1\n",
        "test_label = to_categorical(test_label, num_classes=5)\n",
        "test_label"
      ],
      "execution_count": 132,
      "outputs": [
        {
          "output_type": "stream",
          "name": "stdout",
          "text": [
            "(2500, 1614)\n"
          ]
        },
        {
          "output_type": "execute_result",
          "data": {
            "text/plain": [
              "array([[0., 0., 1., 0., 0.],\n",
              "       [0., 0., 1., 0., 0.],\n",
              "       [0., 1., 0., 0., 0.],\n",
              "       ...,\n",
              "       [0., 1., 0., 0., 0.],\n",
              "       [0., 0., 0., 1., 0.],\n",
              "       [0., 1., 0., 0., 0.]], dtype=float32)"
            ]
          },
          "metadata": {},
          "execution_count": 132
        }
      ]
    },
    {
      "cell_type": "code",
      "metadata": {
        "colab": {
          "base_uri": "https://localhost:8080/"
        },
        "id": "JI2d4WRAtn-I",
        "scrolled": true,
        "outputId": "1919b548-03d8-41ee-9f7a-677555bbda8f"
      },
      "source": [
        "network_history = model.fit(train_generator, validation_data=(val_title, val_label), epochs=30,steps_per_epoch=250, verbose=1, callbacks=[early_stopping, checkpointer, tb])"
      ],
      "execution_count": 136,
      "outputs": [
        {
          "output_type": "stream",
          "name": "stdout",
          "text": [
            "Epoch 1/30\n",
            "250/250 [==============================] - ETA: 0s - loss: 1.3115 - accuracy: 0.4050\n",
            "Epoch 00001: val_loss improved from inf to 1.17147, saving model to model.hdf5\n",
            "250/250 [==============================] - 39s 156ms/step - loss: 1.3115 - accuracy: 0.4050 - val_loss: 1.1715 - val_accuracy: 0.4784\n",
            "Epoch 2/30\n",
            "250/250 [==============================] - ETA: 0s - loss: 1.2557 - accuracy: 0.4380\n",
            "Epoch 00002: val_loss improved from 1.17147 to 1.09891, saving model to model.hdf5\n",
            "250/250 [==============================] - 40s 158ms/step - loss: 1.2557 - accuracy: 0.4380 - val_loss: 1.0989 - val_accuracy: 0.5184\n",
            "Epoch 3/30\n",
            "250/250 [==============================] - ETA: 0s - loss: 1.2032 - accuracy: 0.4430\n",
            "Epoch 00003: val_loss improved from 1.09891 to 1.07973, saving model to model.hdf5\n",
            "250/250 [==============================] - 40s 159ms/step - loss: 1.2032 - accuracy: 0.4430 - val_loss: 1.0797 - val_accuracy: 0.5324\n",
            "Epoch 4/30\n",
            "250/250 [==============================] - ETA: 0s - loss: 1.1917 - accuracy: 0.4530\n",
            "Epoch 00004: val_loss improved from 1.07973 to 1.05743, saving model to model.hdf5\n",
            "250/250 [==============================] - 40s 158ms/step - loss: 1.1917 - accuracy: 0.4530 - val_loss: 1.0574 - val_accuracy: 0.5084\n",
            "Epoch 5/30\n",
            "250/250 [==============================] - ETA: 0s - loss: 1.1898 - accuracy: 0.4360\n",
            "Epoch 00005: val_loss improved from 1.05743 to 1.04814, saving model to model.hdf5\n",
            "250/250 [==============================] - 40s 159ms/step - loss: 1.1898 - accuracy: 0.4360 - val_loss: 1.0481 - val_accuracy: 0.5412\n",
            "Epoch 6/30\n",
            "250/250 [==============================] - ETA: 0s - loss: 1.1337 - accuracy: 0.4500\n",
            "Epoch 00006: val_loss improved from 1.04814 to 1.04043, saving model to model.hdf5\n",
            "250/250 [==============================] - 39s 156ms/step - loss: 1.1337 - accuracy: 0.4500 - val_loss: 1.0404 - val_accuracy: 0.5228\n",
            "Epoch 7/30\n",
            "250/250 [==============================] - ETA: 0s - loss: 1.1157 - accuracy: 0.5110\n",
            "Epoch 00007: val_loss improved from 1.04043 to 1.00815, saving model to model.hdf5\n",
            "250/250 [==============================] - 39s 157ms/step - loss: 1.1157 - accuracy: 0.5110 - val_loss: 1.0082 - val_accuracy: 0.5440\n",
            "Epoch 8/30\n",
            "250/250 [==============================] - ETA: 0s - loss: 1.0722 - accuracy: 0.5120\n",
            "Epoch 00008: val_loss did not improve from 1.00815\n",
            "250/250 [==============================] - 40s 160ms/step - loss: 1.0722 - accuracy: 0.5120 - val_loss: 1.0124 - val_accuracy: 0.5284\n",
            "Epoch 9/30\n",
            "250/250 [==============================] - ETA: 0s - loss: 1.0974 - accuracy: 0.5000\n",
            "Epoch 00009: val_loss improved from 1.00815 to 0.99361, saving model to model.hdf5\n",
            "250/250 [==============================] - 39s 157ms/step - loss: 1.0974 - accuracy: 0.5000 - val_loss: 0.9936 - val_accuracy: 0.5532\n",
            "Epoch 10/30\n",
            "250/250 [==============================] - ETA: 0s - loss: 1.0791 - accuracy: 0.4840\n",
            "Epoch 00010: val_loss improved from 0.99361 to 0.97841, saving model to model.hdf5\n",
            "250/250 [==============================] - 40s 159ms/step - loss: 1.0791 - accuracy: 0.4840 - val_loss: 0.9784 - val_accuracy: 0.5484\n",
            "Epoch 11/30\n",
            "250/250 [==============================] - ETA: 0s - loss: 1.1053 - accuracy: 0.4900\n",
            "Epoch 00011: val_loss did not improve from 0.97841\n",
            "250/250 [==============================] - 39s 158ms/step - loss: 1.1053 - accuracy: 0.4900 - val_loss: 0.9864 - val_accuracy: 0.5524\n",
            "Epoch 12/30\n",
            "250/250 [==============================] - ETA: 0s - loss: 1.0618 - accuracy: 0.5110\n",
            "Epoch 00012: val_loss improved from 0.97841 to 0.96526, saving model to model.hdf5\n",
            "250/250 [==============================] - 39s 156ms/step - loss: 1.0618 - accuracy: 0.5110 - val_loss: 0.9653 - val_accuracy: 0.5340\n",
            "Epoch 13/30\n",
            "250/250 [==============================] - ETA: 0s - loss: 1.0838 - accuracy: 0.4820\n",
            "Epoch 00013: val_loss improved from 0.96526 to 0.95726, saving model to model.hdf5\n",
            "250/250 [==============================] - 39s 156ms/step - loss: 1.0838 - accuracy: 0.4820 - val_loss: 0.9573 - val_accuracy: 0.5548\n",
            "Epoch 14/30\n",
            "250/250 [==============================] - ETA: 0s - loss: 1.0424 - accuracy: 0.5190\n",
            "Epoch 00014: val_loss improved from 0.95726 to 0.94845, saving model to model.hdf5\n",
            "250/250 [==============================] - 39s 158ms/step - loss: 1.0424 - accuracy: 0.5190 - val_loss: 0.9485 - val_accuracy: 0.5572\n",
            "Epoch 15/30\n",
            "250/250 [==============================] - ETA: 0s - loss: 1.0877 - accuracy: 0.4890\n",
            "Epoch 00015: val_loss did not improve from 0.94845\n",
            "250/250 [==============================] - 40s 159ms/step - loss: 1.0877 - accuracy: 0.4890 - val_loss: 0.9515 - val_accuracy: 0.5612\n",
            "Epoch 16/30\n",
            "250/250 [==============================] - ETA: 0s - loss: 1.0289 - accuracy: 0.5130\n",
            "Epoch 00016: val_loss improved from 0.94845 to 0.94386, saving model to model.hdf5\n",
            "250/250 [==============================] - 40s 160ms/step - loss: 1.0289 - accuracy: 0.5130 - val_loss: 0.9439 - val_accuracy: 0.5636\n",
            "Epoch 17/30\n",
            "250/250 [==============================] - ETA: 0s - loss: 0.9999 - accuracy: 0.5120\n",
            "Epoch 00017: val_loss improved from 0.94386 to 0.93877, saving model to model.hdf5\n",
            "250/250 [==============================] - 40s 161ms/step - loss: 0.9999 - accuracy: 0.5120 - val_loss: 0.9388 - val_accuracy: 0.5664\n",
            "Epoch 18/30\n",
            "250/250 [==============================] - ETA: 0s - loss: 1.0509 - accuracy: 0.5240\n",
            "Epoch 00018: val_loss did not improve from 0.93877\n",
            "250/250 [==============================] - 40s 159ms/step - loss: 1.0509 - accuracy: 0.5240 - val_loss: 0.9394 - val_accuracy: 0.5668\n",
            "Epoch 19/30\n",
            "250/250 [==============================] - ETA: 0s - loss: 1.0037 - accuracy: 0.5230\n",
            "Epoch 00019: val_loss improved from 0.93877 to 0.92862, saving model to model.hdf5\n",
            "250/250 [==============================] - 40s 159ms/step - loss: 1.0037 - accuracy: 0.5230 - val_loss: 0.9286 - val_accuracy: 0.5720\n",
            "Epoch 20/30\n",
            "250/250 [==============================] - ETA: 0s - loss: 1.0171 - accuracy: 0.5220\n",
            "Epoch 00020: val_loss improved from 0.92862 to 0.92680, saving model to model.hdf5\n",
            "250/250 [==============================] - 39s 157ms/step - loss: 1.0171 - accuracy: 0.5220 - val_loss: 0.9268 - val_accuracy: 0.5688\n",
            "Epoch 21/30\n",
            "250/250 [==============================] - ETA: 0s - loss: 1.0496 - accuracy: 0.5190\n",
            "Epoch 00021: val_loss did not improve from 0.92680\n",
            "250/250 [==============================] - 39s 156ms/step - loss: 1.0496 - accuracy: 0.5190 - val_loss: 0.9273 - val_accuracy: 0.5768\n",
            "Epoch 22/30\n",
            "250/250 [==============================] - ETA: 0s - loss: 1.0121 - accuracy: 0.5250\n",
            "Epoch 00022: val_loss improved from 0.92680 to 0.92660, saving model to model.hdf5\n",
            "250/250 [==============================] - 39s 157ms/step - loss: 1.0121 - accuracy: 0.5250 - val_loss: 0.9266 - val_accuracy: 0.5772\n",
            "Epoch 23/30\n",
            "250/250 [==============================] - ETA: 0s - loss: 1.0497 - accuracy: 0.4900\n",
            "Epoch 00023: val_loss did not improve from 0.92660\n",
            "250/250 [==============================] - 40s 158ms/step - loss: 1.0497 - accuracy: 0.4900 - val_loss: 0.9303 - val_accuracy: 0.5752\n",
            "Epoch 24/30\n",
            "250/250 [==============================] - ETA: 0s - loss: 1.0495 - accuracy: 0.5440\n",
            "Epoch 00024: val_loss improved from 0.92660 to 0.92095, saving model to model.hdf5\n",
            "250/250 [==============================] - 40s 158ms/step - loss: 1.0495 - accuracy: 0.5440 - val_loss: 0.9210 - val_accuracy: 0.5800\n",
            "Epoch 25/30\n",
            "250/250 [==============================] - ETA: 0s - loss: 0.9959 - accuracy: 0.5210\n",
            "Epoch 00025: val_loss improved from 0.92095 to 0.91313, saving model to model.hdf5\n",
            "250/250 [==============================] - 40s 161ms/step - loss: 0.9959 - accuracy: 0.5210 - val_loss: 0.9131 - val_accuracy: 0.5752\n",
            "Epoch 26/30\n",
            "250/250 [==============================] - ETA: 0s - loss: 0.9889 - accuracy: 0.5260\n",
            "Epoch 00026: val_loss improved from 0.91313 to 0.91304, saving model to model.hdf5\n",
            "250/250 [==============================] - 40s 160ms/step - loss: 0.9889 - accuracy: 0.5260 - val_loss: 0.9130 - val_accuracy: 0.5820\n",
            "Epoch 27/30\n",
            "250/250 [==============================] - ETA: 0s - loss: 0.9783 - accuracy: 0.5310\n",
            "Epoch 00027: val_loss improved from 0.91304 to 0.90435, saving model to model.hdf5\n",
            "250/250 [==============================] - 40s 161ms/step - loss: 0.9783 - accuracy: 0.5310 - val_loss: 0.9043 - val_accuracy: 0.5780\n",
            "Epoch 28/30\n",
            "250/250 [==============================] - ETA: 0s - loss: 0.9762 - accuracy: 0.5240\n",
            "Epoch 00028: val_loss improved from 0.90435 to 0.90148, saving model to model.hdf5\n",
            "250/250 [==============================] - 40s 158ms/step - loss: 0.9762 - accuracy: 0.5240 - val_loss: 0.9015 - val_accuracy: 0.5788\n",
            "Epoch 29/30\n",
            "250/250 [==============================] - ETA: 0s - loss: 1.0216 - accuracy: 0.5140\n",
            "Epoch 00029: val_loss did not improve from 0.90148\n",
            "250/250 [==============================] - 39s 155ms/step - loss: 1.0216 - accuracy: 0.5140 - val_loss: 0.9087 - val_accuracy: 0.5780\n",
            "Epoch 30/30\n",
            "250/250 [==============================] - ETA: 0s - loss: 1.0337 - accuracy: 0.5130\n",
            "Epoch 00030: val_loss did not improve from 0.90148\n",
            "250/250 [==============================] - 39s 157ms/step - loss: 1.0337 - accuracy: 0.5130 - val_loss: 0.9028 - val_accuracy: 0.5796\n"
          ]
        }
      ]
    },
    {
      "cell_type": "code",
      "metadata": {
        "id": "qWGJnrXhuf1e",
        "colab": {
          "base_uri": "https://localhost:8080/"
        },
        "outputId": "b23bd88f-8d1b-464e-96e4-3c0230d16e33"
      },
      "source": [
        "from keras.models import load_model\n",
        "model = load_model(\"model.hdf5\")\n",
        "test_err = model.evaluate(test_title, test_label)\n",
        "print(\"Teszt hiba:\", test_err[0], \"Teszt pontosság:\", test_err[1])"
      ],
      "execution_count": 137,
      "outputs": [
        {
          "output_type": "stream",
          "name": "stdout",
          "text": [
            "79/79 [==============================] - 1s 5ms/step - loss: 0.9586 - accuracy: 0.5476\n",
            "Teszt hiba: 0.9586334824562073 Teszt pontosság: 0.5475999712944031\n"
          ]
        }
      ]
    },
    {
      "cell_type": "code",
      "metadata": {
        "id": "qQ7O1bChuq4l",
        "colab": {
          "base_uri": "https://localhost:8080/"
        },
        "outputId": "91765641-d747-487f-8044-1c6a4504af68"
      },
      "source": [
        "import numpy as np\n",
        "from sklearn.metrics import accuracy_score, precision_score, recall_score, f1_score, roc_curve, confusion_matrix\n",
        "# először is nyerjük ki a predikciókat (valószínüség és hozzá tartozó pontosságot)\n",
        "y_pred = model.predict(test_title)\n",
        "y_pred = np.argmax(y_pred,1)\n",
        "y_true = np.argmax(test_label,1)\n",
        "\n",
        "print(\"test accuracy: %g\" %(accuracy_score(y_true, y_pred)))\n",
        "print(\"Precision\", precision_score(y_true, y_pred, average=\"macro\"))\n",
        "print(\"Recall\", recall_score(y_true, y_pred, average=\"macro\"))\n",
        "print(\"f1_score\", f1_score(y_true, y_pred, average=\"macro\"))\n",
        "print(\"\\nKonfúziós mátrix: \")\n",
        "conf=confusion_matrix(y_true, y_pred)\n",
        "print(conf)"
      ],
      "execution_count": 138,
      "outputs": [
        {
          "output_type": "stream",
          "name": "stdout",
          "text": [
            "test accuracy: 0.5476\n",
            "Precision 0.6286378308583231\n",
            "Recall 0.5505007222513311\n",
            "f1_score 0.5541066842641013\n",
            "\n",
            "Konfúziós mátrix: \n",
            "[[244  10 210   9   9]\n",
            " [  6 463  22   4   8]\n",
            " [ 14   1 270  33 170]\n",
            " [ 15   2 239 112 159]\n",
            " [  8   4 175  33 280]]\n"
          ]
        }
      ]
    },
    {
      "cell_type": "code",
      "metadata": {
        "id": "SNOZBCYyuumA",
        "colab": {
          "base_uri": "https://localhost:8080/",
          "height": 286
        },
        "outputId": "c98d0202-bde6-4ee7-d2b8-f02cea3a2575"
      },
      "source": [
        "import seaborn as sns\n",
        "sns.heatmap(conf, annot=True, fmt='d', vmax=20) # a vmax paraméterrel állítjuk be, hogy milyen értéktartományban jelenítse meg az adatokat"
      ],
      "execution_count": 139,
      "outputs": [
        {
          "output_type": "execute_result",
          "data": {
            "text/plain": [
              "<matplotlib.axes._subplots.AxesSubplot at 0x7f617e009490>"
            ]
          },
          "metadata": {},
          "execution_count": 139
        },
        {
          "output_type": "display_data",
          "data": {
            "image/png": "[encoded data removed]",
            "text/plain": [
              "<Figure size 432x288 with 2 Axes>"
            ]
          },
          "metadata": {
            "needs_background": "light"
          }
        }
      ]
    },
    {
      "cell_type": "code",
      "metadata": {
        "id": "DNftg46_85DO"
      },
      "source": [
        ""
      ],
      "execution_count": null,
      "outputs": []
    }
  ]
}