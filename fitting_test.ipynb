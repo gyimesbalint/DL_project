{
  "nbformat": 4,
  "nbformat_minor": 0,
  "metadata": {
    "accelerator": "GPU",
    "colab": {
      "name": "fitting_test.ipynb",
      "provenance": [],
      "collapsed_sections": [],
      "include_colab_link": true
    },
    "kernelspec": {
      "display_name": "Python 3",
      "language": "python",
      "name": "python3"
    },
    "language_info": {
      "codemirror_mode": {
        "name": "ipython",
        "version": 3
      },
      "file_extension": ".py",
      "mimetype": "text/x-python",
      "name": "python",
      "nbconvert_exporter": "python",
      "pygments_lexer": "ipython3",
      "version": "3.6.13"
    }
  },
  "cells": [
    {
      "cell_type": "markdown",
      "metadata": {
        "id": "view-in-github",
        "colab_type": "text"
      },
      "source": [
        "<a href=\"https://colab.research.google.com/github/gyimesbalint/DL_project/blob/main/fitting_test.ipynb\" target=\"_parent\"><img src=\"https://colab.research.google.com/assets/colab-badge.svg\" alt=\"Open In Colab\"/></a>"
      ]
    },
    {
      "cell_type": "markdown",
      "metadata": {
        "id": "ssQLrwJ3b8F1"
      },
      "source": [
        "#Importing datasets"
      ]
    },
    {
      "cell_type": "code",
      "metadata": {
        "colab": {
          "base_uri": "https://localhost:8080/"
        },
        "id": "K2gR-BhaV0Mr",
        "outputId": "d464f89c-829f-4b12-e31c-25dcf606e3b2"
      },
      "source": [
        "# https://drive.google.com/file/d/1pmNSD1nbYHEAiP065s4akRXHMWFs9Dqw/view?usp=sharing DBpedia train.csv\n",
        "# https://drive.google.com/file/d/1mKededzdbJsWQnwsu-R_WSILYSvNEY7c/view?usp=sharing DBpedia test.csv\n",
        "!pip install gdown\n",
        "!gdown --id 1pmNSD1nbYHEAiP065s4akRXHMWFs9Dqw --output train.csv  #import train.csv from drive\n",
        "!gdown --id 1mKededzdbJsWQnwsu-R_WSILYSvNEY7c --output test.csv   #import test.csv from drive"
      ],
      "execution_count": null,
      "outputs": [
        {
          "output_type": "stream",
          "name": "stdout",
          "text": [
            "Requirement already satisfied: gdown in /usr/local/lib/python3.7/dist-packages (3.6.4)\n",
            "Requirement already satisfied: tqdm in /usr/local/lib/python3.7/dist-packages (from gdown) (4.62.3)\n",
            "Requirement already satisfied: requests in /usr/local/lib/python3.7/dist-packages (from gdown) (2.23.0)\n",
            "Requirement already satisfied: six in /usr/local/lib/python3.7/dist-packages (from gdown) (1.15.0)\n",
            "Requirement already satisfied: urllib3!=1.25.0,!=1.25.1,<1.26,>=1.21.1 in /usr/local/lib/python3.7/dist-packages (from requests->gdown) (1.24.3)\n",
            "Requirement already satisfied: chardet<4,>=3.0.2 in /usr/local/lib/python3.7/dist-packages (from requests->gdown) (3.0.4)\n",
            "Requirement already satisfied: certifi>=2017.4.17 in /usr/local/lib/python3.7/dist-packages (from requests->gdown) (2021.10.8)\n",
            "Requirement already satisfied: idna<3,>=2.5 in /usr/local/lib/python3.7/dist-packages (from requests->gdown) (2.10)\n",
            "Downloading...\n",
            "From: https://drive.google.com/uc?id=1pmNSD1nbYHEAiP065s4akRXHMWFs9Dqw\n",
            "To: /content/train.csv\n",
            "100% 174M/174M [00:01<00:00, 127MB/s]\n",
            "Downloading...\n",
            "From: https://drive.google.com/uc?id=1mKededzdbJsWQnwsu-R_WSILYSvNEY7c\n",
            "To: /content/test.csv\n",
            "100% 21.8M/21.8M [00:00<00:00, 130MB/s] \n"
          ]
        }
      ]
    },
    {
      "cell_type": "code",
      "metadata": {
        "id": "a7DxLlchmrSG"
      },
      "source": [
        "import numpy as np\n",
        "import pandas as pd\n",
        "\n",
        "train_data = pd.read_csv('train.csv', encoding='utf8',header=None) #read csv to dataframe\n",
        "test_data = pd.read_csv('test.csv', encoding='utf8',header=None)   #read csv to dataframe\n",
        "\n",
        "train_data.where(train_data[0] < 6, inplace = True)  #select first 5 categories\n",
        "train_data = train_data[train_data[0].notnull()]     #remove NaN values\n",
        "\n",
        "test_data.where(test_data[0] < 6, inplace = True)    #select first 5 categories\n",
        "test_data = test_data[test_data[0].notnull()]        #remove NaN values"
      ],
      "execution_count": null,
      "outputs": []
    },
    {
      "cell_type": "code",
      "metadata": {
        "colab": {
          "base_uri": "https://localhost:8080/",
          "height": 423
        },
        "id": "FOolUWEX56RF",
        "outputId": "68cbecb8-31af-4e23-82d1-20fb1da2fce3"
      },
      "source": [
        "training_data = train_data.where(train_data[0] == 1.0)\n",
        "training_data = training_data[training_data[0].notnull()]\n",
        "training_data = training_data.head(len(training_data) // 5)\n",
        "for i in range(2, 6):\n",
        "    tmp = train_data.where(train_data[0] == (i * 1.0))\n",
        "    tmp = tmp[tmp[0].notnull()]\n",
        "    tmp = tmp.head(len(tmp) // 5)\n",
        "    training_data = pd.concat([training_data, tmp])\n",
        "train_data = training_data #reduce training_data size\n",
        "train_data"
      ],
      "execution_count": null,
      "outputs": [
        {
          "output_type": "execute_result",
          "data": {
            "text/html": [
              "<div>\n",
              "<style scoped>\n",
              "    .dataframe tbody tr th:only-of-type {\n",
              "        vertical-align: middle;\n",
              "    }\n",
              "\n",
              "    .dataframe tbody tr th {\n",
              "        vertical-align: top;\n",
              "    }\n",
              "\n",
              "    .dataframe thead th {\n",
              "        text-align: right;\n",
              "    }\n",
              "</style>\n",
              "<table border=\"1\" class=\"dataframe\">\n",
              "  <thead>\n",
              "    <tr style=\"text-align: right;\">\n",
              "      <th></th>\n",
              "      <th>0</th>\n",
              "      <th>1</th>\n",
              "      <th>2</th>\n",
              "    </tr>\n",
              "  </thead>\n",
              "  <tbody>\n",
              "    <tr>\n",
              "      <th>0</th>\n",
              "      <td>1.0</td>\n",
              "      <td>E. D. Abbott Ltd</td>\n",
              "      <td>Abbott of Farnham E D Abbott Limited was a Br...</td>\n",
              "    </tr>\n",
              "    <tr>\n",
              "      <th>1</th>\n",
              "      <td>1.0</td>\n",
              "      <td>Schwan-Stabilo</td>\n",
              "      <td>Schwan-STABILO is a German maker of pens for ...</td>\n",
              "    </tr>\n",
              "    <tr>\n",
              "      <th>2</th>\n",
              "      <td>1.0</td>\n",
              "      <td>Q-workshop</td>\n",
              "      <td>Q-workshop is a Polish company located in Poz...</td>\n",
              "    </tr>\n",
              "    <tr>\n",
              "      <th>3</th>\n",
              "      <td>1.0</td>\n",
              "      <td>Marvell Software Solutions Israel</td>\n",
              "      <td>Marvell Software Solutions Israel known as RA...</td>\n",
              "    </tr>\n",
              "    <tr>\n",
              "      <th>4</th>\n",
              "      <td>1.0</td>\n",
              "      <td>Bergan Mercy Medical Center</td>\n",
              "      <td>Bergan Mercy Medical Center is a hospital loc...</td>\n",
              "    </tr>\n",
              "    <tr>\n",
              "      <th>...</th>\n",
              "      <td>...</td>\n",
              "      <td>...</td>\n",
              "      <td>...</td>\n",
              "    </tr>\n",
              "    <tr>\n",
              "      <th>167995</th>\n",
              "      <td>5.0</td>\n",
              "      <td>Zsolt Horváth (politician 1964)</td>\n",
              "      <td>Zsolt Horváth (born May 22 1964) is a Hungari...</td>\n",
              "    </tr>\n",
              "    <tr>\n",
              "      <th>167996</th>\n",
              "      <td>5.0</td>\n",
              "      <td>Majaliwa K. Majaliwa</td>\n",
              "      <td>Majaliwa Kassim Majaliwa (born 22 December 19...</td>\n",
              "    </tr>\n",
              "    <tr>\n",
              "      <th>167997</th>\n",
              "      <td>5.0</td>\n",
              "      <td>Jeanne Hulit</td>\n",
              "      <td>Jeanne A. Hulit (born 1958) served as Acting ...</td>\n",
              "    </tr>\n",
              "    <tr>\n",
              "      <th>167998</th>\n",
              "      <td>5.0</td>\n",
              "      <td>Peter N. Silvestri</td>\n",
              "      <td>Peter N. Silvestri is currently a member of t...</td>\n",
              "    </tr>\n",
              "    <tr>\n",
              "      <th>167999</th>\n",
              "      <td>5.0</td>\n",
              "      <td>Joseph Petrarca Jr.</td>\n",
              "      <td>Joseph A. Joe Petrarca Jr. (born April 2 1961...</td>\n",
              "    </tr>\n",
              "  </tbody>\n",
              "</table>\n",
              "<p>40000 rows × 3 columns</p>\n",
              "</div>"
            ],
            "text/plain": [
              "          0  ...                                                  2\n",
              "0       1.0  ...   Abbott of Farnham E D Abbott Limited was a Br...\n",
              "1       1.0  ...   Schwan-STABILO is a German maker of pens for ...\n",
              "2       1.0  ...   Q-workshop is a Polish company located in Poz...\n",
              "3       1.0  ...   Marvell Software Solutions Israel known as RA...\n",
              "4       1.0  ...   Bergan Mercy Medical Center is a hospital loc...\n",
              "...     ...  ...                                                ...\n",
              "167995  5.0  ...   Zsolt Horváth (born May 22 1964) is a Hungari...\n",
              "167996  5.0  ...   Majaliwa Kassim Majaliwa (born 22 December 19...\n",
              "167997  5.0  ...   Jeanne A. Hulit (born 1958) served as Acting ...\n",
              "167998  5.0  ...   Peter N. Silvestri is currently a member of t...\n",
              "167999  5.0  ...   Joseph A. Joe Petrarca Jr. (born April 2 1961...\n",
              "\n",
              "[40000 rows x 3 columns]"
            ]
          },
          "metadata": {},
          "execution_count": 3
        }
      ]
    },
    {
      "cell_type": "code",
      "metadata": {
        "colab": {
          "base_uri": "https://localhost:8080/",
          "height": 423
        },
        "id": "2oY2JHmj56RH",
        "outputId": "dc691ed5-5663-458d-9b9a-2114091a993f"
      },
      "source": [
        "testing_data = test_data.where(test_data[0] == 1.0)\n",
        "testing_data = testing_data[testing_data[0].notnull()]\n",
        "testing_data = testing_data.head(len(testing_data) // 5)\n",
        "for i in range(2, 6):\n",
        "    tmp = test_data.where(test_data[0] == (i * 1.0))\n",
        "    tmp = tmp[tmp[0].notnull()]\n",
        "    tmp = tmp.head(len(tmp) // 5)\n",
        "    testing_data = pd.concat([testing_data, tmp])\n",
        "test_data = testing_data #reduce testing_data size\n",
        "test_data"
      ],
      "execution_count": null,
      "outputs": [
        {
          "output_type": "execute_result",
          "data": {
            "text/html": [
              "<div>\n",
              "<style scoped>\n",
              "    .dataframe tbody tr th:only-of-type {\n",
              "        vertical-align: middle;\n",
              "    }\n",
              "\n",
              "    .dataframe tbody tr th {\n",
              "        vertical-align: top;\n",
              "    }\n",
              "\n",
              "    .dataframe thead th {\n",
              "        text-align: right;\n",
              "    }\n",
              "</style>\n",
              "<table border=\"1\" class=\"dataframe\">\n",
              "  <thead>\n",
              "    <tr style=\"text-align: right;\">\n",
              "      <th></th>\n",
              "      <th>0</th>\n",
              "      <th>1</th>\n",
              "      <th>2</th>\n",
              "    </tr>\n",
              "  </thead>\n",
              "  <tbody>\n",
              "    <tr>\n",
              "      <th>0</th>\n",
              "      <td>1.0</td>\n",
              "      <td>TY KU</td>\n",
              "      <td>TY KU /taɪkuː/ is an American alcoholic bever...</td>\n",
              "    </tr>\n",
              "    <tr>\n",
              "      <th>1</th>\n",
              "      <td>1.0</td>\n",
              "      <td>Odd Lot Entertainment</td>\n",
              "      <td>OddLot Entertainment founded in 2001 by longt...</td>\n",
              "    </tr>\n",
              "    <tr>\n",
              "      <th>2</th>\n",
              "      <td>1.0</td>\n",
              "      <td>Henkel</td>\n",
              "      <td>Henkel AG &amp; Company KGaA operates worldwide w...</td>\n",
              "    </tr>\n",
              "    <tr>\n",
              "      <th>3</th>\n",
              "      <td>1.0</td>\n",
              "      <td>GOAT Store</td>\n",
              "      <td>The GOAT Store (Games Of All Type Store) LLC ...</td>\n",
              "    </tr>\n",
              "    <tr>\n",
              "      <th>4</th>\n",
              "      <td>1.0</td>\n",
              "      <td>RagWing Aircraft Designs</td>\n",
              "      <td>RagWing Aircraft Designs (also called the Rag...</td>\n",
              "    </tr>\n",
              "    <tr>\n",
              "      <th>...</th>\n",
              "      <td>...</td>\n",
              "      <td>...</td>\n",
              "      <td>...</td>\n",
              "    </tr>\n",
              "    <tr>\n",
              "      <th>20995</th>\n",
              "      <td>5.0</td>\n",
              "      <td>Annise Parker</td>\n",
              "      <td>Annise Danette Parker (born May 17 1956) is a...</td>\n",
              "    </tr>\n",
              "    <tr>\n",
              "      <th>20996</th>\n",
              "      <td>5.0</td>\n",
              "      <td>Taylor Townsend (politician)</td>\n",
              "      <td>Thomas Taylor Townsend known as Taylor Townse...</td>\n",
              "    </tr>\n",
              "    <tr>\n",
              "      <th>20997</th>\n",
              "      <td>5.0</td>\n",
              "      <td>Keith B. Alexander</td>\n",
              "      <td>Keith Brian Alexander (born December 2 1951) ...</td>\n",
              "    </tr>\n",
              "    <tr>\n",
              "      <th>20998</th>\n",
              "      <td>5.0</td>\n",
              "      <td>Henry Hague Davis</td>\n",
              "      <td>Henry Hague Davis (September 10 1885 – June 3...</td>\n",
              "    </tr>\n",
              "    <tr>\n",
              "      <th>20999</th>\n",
              "      <td>5.0</td>\n",
              "      <td>László Domokos</td>\n",
              "      <td>László Domokos (born February 26 1965) is a H...</td>\n",
              "    </tr>\n",
              "  </tbody>\n",
              "</table>\n",
              "<p>5000 rows × 3 columns</p>\n",
              "</div>"
            ],
            "text/plain": [
              "         0  ...                                                  2\n",
              "0      1.0  ...   TY KU /taɪkuː/ is an American alcoholic bever...\n",
              "1      1.0  ...   OddLot Entertainment founded in 2001 by longt...\n",
              "2      1.0  ...   Henkel AG & Company KGaA operates worldwide w...\n",
              "3      1.0  ...   The GOAT Store (Games Of All Type Store) LLC ...\n",
              "4      1.0  ...   RagWing Aircraft Designs (also called the Rag...\n",
              "...    ...  ...                                                ...\n",
              "20995  5.0  ...   Annise Danette Parker (born May 17 1956) is a...\n",
              "20996  5.0  ...   Thomas Taylor Townsend known as Taylor Townse...\n",
              "20997  5.0  ...   Keith Brian Alexander (born December 2 1951) ...\n",
              "20998  5.0  ...   Henry Hague Davis (September 10 1885 – June 3...\n",
              "20999  5.0  ...   László Domokos (born February 26 1965) is a H...\n",
              "\n",
              "[5000 rows x 3 columns]"
            ]
          },
          "metadata": {},
          "execution_count": 4
        }
      ]
    },
    {
      "cell_type": "code",
      "metadata": {
        "colab": {
          "base_uri": "https://localhost:8080/",
          "height": 206
        },
        "id": "oC2QSasgcGUv",
        "outputId": "ec920c41-30a7-473d-d2c6-1b5e3dc6f6ba"
      },
      "source": [
        "train_data.sample(5) #sample from train data"
      ],
      "execution_count": null,
      "outputs": [
        {
          "output_type": "execute_result",
          "data": {
            "text/html": [
              "<div>\n",
              "<style scoped>\n",
              "    .dataframe tbody tr th:only-of-type {\n",
              "        vertical-align: middle;\n",
              "    }\n",
              "\n",
              "    .dataframe tbody tr th {\n",
              "        vertical-align: top;\n",
              "    }\n",
              "\n",
              "    .dataframe thead th {\n",
              "        text-align: right;\n",
              "    }\n",
              "</style>\n",
              "<table border=\"1\" class=\"dataframe\">\n",
              "  <thead>\n",
              "    <tr style=\"text-align: right;\">\n",
              "      <th></th>\n",
              "      <th>0</th>\n",
              "      <th>1</th>\n",
              "      <th>2</th>\n",
              "    </tr>\n",
              "  </thead>\n",
              "  <tbody>\n",
              "    <tr>\n",
              "      <th>46570</th>\n",
              "      <td>2.0</td>\n",
              "      <td>Cony High School</td>\n",
              "      <td>Cony High School is a public school located i...</td>\n",
              "    </tr>\n",
              "    <tr>\n",
              "      <th>162271</th>\n",
              "      <td>5.0</td>\n",
              "      <td>Bindo Jibrilla</td>\n",
              "      <td>Bindo Umaru Jibrilla is a Nigerian businessma...</td>\n",
              "    </tr>\n",
              "    <tr>\n",
              "      <th>43542</th>\n",
              "      <td>2.0</td>\n",
              "      <td>Divya Deepa Charitable Trust</td>\n",
              "      <td>Divya Deepa Charitable Trust is an NGO establ...</td>\n",
              "    </tr>\n",
              "    <tr>\n",
              "      <th>80900</th>\n",
              "      <td>3.0</td>\n",
              "      <td>Archie Rand</td>\n",
              "      <td>Archie Rand (born 1949) is an artist from Bro...</td>\n",
              "    </tr>\n",
              "    <tr>\n",
              "      <th>81180</th>\n",
              "      <td>3.0</td>\n",
              "      <td>Buddy Arnold</td>\n",
              "      <td>Arnold Buddy Grishaver better known as Buddy ...</td>\n",
              "    </tr>\n",
              "  </tbody>\n",
              "</table>\n",
              "</div>"
            ],
            "text/plain": [
              "          0  ...                                                  2\n",
              "46570   2.0  ...   Cony High School is a public school located i...\n",
              "162271  5.0  ...   Bindo Umaru Jibrilla is a Nigerian businessma...\n",
              "43542   2.0  ...   Divya Deepa Charitable Trust is an NGO establ...\n",
              "80900   3.0  ...   Archie Rand (born 1949) is an artist from Bro...\n",
              "81180   3.0  ...   Arnold Buddy Grishaver better known as Buddy ...\n",
              "\n",
              "[5 rows x 3 columns]"
            ]
          },
          "metadata": {},
          "execution_count": 5
        }
      ]
    },
    {
      "cell_type": "code",
      "metadata": {
        "colab": {
          "base_uri": "https://localhost:8080/",
          "height": 206
        },
        "id": "LuZIprN5fGcK",
        "outputId": "a29446c9-6b69-4247-c2c4-cc8b4a17608a"
      },
      "source": [
        "test_data.sample(5) #sample from test data"
      ],
      "execution_count": null,
      "outputs": [
        {
          "output_type": "execute_result",
          "data": {
            "text/html": [
              "<div>\n",
              "<style scoped>\n",
              "    .dataframe tbody tr th:only-of-type {\n",
              "        vertical-align: middle;\n",
              "    }\n",
              "\n",
              "    .dataframe tbody tr th {\n",
              "        vertical-align: top;\n",
              "    }\n",
              "\n",
              "    .dataframe thead th {\n",
              "        text-align: right;\n",
              "    }\n",
              "</style>\n",
              "<table border=\"1\" class=\"dataframe\">\n",
              "  <thead>\n",
              "    <tr style=\"text-align: right;\">\n",
              "      <th></th>\n",
              "      <th>0</th>\n",
              "      <th>1</th>\n",
              "      <th>2</th>\n",
              "    </tr>\n",
              "  </thead>\n",
              "  <tbody>\n",
              "    <tr>\n",
              "      <th>15968</th>\n",
              "      <td>4.0</td>\n",
              "      <td>Bake Turner</td>\n",
              "      <td>Robert Hardy Bake Turner (born July 22 1940) ...</td>\n",
              "    </tr>\n",
              "    <tr>\n",
              "      <th>10332</th>\n",
              "      <td>3.0</td>\n",
              "      <td>Ercole Procaccini the Elder</td>\n",
              "      <td>Ercole Procaccini the Elder (1520 – 1595) was...</td>\n",
              "    </tr>\n",
              "    <tr>\n",
              "      <th>556</th>\n",
              "      <td>1.0</td>\n",
              "      <td>Interstate Airlines</td>\n",
              "      <td>Interstate Airlines was a charter airline bas...</td>\n",
              "    </tr>\n",
              "    <tr>\n",
              "      <th>20022</th>\n",
              "      <td>5.0</td>\n",
              "      <td>Brian Sonntag</td>\n",
              "      <td>Brian Sonntag is the retired State Auditor fo...</td>\n",
              "    </tr>\n",
              "    <tr>\n",
              "      <th>15318</th>\n",
              "      <td>4.0</td>\n",
              "      <td>Jack Leasure</td>\n",
              "      <td>John Richard Jack Leasure (born January 29 19...</td>\n",
              "    </tr>\n",
              "  </tbody>\n",
              "</table>\n",
              "</div>"
            ],
            "text/plain": [
              "         0  ...                                                  2\n",
              "15968  4.0  ...   Robert Hardy Bake Turner (born July 22 1940) ...\n",
              "10332  3.0  ...   Ercole Procaccini the Elder (1520 – 1595) was...\n",
              "556    1.0  ...   Interstate Airlines was a charter airline bas...\n",
              "20022  5.0  ...   Brian Sonntag is the retired State Auditor fo...\n",
              "15318  4.0  ...   John Richard Jack Leasure (born January 29 19...\n",
              "\n",
              "[5 rows x 3 columns]"
            ]
          },
          "metadata": {},
          "execution_count": 6
        }
      ]
    },
    {
      "cell_type": "code",
      "metadata": {
        "id": "xIdmfSJsm4ZN"
      },
      "source": [
        "train_label = pd.to_numeric(train_data.iloc[:,0]) #select labels (int) from train data\n",
        "train_text = train_data.iloc[:,1:3] #select article text from train data"
      ],
      "execution_count": null,
      "outputs": []
    },
    {
      "cell_type": "code",
      "metadata": {
        "id": "dbfQMlpGpJY1"
      },
      "source": [
        "test_label = pd.to_numeric(test_data.iloc[:,0]) #select labels (int) from test data\n",
        "test_text = test_data.iloc[:,1:3] #select article text from train data"
      ],
      "execution_count": null,
      "outputs": []
    },
    {
      "cell_type": "markdown",
      "metadata": {
        "id": "tqOIQiMFcCKk"
      },
      "source": [
        "#Pre-processing"
      ]
    },
    {
      "cell_type": "code",
      "metadata": {
        "colab": {
          "base_uri": "https://localhost:8080/"
        },
        "id": "eGd_NGTLql8R",
        "outputId": "4fdc3706-b0d9-40b9-f2f7-ccad04ecea5a"
      },
      "source": [
        "from sklearn.feature_extraction.text import CountVectorizer #vectorizer for article text data\n",
        "from nltk.corpus import stopwords #stopwords for desktop usage\n",
        "import nltk\n",
        "nltk.download('stopwords') #stopwords for collab notebook"
      ],
      "execution_count": null,
      "outputs": [
        {
          "output_type": "stream",
          "name": "stdout",
          "text": [
            "[nltk_data] Downloading package stopwords to /root/nltk_data...\n",
            "[nltk_data]   Unzipping corpora/stopwords.zip.\n"
          ]
        },
        {
          "output_type": "execute_result",
          "data": {
            "text/plain": [
              "True"
            ]
          },
          "metadata": {},
          "execution_count": 9
        }
      ]
    },
    {
      "cell_type": "code",
      "metadata": {
        "id": "0sdo8wL7CGFM"
      },
      "source": [
        "vectorizer = CountVectorizer(stop_words=stopwords.words('english'), analyzer='word', ngram_range=(1, 1)) #vectorizer for words, removing stopwords"
      ],
      "execution_count": null,
      "outputs": []
    },
    {
      "cell_type": "code",
      "metadata": {
        "id": "8x0-IR01DRW6"
      },
      "source": [
        "test_title = test_text.iloc[:,0] #select titles from test text\n",
        "test_desc = test_text.iloc[:,1]  #select descriptions from test text"
      ],
      "execution_count": null,
      "outputs": []
    },
    {
      "cell_type": "code",
      "metadata": {
        "id": "yuKl7x3U33gu"
      },
      "source": [
        "train_title = train_text.iloc[:,0] #select titles from train text\n",
        "train_desc = train_text.iloc[:,1]  #select descriptions from train text"
      ],
      "execution_count": null,
      "outputs": []
    },
    {
      "cell_type": "code",
      "metadata": {
        "id": "t_3wCcvAmo_N"
      },
      "source": [
        "titles = pd.concat([test_title, train_title]) #concat titles for vectorazition\n",
        "descs = pd.concat([test_desc, train_desc]) #concat descriptions for vectorazition"
      ],
      "execution_count": null,
      "outputs": []
    },
    {
      "cell_type": "code",
      "metadata": {
        "id": "SyFZpmsYEuLP",
        "colab": {
          "base_uri": "https://localhost:8080/"
        },
        "outputId": "b4808e82-5cfb-46bf-b902-01dd3a3fff42"
      },
      "source": [
        "titles = pd.DataFrame.sparse.from_spmatrix(vectorizer.fit_transform(titles)) #vectorizing test_title and adding it to a dataframe\n",
        "title_feature_names = np.asarray(vectorizer.get_feature_names()) #getting all feature names for test_title\n",
        "descs = pd.DataFrame.sparse.from_spmatrix(vectorizer.fit_transform(descs)) #vectorizing test_desc and adding it to a dataframe\n",
        "desc_feature_names = np.asarray(vectorizer.get_feature_names()) #getting all feature names for test_desc"
      ],
      "execution_count": null,
      "outputs": [
        {
          "output_type": "stream",
          "name": "stderr",
          "text": [
            "/usr/local/lib/python3.7/dist-packages/sklearn/utils/deprecation.py:87: FutureWarning: Function get_feature_names is deprecated; get_feature_names is deprecated in 1.0 and will be removed in 1.2. Please use get_feature_names_out instead.\n",
            "  warnings.warn(msg, category=FutureWarning)\n"
          ]
        }
      ]
    },
    {
      "cell_type": "code",
      "metadata": {
        "id": "a5_xy05SwC6g"
      },
      "source": [
        "titles = titles.loc[:, titles.sum(axis=0) > 8] #remove extremely rare words"
      ],
      "execution_count": null,
      "outputs": []
    },
    {
      "cell_type": "code",
      "metadata": {
        "colab": {
          "base_uri": "https://localhost:8080/"
        },
        "id": "4tyVH1MKzbbO",
        "outputId": "d5376096-9541-473d-fbb9-f9e0baaf72ea"
      },
      "source": [
        "titles.shape"
      ],
      "execution_count": null,
      "outputs": [
        {
          "output_type": "execute_result",
          "data": {
            "text/plain": [
              "(45000, 1614)"
            ]
          },
          "metadata": {},
          "execution_count": 16
        }
      ]
    },
    {
      "cell_type": "code",
      "metadata": {
        "id": "qKD2R761ndPh"
      },
      "source": [
        "#descs = descs.loc[:, descs.sum(axis=0) > 8] #remove extremely rare words"
      ],
      "execution_count": null,
      "outputs": []
    },
    {
      "cell_type": "code",
      "metadata": {
        "id": "xK_KvFgDR1si"
      },
      "source": [
        "#descs.shape"
      ],
      "execution_count": null,
      "outputs": []
    },
    {
      "cell_type": "code",
      "metadata": {
        "colab": {
          "base_uri": "https://localhost:8080/"
        },
        "id": "7H4Pac1xoYgu",
        "outputId": "e591fbff-ceff-40c8-c287-6c54411309e3"
      },
      "source": [
        "test_title = titles[0:len(test_title.index)] #split vectorized data\n",
        "test_title.shape"
      ],
      "execution_count": null,
      "outputs": [
        {
          "output_type": "execute_result",
          "data": {
            "text/plain": [
              "(5000, 1614)"
            ]
          },
          "metadata": {},
          "execution_count": 19
        }
      ]
    },
    {
      "cell_type": "code",
      "metadata": {
        "colab": {
          "base_uri": "https://localhost:8080/"
        },
        "id": "XqEi2-fBhGtB",
        "outputId": "b84bf612-2e0a-4320-bd86-c17e45303c70"
      },
      "source": [
        "#First 5 rows and feature names obtained with the vectoritzer\n",
        "print(test_title[0:5])\n",
        "print(title_feature_names[0:5])"
      ],
      "execution_count": null,
      "outputs": [
        {
          "output_type": "stream",
          "name": "stdout",
          "text": [
            "   138    153    164    175    187    ...  39509  39510  39511  39539  39555\n",
            "0      0      0      0      0      0  ...      0      0      0      0      0\n",
            "1      0      0      0      0      0  ...      0      0      0      0      0\n",
            "2      0      0      0      0      0  ...      0      0      0      0      0\n",
            "3      0      0      0      0      0  ...      0      0      0      0      0\n",
            "4      0      0      0      0      0  ...      0      0      0      0      0\n",
            "\n",
            "[5 rows x 1614 columns]\n",
            "['07' '0verflow' '10' '100' '1000memories']\n"
          ]
        }
      ]
    },
    {
      "cell_type": "code",
      "metadata": {
        "id": "z5txOGWsp_G_"
      },
      "source": [
        "#test_desc = descs.head(len(test_desc.index))"
      ],
      "execution_count": null,
      "outputs": []
    },
    {
      "cell_type": "code",
      "metadata": {
        "id": "E12HiVEU08Qs"
      },
      "source": [
        "#test_desc.shape"
      ],
      "execution_count": null,
      "outputs": []
    },
    {
      "cell_type": "code",
      "metadata": {
        "id": "ukBvNK_bpH-J"
      },
      "source": [
        "#First 5 rows and feature names obtained with the vectorizer\n",
        "#print(test_desc[0:5])"
      ],
      "execution_count": null,
      "outputs": []
    },
    {
      "cell_type": "code",
      "metadata": {
        "id": "-54u7V4OFOnh"
      },
      "source": [
        "train_title = titles.tail(len(titles) - len(test_title)) #split vectorized data"
      ],
      "execution_count": null,
      "outputs": []
    },
    {
      "cell_type": "code",
      "metadata": {
        "colab": {
          "base_uri": "https://localhost:8080/"
        },
        "id": "SsJ1HLPjycIQ",
        "outputId": "236601a0-d4aa-4e1d-9278-841a36d1c2dd"
      },
      "source": [
        "train_title.shape"
      ],
      "execution_count": null,
      "outputs": [
        {
          "output_type": "execute_result",
          "data": {
            "text/plain": [
              "(40000, 1614)"
            ]
          },
          "metadata": {},
          "execution_count": 25
        }
      ]
    },
    {
      "cell_type": "code",
      "metadata": {
        "colab": {
          "base_uri": "https://localhost:8080/"
        },
        "id": "AXIH2FymkHOK",
        "outputId": "ec1cbef8-07b6-4183-bb32-8825a645fb1c"
      },
      "source": [
        "#First 5 rows and feature names obtained with the vectoritzer\n",
        "print(train_title[0:5])"
      ],
      "execution_count": null,
      "outputs": [
        {
          "output_type": "stream",
          "name": "stdout",
          "text": [
            "      138    153    164    175    187    ...  39509  39510  39511  39539  39555\n",
            "5000      0      0      0      0      0  ...      0      0      0      0      0\n",
            "5001      0      0      0      0      0  ...      0      0      0      0      0\n",
            "5002      0      0      0      0      0  ...      0      0      0      0      0\n",
            "5003      0      0      0      0      0  ...      0      0      0      0      0\n",
            "5004      0      0      0      0      0  ...      0      0      0      0      0\n",
            "\n",
            "[5 rows x 1614 columns]\n"
          ]
        }
      ]
    },
    {
      "cell_type": "code",
      "metadata": {
        "id": "SKbN2KbbsUqd"
      },
      "source": [
        "#train_desc = descs.tail(len(descs) - len(test_desc.index))"
      ],
      "execution_count": null,
      "outputs": []
    },
    {
      "cell_type": "code",
      "metadata": {
        "id": "BFNdC3fUza2X"
      },
      "source": [
        "#train_desc.shape"
      ],
      "execution_count": null,
      "outputs": []
    },
    {
      "cell_type": "code",
      "metadata": {
        "id": "SmOXEY0fq3Pu"
      },
      "source": [
        "#First 5 rows and feature names obtained with the vectoritzer\n",
        "#print(train_desc[0:5])"
      ],
      "execution_count": null,
      "outputs": []
    },
    {
      "cell_type": "code",
      "metadata": {
        "id": "omfbCxvr-aJl"
      },
      "source": [
        "from scipy.sparse import csr_matrix #for min-max scaling sparse matrices"
      ],
      "execution_count": null,
      "outputs": []
    },
    {
      "cell_type": "code",
      "metadata": {
        "id": "_B3DpLPb7Dku"
      },
      "source": [
        "def normalize(df): #function for min-max scaling of dataframes\n",
        "    result = df.copy()\n",
        "    for feature_name in df.columns:\n",
        "        max_value = csr_matrix(df[feature_name]).max()\n",
        "        min_value = csr_matrix(df[feature_name]).min()\n",
        "        result[feature_name] = (df[feature_name] - min_value) / max((max_value - min_value), 1)\n",
        "    return result"
      ],
      "execution_count": null,
      "outputs": []
    },
    {
      "cell_type": "code",
      "metadata": {
        "id": "xofqUiCj51N2"
      },
      "source": [
        "test_title = normalize(test_title) #min-max scale test_title"
      ],
      "execution_count": null,
      "outputs": []
    },
    {
      "cell_type": "code",
      "metadata": {
        "colab": {
          "base_uri": "https://localhost:8080/"
        },
        "id": "ZZtMnnUptxIn",
        "outputId": "50166d5c-b114-4f3d-a6b6-bb4e6665bab8"
      },
      "source": [
        "print(test_title[0:5])"
      ],
      "execution_count": null,
      "outputs": [
        {
          "output_type": "stream",
          "name": "stdout",
          "text": [
            "   138    153    164    175    187    ...  39509  39510  39511  39539  39555\n",
            "0    0.0    0.0    0.0    0.0    0.0  ...    0.0    0.0    0.0    0.0    0.0\n",
            "1    0.0    0.0    0.0    0.0    0.0  ...    0.0    0.0    0.0    0.0    0.0\n",
            "2    0.0    0.0    0.0    0.0    0.0  ...    0.0    0.0    0.0    0.0    0.0\n",
            "3    0.0    0.0    0.0    0.0    0.0  ...    0.0    0.0    0.0    0.0    0.0\n",
            "4    0.0    0.0    0.0    0.0    0.0  ...    0.0    0.0    0.0    0.0    0.0\n",
            "\n",
            "[5 rows x 1614 columns]\n"
          ]
        }
      ]
    },
    {
      "cell_type": "code",
      "metadata": {
        "id": "4v9lEKB951N2"
      },
      "source": [
        "#test_desc = normalize(test_desc) #min-max scale test_desc"
      ],
      "execution_count": null,
      "outputs": []
    },
    {
      "cell_type": "code",
      "metadata": {
        "id": "cH74B7tUtxgF"
      },
      "source": [
        "#print(test_desc[0:5])"
      ],
      "execution_count": null,
      "outputs": []
    },
    {
      "cell_type": "code",
      "metadata": {
        "id": "seP8jG3CB-qB"
      },
      "source": [
        "train_title = normalize(train_title) #min-max scale train_title"
      ],
      "execution_count": null,
      "outputs": []
    },
    {
      "cell_type": "code",
      "metadata": {
        "colab": {
          "base_uri": "https://localhost:8080/"
        },
        "id": "Z37ue-AbtxyD",
        "outputId": "cd2b69ba-fc35-4a7e-ce8d-a9a6c348ed8a"
      },
      "source": [
        "print(train_title[0:5])"
      ],
      "execution_count": null,
      "outputs": [
        {
          "output_type": "stream",
          "name": "stdout",
          "text": [
            "      138    153    164    175    187    ...  39509  39510  39511  39539  39555\n",
            "5000    0.0    0.0    0.0    0.0    0.0  ...    0.0    0.0    0.0    0.0    0.0\n",
            "5001    0.0    0.0    0.0    0.0    0.0  ...    0.0    0.0    0.0    0.0    0.0\n",
            "5002    0.0    0.0    0.0    0.0    0.0  ...    0.0    0.0    0.0    0.0    0.0\n",
            "5003    0.0    0.0    0.0    0.0    0.0  ...    0.0    0.0    0.0    0.0    0.0\n",
            "5004    0.0    0.0    0.0    0.0    0.0  ...    0.0    0.0    0.0    0.0    0.0\n",
            "\n",
            "[5 rows x 1614 columns]\n"
          ]
        }
      ]
    },
    {
      "cell_type": "code",
      "metadata": {
        "id": "t7My4oYrSmLv"
      },
      "source": [
        "#train_desc = normalize(train_desc) #min-max scale train_desc"
      ],
      "execution_count": null,
      "outputs": []
    },
    {
      "cell_type": "code",
      "metadata": {
        "id": "lAJvee20tyUd"
      },
      "source": [
        "#print(train_desc[0:5])"
      ],
      "execution_count": null,
      "outputs": []
    },
    {
      "cell_type": "code",
      "metadata": {
        "colab": {
          "base_uri": "https://localhost:8080/"
        },
        "id": "_SyYggbJorJj",
        "outputId": "86eb859d-06f3-4786-e176-891dd948aa68"
      },
      "source": [
        "input_shape = train_title.iloc[0].shape\n",
        "input_shape = (input_shape[0], 1)\n",
        "input_shape #get input_shape for the model"
      ],
      "execution_count": null,
      "outputs": [
        {
          "output_type": "execute_result",
          "data": {
            "text/plain": [
              "(1614, 1)"
            ]
          },
          "metadata": {},
          "execution_count": 40
        }
      ]
    },
    {
      "cell_type": "markdown",
      "metadata": {
        "id": "qsQlbcyBklGw"
      },
      "source": [
        "Our **X** will be the sparse matrices and the feature names from the title and the description, and **Y** will be the labels provided in the csv file.\n",
        "\n",
        "Validation split is obtained later in the model.fit() function from training data"
      ]
    },
    {
      "cell_type": "markdown",
      "metadata": {
        "id": "FHdJewoCstfr"
      },
      "source": [
        "#Model and fitting"
      ]
    },
    {
      "cell_type": "code",
      "metadata": {
        "id": "in3fW_ywrkWU"
      },
      "source": [
        "%tensorflow_version 2.x"
      ],
      "execution_count": null,
      "outputs": []
    },
    {
      "cell_type": "code",
      "metadata": {
        "id": "_OYLgAiIe9wE"
      },
      "source": [
        "#from tensorflow.keras.models import Sequential\n",
        "#from tensorflow.keras.layers import Activation, Dense, Flatten, Conv1D, MaxPooling1D, Dropout\n",
        "#from tensorflow.keras.optimizers import SGD\n",
        "import tensorflow as tf\n",
        "from tensorflow import keras\n",
        "import matplotlib.pyplot as plt"
      ],
      "execution_count": null,
      "outputs": []
    },
    {
      "cell_type": "code",
      "metadata": {
        "id": "ZBZxmZ1Te9uW"
      },
      "source": [
        "model = keras.models.Sequential() #build model\n",
        "model.add(keras.layers.Conv1D(32, 3, activation='relu', kernel_initializer='he_normal', input_shape=input_shape))\n",
        "model.add(keras.layers.MaxPooling1D(pool_size=2))\n",
        "model.add(keras.layers.Conv1D(16, 3, activation='relu', kernel_initializer='he_normal'))\n",
        "model.add(keras.layers.MaxPooling1D(pool_size=2))\n",
        "model.add(keras.layers.Flatten())\n",
        "model.add(keras.layers.Dense(16, activation='relu'))\n",
        "model.add(keras.layers.Dropout(0.5))\n",
        "model.add(keras.layers.Dense(5, activation='softmax'))\n",
        "model.compile(loss='categorical_crossentropy', optimizer=keras.optimizers.Adam(learning_rate=1e-3), metrics=['accuracy']) #compile model"
      ],
      "execution_count": null,
      "outputs": []
    },
    {
      "cell_type": "code",
      "metadata": {
        "colab": {
          "base_uri": "https://localhost:8080/"
        },
        "id": "O9bmJOY3tn-H",
        "outputId": "7ec8b21e-e785-452b-bbf8-1ed29d9a4236"
      },
      "source": [
        "print(model.summary())"
      ],
      "execution_count": null,
      "outputs": [
        {
          "output_type": "stream",
          "name": "stdout",
          "text": [
            "Model: \"sequential\"\n",
            "_________________________________________________________________\n",
            " Layer (type)                Output Shape              Param #   \n",
            "=================================================================\n",
            " conv1d (Conv1D)             (None, 1612, 32)          128       \n",
            "                                                                 \n",
            " max_pooling1d (MaxPooling1D  (None, 806, 32)          0         \n",
            " )                                                               \n",
            "                                                                 \n",
            " conv1d_1 (Conv1D)           (None, 804, 16)           1552      \n",
            "                                                                 \n",
            " max_pooling1d_1 (MaxPooling  (None, 402, 16)          0         \n",
            " 1D)                                                             \n",
            "                                                                 \n",
            " flatten (Flatten)           (None, 6432)              0         \n",
            "                                                                 \n",
            " dense (Dense)               (None, 16)                102928    \n",
            "                                                                 \n",
            " dropout (Dropout)           (None, 16)                0         \n",
            "                                                                 \n",
            " dense_1 (Dense)             (None, 5)                 85        \n",
            "                                                                 \n",
            "=================================================================\n",
            "Total params: 104,693\n",
            "Trainable params: 104,693\n",
            "Non-trainable params: 0\n",
            "_________________________________________________________________\n",
            "None\n"
          ]
        }
      ]
    },
    {
      "cell_type": "code",
      "metadata": {
        "id": "4QW9sGHFtn-I"
      },
      "source": [
        "from tensorflow.keras.callbacks import EarlyStopping, ModelCheckpoint, TensorBoard #set up callbacks\n",
        "patience=10\n",
        "early_stopping=EarlyStopping(patience=patience, verbose=1)\n",
        "checkpointer=ModelCheckpoint(filepath='model.hdf5', save_best_only=True, verbose=1)\n",
        "tb = TensorBoard(log_dir='logs', histogram_freq=1, write_graph=1)"
      ],
      "execution_count": null,
      "outputs": []
    },
    {
      "cell_type": "code",
      "metadata": {
        "colab": {
          "base_uri": "https://localhost:8080/"
        },
        "id": "k4Pmi95O9kOh",
        "outputId": "eed11fb5-fba3-4900-ffee-688240513100"
      },
      "source": [
        "train_title.shape"
      ],
      "execution_count": null,
      "outputs": [
        {
          "output_type": "execute_result",
          "data": {
            "text/plain": [
              "(40000, 1614)"
            ]
          },
          "metadata": {},
          "execution_count": 46
        }
      ]
    },
    {
      "cell_type": "code",
      "metadata": {
        "id": "BPdspK-39UvH"
      },
      "source": [
        "from sklearn.model_selection import train_test_split\n",
        "\n",
        "test_size = 0.5\n",
        "val_title, test_title, val_label, test_label = train_test_split(test_title, test_label, test_size=test_size) #create validation sets"
      ],
      "execution_count": null,
      "outputs": []
    },
    {
      "cell_type": "code",
      "metadata": {
        "id": "-7fE_7ly9-tf"
      },
      "source": [
        "from tensorflow.keras.utils import Sequence, to_categorical\n",
        "\n",
        "class DataGenerator(Sequence): #custom data generator\n",
        "    'Generates data for Keras'\n",
        "    def __init__(self, list_IDs, labels, batch_size=4, dim=(input_shape[0]), n_channels=1,\n",
        "                 n_classes=5, shuffle=True):\n",
        "        #Initialization\n",
        "        self.dim = dim\n",
        "        self.batch_size = batch_size\n",
        "        self.labels = labels\n",
        "        self.list_IDs = list_IDs\n",
        "        self.n_channels = n_channels\n",
        "        self.n_classes = n_classes\n",
        "        self.shuffle = shuffle\n",
        "        self.on_epoch_end()\n",
        "\n",
        "    def __len__(self):\n",
        "        #Denotes the number of batches per epoch\n",
        "        return int(np.floor(len(self.list_IDs) / self.batch_size))\n",
        "\n",
        "    def __getitem__(self, index):\n",
        "        #Generate one batch of data\n",
        "        # Generate indexes of the batch\n",
        "        indexes = self.indexes[index*self.batch_size:(index+1)*self.batch_size]\n",
        "        # Generate data\n",
        "        X, y = self.__data_generation(indexes)\n",
        "\n",
        "        return X, y\n",
        "\n",
        "    def on_epoch_end(self):\n",
        "        #Updates indexes after each epoch\n",
        "        self.indexes = np.arange(len(self.list_IDs))\n",
        "        if self.shuffle == True:\n",
        "            np.random.shuffle(self.indexes)\n",
        "\n",
        "    def __data_generation(self, list_IDs_temp):\n",
        "        #Generates data containing batch_size samples\n",
        "        # X : (n_samples, *dim, n_channels)\n",
        "        # Initialization\n",
        "        X = np.empty((self.batch_size, self.dim, self.n_channels))\n",
        "        y = np.empty((self.batch_size), dtype=int)\n",
        "        # Generate data\n",
        "        for i in range(len(list_IDs_temp)):\n",
        "            # Store sample\n",
        "            X[i] = self.list_IDs.iloc[list_IDs_temp[i]].to_numpy().reshape(self.dim, self.n_channels)\n",
        "\n",
        "            # Store class\n",
        "            y[i] = self.labels.iloc[list_IDs_temp[i]]\n",
        "\n",
        "        return X, to_categorical(y - 1, num_classes=self.n_classes)"
      ],
      "execution_count": null,
      "outputs": []
    },
    {
      "cell_type": "code",
      "metadata": {
        "id": "v2bv5dDMBLmw"
      },
      "source": [
        "train_generator = DataGenerator(train_title, train_label)"
      ],
      "execution_count": null,
      "outputs": []
    },
    {
      "cell_type": "code",
      "metadata": {
        "colab": {
          "base_uri": "https://localhost:8080/"
        },
        "id": "Ha03AZL-56RV",
        "outputId": "629b7fc4-49f9-4073-d589-dca216799fa0"
      },
      "source": [
        "s = val_title.shape\n",
        "val_title = val_title.to_numpy().reshape(s[0], s[1], 1) #reshape val_title for model\n",
        "print(val_title.shape)\n",
        "val_label = val_label.to_numpy()\n",
        "val_label = val_label - 1\n",
        "val_label = to_categorical(val_label, num_classes=5) #reshape val_label from int to categorical\n",
        "val_label"
      ],
      "execution_count": null,
      "outputs": [
        {
          "output_type": "stream",
          "name": "stdout",
          "text": [
            "(2500, 1614, 1)\n"
          ]
        },
        {
          "output_type": "execute_result",
          "data": {
            "text/plain": [
              "array([[0., 0., 0., 0., 1.],\n",
              "       [0., 1., 0., 0., 0.],\n",
              "       [0., 1., 0., 0., 0.],\n",
              "       ...,\n",
              "       [0., 0., 0., 0., 1.],\n",
              "       [0., 0., 1., 0., 0.],\n",
              "       [0., 0., 1., 0., 0.]], dtype=float32)"
            ]
          },
          "metadata": {},
          "execution_count": 50
        }
      ]
    },
    {
      "cell_type": "code",
      "metadata": {
        "colab": {
          "base_uri": "https://localhost:8080/"
        },
        "id": "emqCK_-Q56RV",
        "outputId": "c3a16f20-4625-4aaf-90fc-393a005077be"
      },
      "source": [
        "s = test_title.shape\n",
        "test_title.to_numpy().reshape(s[0], s[1], 1) #reshape test_title\n",
        "print(test_title.shape)\n",
        "test_label = test_label.to_numpy()\n",
        "test_label = test_label - 1\n",
        "test_label = to_categorical(test_label, num_classes=5) #reshape test_label from int to categorical\n",
        "test_label"
      ],
      "execution_count": null,
      "outputs": [
        {
          "output_type": "stream",
          "name": "stdout",
          "text": [
            "(2500, 1614)\n"
          ]
        },
        {
          "output_type": "execute_result",
          "data": {
            "text/plain": [
              "array([[0., 0., 1., 0., 0.],\n",
              "       [0., 1., 0., 0., 0.],\n",
              "       [0., 1., 0., 0., 0.],\n",
              "       ...,\n",
              "       [0., 0., 0., 1., 0.],\n",
              "       [0., 0., 0., 0., 1.],\n",
              "       [0., 1., 0., 0., 0.]], dtype=float32)"
            ]
          },
          "metadata": {},
          "execution_count": 51
        }
      ]
    },
    {
      "cell_type": "code",
      "metadata": {
        "colab": {
          "base_uri": "https://localhost:8080/"
        },
        "id": "JI2d4WRAtn-I",
        "scrolled": true,
        "outputId": "d7142858-5627-41c0-93ba-9ea242e381b2"
      },
      "source": [
        "#train model\n",
        "network_history = model.fit(train_generator, validation_data=(val_title, val_label), epochs=30,steps_per_epoch=250, verbose=1, callbacks=[early_stopping, checkpointer, tb])"
      ],
      "execution_count": null,
      "outputs": [
        {
          "output_type": "stream",
          "name": "stdout",
          "text": [
            "Epoch 1/30\n",
            "250/250 [==============================] - ETA: 0s - loss: 1.3908 - accuracy: 0.3450\n",
            "Epoch 00001: val_loss improved from inf to 1.17053, saving model to model.hdf5\n",
            "250/250 [==============================] - 53s 163ms/step - loss: 1.3908 - accuracy: 0.3450 - val_loss: 1.1705 - val_accuracy: 0.4428\n",
            "Epoch 2/30\n",
            "250/250 [==============================] - ETA: 0s - loss: 1.2030 - accuracy: 0.4560\n",
            "Epoch 00002: val_loss improved from 1.17053 to 1.16130, saving model to model.hdf5\n",
            "250/250 [==============================] - 39s 155ms/step - loss: 1.2030 - accuracy: 0.4560 - val_loss: 1.1613 - val_accuracy: 0.4588\n",
            "Epoch 3/30\n",
            "250/250 [==============================] - ETA: 0s - loss: 1.1890 - accuracy: 0.4460\n",
            "Epoch 00003: val_loss improved from 1.16130 to 1.09767, saving model to model.hdf5\n",
            "250/250 [==============================] - 39s 154ms/step - loss: 1.1890 - accuracy: 0.4460 - val_loss: 1.0977 - val_accuracy: 0.4924\n",
            "Epoch 4/30\n",
            "250/250 [==============================] - ETA: 0s - loss: 1.1479 - accuracy: 0.4870\n",
            "Epoch 00004: val_loss improved from 1.09767 to 1.06699, saving model to model.hdf5\n",
            "250/250 [==============================] - 38s 154ms/step - loss: 1.1479 - accuracy: 0.4870 - val_loss: 1.0670 - val_accuracy: 0.5212\n",
            "Epoch 5/30\n",
            "250/250 [==============================] - ETA: 0s - loss: 1.1010 - accuracy: 0.4940\n",
            "Epoch 00005: val_loss improved from 1.06699 to 1.04993, saving model to model.hdf5\n",
            "250/250 [==============================] - 38s 153ms/step - loss: 1.1010 - accuracy: 0.4940 - val_loss: 1.0499 - val_accuracy: 0.5188\n",
            "Epoch 6/30\n",
            "250/250 [==============================] - ETA: 0s - loss: 1.1673 - accuracy: 0.4630\n",
            "Epoch 00006: val_loss improved from 1.04993 to 1.04169, saving model to model.hdf5\n",
            "250/250 [==============================] - 38s 153ms/step - loss: 1.1673 - accuracy: 0.4630 - val_loss: 1.0417 - val_accuracy: 0.5260\n",
            "Epoch 7/30\n",
            "250/250 [==============================] - ETA: 0s - loss: 1.1031 - accuracy: 0.4880\n",
            "Epoch 00007: val_loss did not improve from 1.04169\n",
            "250/250 [==============================] - 37s 150ms/step - loss: 1.1031 - accuracy: 0.4880 - val_loss: 1.0547 - val_accuracy: 0.5236\n",
            "Epoch 8/30\n",
            "250/250 [==============================] - ETA: 0s - loss: 1.0932 - accuracy: 0.5000\n",
            "Epoch 00008: val_loss improved from 1.04169 to 1.03139, saving model to model.hdf5\n",
            "250/250 [==============================] - 38s 153ms/step - loss: 1.0932 - accuracy: 0.5000 - val_loss: 1.0314 - val_accuracy: 0.5392\n",
            "Epoch 9/30\n",
            "250/250 [==============================] - ETA: 0s - loss: 1.0669 - accuracy: 0.5040\n",
            "Epoch 00009: val_loss did not improve from 1.03139\n",
            "250/250 [==============================] - 39s 154ms/step - loss: 1.0669 - accuracy: 0.5040 - val_loss: 1.0321 - val_accuracy: 0.5264\n",
            "Epoch 10/30\n",
            "250/250 [==============================] - ETA: 0s - loss: 1.0263 - accuracy: 0.5140\n",
            "Epoch 00010: val_loss improved from 1.03139 to 1.01995, saving model to model.hdf5\n",
            "250/250 [==============================] - 38s 153ms/step - loss: 1.0263 - accuracy: 0.5140 - val_loss: 1.0200 - val_accuracy: 0.5264\n",
            "Epoch 11/30\n",
            "250/250 [==============================] - ETA: 0s - loss: 1.0501 - accuracy: 0.5030\n",
            "Epoch 00011: val_loss did not improve from 1.01995\n",
            "250/250 [==============================] - 38s 151ms/step - loss: 1.0501 - accuracy: 0.5030 - val_loss: 1.0246 - val_accuracy: 0.5264\n",
            "Epoch 12/30\n",
            "250/250 [==============================] - ETA: 0s - loss: 1.0995 - accuracy: 0.4890\n",
            "Epoch 00012: val_loss improved from 1.01995 to 1.01177, saving model to model.hdf5\n",
            "250/250 [==============================] - 38s 153ms/step - loss: 1.0995 - accuracy: 0.4890 - val_loss: 1.0118 - val_accuracy: 0.5296\n",
            "Epoch 13/30\n",
            "250/250 [==============================] - ETA: 0s - loss: 1.0130 - accuracy: 0.5010\n",
            "Epoch 00013: val_loss improved from 1.01177 to 1.00260, saving model to model.hdf5\n",
            "250/250 [==============================] - 38s 153ms/step - loss: 1.0130 - accuracy: 0.5010 - val_loss: 1.0026 - val_accuracy: 0.5336\n",
            "Epoch 14/30\n",
            "250/250 [==============================] - ETA: 0s - loss: 1.0464 - accuracy: 0.4940\n",
            "Epoch 00014: val_loss improved from 1.00260 to 0.99878, saving model to model.hdf5\n",
            "250/250 [==============================] - 38s 152ms/step - loss: 1.0464 - accuracy: 0.4940 - val_loss: 0.9988 - val_accuracy: 0.5508\n",
            "Epoch 15/30\n",
            "250/250 [==============================] - ETA: 0s - loss: 1.0527 - accuracy: 0.4990\n",
            "Epoch 00015: val_loss did not improve from 0.99878\n",
            "250/250 [==============================] - 38s 153ms/step - loss: 1.0527 - accuracy: 0.4990 - val_loss: 0.9997 - val_accuracy: 0.5348\n",
            "Epoch 16/30\n",
            "250/250 [==============================] - ETA: 0s - loss: 0.9967 - accuracy: 0.5390\n",
            "Epoch 00016: val_loss improved from 0.99878 to 0.99129, saving model to model.hdf5\n",
            "250/250 [==============================] - 39s 156ms/step - loss: 0.9967 - accuracy: 0.5390 - val_loss: 0.9913 - val_accuracy: 0.5364\n",
            "Epoch 17/30\n",
            "250/250 [==============================] - ETA: 0s - loss: 1.0669 - accuracy: 0.5050\n",
            "Epoch 00017: val_loss improved from 0.99129 to 0.98967, saving model to model.hdf5\n",
            "250/250 [==============================] - 38s 154ms/step - loss: 1.0669 - accuracy: 0.5050 - val_loss: 0.9897 - val_accuracy: 0.5356\n",
            "Epoch 18/30\n",
            "250/250 [==============================] - ETA: 0s - loss: 1.0168 - accuracy: 0.5300\n",
            "Epoch 00018: val_loss improved from 0.98967 to 0.98353, saving model to model.hdf5\n",
            "250/250 [==============================] - 38s 153ms/step - loss: 1.0168 - accuracy: 0.5300 - val_loss: 0.9835 - val_accuracy: 0.5468\n",
            "Epoch 19/30\n",
            "250/250 [==============================] - ETA: 0s - loss: 0.9967 - accuracy: 0.5230\n",
            "Epoch 00019: val_loss improved from 0.98353 to 0.97998, saving model to model.hdf5\n",
            "250/250 [==============================] - 39s 155ms/step - loss: 0.9967 - accuracy: 0.5230 - val_loss: 0.9800 - val_accuracy: 0.5456\n",
            "Epoch 20/30\n",
            "250/250 [==============================] - ETA: 0s - loss: 1.0136 - accuracy: 0.5350\n",
            "Epoch 00020: val_loss did not improve from 0.97998\n",
            "250/250 [==============================] - 38s 151ms/step - loss: 1.0136 - accuracy: 0.5350 - val_loss: 0.9996 - val_accuracy: 0.5468\n",
            "Epoch 21/30\n",
            "250/250 [==============================] - ETA: 0s - loss: 1.0064 - accuracy: 0.5270\n",
            "Epoch 00021: val_loss improved from 0.97998 to 0.97612, saving model to model.hdf5\n",
            "250/250 [==============================] - 39s 154ms/step - loss: 1.0064 - accuracy: 0.5270 - val_loss: 0.9761 - val_accuracy: 0.5476\n",
            "Epoch 22/30\n",
            "250/250 [==============================] - ETA: 0s - loss: 1.0346 - accuracy: 0.5140\n",
            "Epoch 00022: val_loss improved from 0.97612 to 0.97136, saving model to model.hdf5\n",
            "250/250 [==============================] - 39s 155ms/step - loss: 1.0346 - accuracy: 0.5140 - val_loss: 0.9714 - val_accuracy: 0.5428\n",
            "Epoch 23/30\n",
            "250/250 [==============================] - ETA: 0s - loss: 1.0037 - accuracy: 0.5290\n",
            "Epoch 00023: val_loss did not improve from 0.97136\n",
            "250/250 [==============================] - 39s 155ms/step - loss: 1.0037 - accuracy: 0.5290 - val_loss: 0.9742 - val_accuracy: 0.5344\n",
            "Epoch 24/30\n",
            "250/250 [==============================] - ETA: 0s - loss: 1.0125 - accuracy: 0.5150\n",
            "Epoch 00024: val_loss did not improve from 0.97136\n",
            "250/250 [==============================] - 39s 154ms/step - loss: 1.0125 - accuracy: 0.5150 - val_loss: 0.9796 - val_accuracy: 0.5448\n",
            "Epoch 25/30\n",
            "250/250 [==============================] - ETA: 0s - loss: 1.0199 - accuracy: 0.5070\n",
            "Epoch 00025: val_loss did not improve from 0.97136\n",
            "250/250 [==============================] - 38s 153ms/step - loss: 1.0199 - accuracy: 0.5070 - val_loss: 0.9719 - val_accuracy: 0.5456\n",
            "Epoch 26/30\n",
            "250/250 [==============================] - ETA: 0s - loss: 1.0191 - accuracy: 0.5150\n",
            "Epoch 00026: val_loss improved from 0.97136 to 0.96021, saving model to model.hdf5\n",
            "250/250 [==============================] - 38s 153ms/step - loss: 1.0191 - accuracy: 0.5150 - val_loss: 0.9602 - val_accuracy: 0.5480\n",
            "Epoch 27/30\n",
            "250/250 [==============================] - ETA: 0s - loss: 0.9936 - accuracy: 0.5220\n",
            "Epoch 00027: val_loss improved from 0.96021 to 0.95846, saving model to model.hdf5\n",
            "250/250 [==============================] - 39s 154ms/step - loss: 0.9936 - accuracy: 0.5220 - val_loss: 0.9585 - val_accuracy: 0.5528\n",
            "Epoch 28/30\n",
            "250/250 [==============================] - ETA: 0s - loss: 0.9939 - accuracy: 0.5260\n",
            "Epoch 00028: val_loss improved from 0.95846 to 0.95394, saving model to model.hdf5\n",
            "250/250 [==============================] - 38s 153ms/step - loss: 0.9939 - accuracy: 0.5260 - val_loss: 0.9539 - val_accuracy: 0.5512\n",
            "Epoch 29/30\n",
            "250/250 [==============================] - ETA: 0s - loss: 1.0210 - accuracy: 0.5110\n",
            "Epoch 00029: val_loss did not improve from 0.95394\n",
            "250/250 [==============================] - 39s 155ms/step - loss: 1.0210 - accuracy: 0.5110 - val_loss: 0.9624 - val_accuracy: 0.5504\n",
            "Epoch 30/30\n",
            "250/250 [==============================] - ETA: 0s - loss: 1.0171 - accuracy: 0.5120\n",
            "Epoch 00030: val_loss did not improve from 0.95394\n",
            "250/250 [==============================] - 38s 153ms/step - loss: 1.0171 - accuracy: 0.5120 - val_loss: 0.9642 - val_accuracy: 0.5572\n"
          ]
        }
      ]
    },
    {
      "cell_type": "markdown",
      "metadata": {
        "id": "ilKJXR9Mshos"
      },
      "source": [
        "# Evaluation"
      ]
    },
    {
      "cell_type": "code",
      "metadata": {
        "id": "qWGJnrXhuf1e",
        "colab": {
          "base_uri": "https://localhost:8080/"
        },
        "outputId": "1f717d02-d3be-4da6-b65d-896f15000a73"
      },
      "source": [
        "from keras.models import load_model\n",
        "model = load_model(\"model.hdf5\")\n",
        "test_err = model.evaluate(test_title, test_label)\n",
        "print(\"Test error:\", test_err[0], \"Teszt accuracy:\", test_err[1])"
      ],
      "execution_count": null,
      "outputs": [
        {
          "output_type": "stream",
          "name": "stdout",
          "text": [
            "79/79 [==============================] - 1s 5ms/step - loss: 0.9133 - accuracy: 0.5560\n",
            "Test error: 0.9132648706436157 Teszt accuracy: 0.5559999942779541\n"
          ]
        }
      ]
    },
    {
      "cell_type": "code",
      "metadata": {
        "id": "qQ7O1bChuq4l",
        "colab": {
          "base_uri": "https://localhost:8080/"
        },
        "outputId": "e70f01fa-3381-470c-98a1-17a7440de9eb"
      },
      "source": [
        "import numpy as np\n",
        "from sklearn.metrics import accuracy_score, precision_score, recall_score, f1_score, roc_curve, confusion_matrix\n",
        "# get predictions\n",
        "y_pred = model.predict(test_title)\n",
        "y_pred = np.argmax(y_pred,1)\n",
        "y_true = np.argmax(test_label,1)\n",
        "\n",
        "print(\"test accuracy: %g\" %(accuracy_score(y_true, y_pred)))\n",
        "print(\"Precision\", precision_score(y_true, y_pred, average=\"macro\"))\n",
        "print(\"Recall\", recall_score(y_true, y_pred, average=\"macro\"))\n",
        "print(\"f1_score\", f1_score(y_true, y_pred, average=\"macro\"))\n",
        "print(\"\\nConfusion matrix: \")\n",
        "conf=confusion_matrix(y_true, y_pred)\n",
        "print(conf)"
      ],
      "execution_count": null,
      "outputs": [
        {
          "output_type": "stream",
          "name": "stdout",
          "text": [
            "test accuracy: 0.556\n",
            "Precision 0.6313002250998218\n",
            "Recall 0.5557763479768157\n",
            "f1_score 0.5558056824246387\n",
            "\n",
            "Konfúziós mátrix: \n",
            "[[268   7  16 205   9]\n",
            " [ 12 470   2  16   5]\n",
            " [ 10   0  93 312  82]\n",
            " [ 11   1  57 361  60]\n",
            " [ 10   0  45 250 198]]\n"
          ]
        }
      ]
    },
    {
      "cell_type": "code",
      "metadata": {
        "id": "SNOZBCYyuumA",
        "colab": {
          "base_uri": "https://localhost:8080/",
          "height": 286
        },
        "outputId": "ff495681-cab4-4398-95bf-f40239c79b4c"
      },
      "source": [
        "import seaborn as sns\n",
        "sns.heatmap(conf, annot=True, fmt='d', vmax=20) # get heatmap"
      ],
      "execution_count": null,
      "outputs": [
        {
          "output_type": "execute_result",
          "data": {
            "text/plain": [
              "<matplotlib.axes._subplots.AxesSubplot at 0x7f6230140c50>"
            ]
          },
          "metadata": {},
          "execution_count": 55
        },
        {
          "output_type": "display_data",
          "data": {
            "image/png": "[encoded data removed]",
            "text/plain": [
              "<Figure size 432x288 with 2 Axes>"
            ]
          },
          "metadata": {
            "needs_background": "light"
          }
        }
      ]
    }
  ]
}