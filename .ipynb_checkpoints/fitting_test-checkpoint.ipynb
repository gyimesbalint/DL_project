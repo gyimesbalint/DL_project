version https://git-lfs.github.com/spec/v1
oid sha256:f64a902c9913e094af0079593f2f4400d1da9f256d0c51d6e4f3223cd25d2e6a
size 80136
