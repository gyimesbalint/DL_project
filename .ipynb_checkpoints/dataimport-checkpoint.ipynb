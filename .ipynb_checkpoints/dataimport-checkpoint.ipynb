version https://git-lfs.github.com/spec/v1
oid sha256:ffbd5981634dca04178956d766fbaa28e8888b6c87e5fc7e4380b3349a6868f3
size 48277
