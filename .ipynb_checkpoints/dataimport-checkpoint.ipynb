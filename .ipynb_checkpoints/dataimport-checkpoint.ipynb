{
 "cells": [
  {
   "cell_type": "markdown",
   "metadata": {
    "colab_type": "text",
    "id": "view-in-github"
   },
   "source": [
    "<a href=\"https://colab.research.google.com/github/gyimesbalint/DL_project/blob/main/dataimport.ipynb\" target=\"_parent\"><img src=\"https://colab.research.google.com/assets/colab-badge.svg\" alt=\"Open In Colab\"/></a>"
   ]
  },
  {
   "cell_type": "markdown",
   "metadata": {
    "id": "ssQLrwJ3b8F1"
   },
   "source": [
    "#Importing datasets"
   ]
  },
  {
   "cell_type": "code",
   "execution_count": 1,
   "metadata": {
    "colab": {
     "base_uri": "https://localhost:8080/"
    },
    "id": "K2gR-BhaV0Mr",
    "outputId": "a46d82b3-f924-4939-8db2-d4eddf4474c6"
   },
   "outputs": [
    {
     "name": "stdout",
     "output_type": "stream",
     "text": [
      "Collecting gdown\n",
      "  Downloading gdown-4.2.0.tar.gz (13 kB)\n",
      "  Installing build dependencies: started\n",
      "  Installing build dependencies: finished with status 'done'\n",
      "  Getting requirements to build wheel: started\n",
      "  Getting requirements to build wheel: finished with status 'done'\n",
      "    Preparing wheel metadata: started\n",
      "    Preparing wheel metadata: finished with status 'done'\n",
      "Requirement already satisfied: six in c:\\users\\kornel\\anaconda3\\lib\\site-packages (from gdown) (1.15.0)\n",
      "Requirement already satisfied: filelock in c:\\users\\kornel\\anaconda3\\lib\\site-packages (from gdown) (3.0.12)\n",
      "Requirement already satisfied: tqdm in c:\\users\\kornel\\anaconda3\\lib\\site-packages (from gdown) (4.59.0)\n",
      "Requirement already satisfied: requests[socks] in c:\\users\\kornel\\anaconda3\\lib\\site-packages (from gdown) (2.25.1)\n",
      "Requirement already satisfied: beautifulsoup4 in c:\\users\\kornel\\anaconda3\\lib\\site-packages (from gdown) (4.9.3)\n",
      "Requirement already satisfied: soupsieve>1.2 in c:\\users\\kornel\\anaconda3\\lib\\site-packages (from beautifulsoup4->gdown) (2.2.1)\n",
      "Requirement already satisfied: idna<3,>=2.5 in c:\\users\\kornel\\anaconda3\\lib\\site-packages (from requests[socks]->gdown) (2.10)\n",
      "Requirement already satisfied: urllib3<1.27,>=1.21.1 in c:\\users\\kornel\\anaconda3\\lib\\site-packages (from requests[socks]->gdown) (1.26.4)\n",
      "Requirement already satisfied: certifi>=2017.4.17 in c:\\users\\kornel\\anaconda3\\lib\\site-packages (from requests[socks]->gdown) (2020.12.5)\n",
      "Requirement already satisfied: chardet<5,>=3.0.2 in c:\\users\\kornel\\anaconda3\\lib\\site-packages (from requests[socks]->gdown) (4.0.0)\n",
      "Requirement already satisfied: PySocks!=1.5.7,>=1.5.6 in c:\\users\\kornel\\anaconda3\\lib\\site-packages (from requests[socks]->gdown) (1.7.1)\n",
      "Building wheels for collected packages: gdown\n",
      "  Building wheel for gdown (PEP 517): started\n",
      "  Building wheel for gdown (PEP 517): finished with status 'done'\n",
      "  Created wheel for gdown: filename=gdown-4.2.0-py3-none-any.whl size=14262 sha256=3cb3c88fae7db40999b47754cd1ec0dbba3957a60cf15f47121284c36e4d0701\n",
      "  Stored in directory: c:\\users\\kornel\\appdata\\local\\pip\\cache\\wheels\\2b\\3c\\51\\52c46deda5cd1d59c6ce3d441ea5f3d155495dc294c4535a25\n",
      "Successfully built gdown\n",
      "Installing collected packages: gdown\n",
      "Successfully installed gdown-4.2.0\n"
     ]
    },
    {
     "name": "stderr",
     "output_type": "stream",
     "text": [
      "usage: gdown [-h] [-V] [-O OUTPUT] [-q] [--fuzzy] [--id] [--proxy PROXY]\n",
      "             [--speed SPEED] [--no-cookies] [--no-check-certificate]\n",
      "             [--continue] [--folder] [--remaining-ok]\n",
      "             url_or_id\n",
      "gdown: error: unrecognized arguments: #import train.csv from drive\n",
      "usage: gdown [-h] [-V] [-O OUTPUT] [-q] [--fuzzy] [--id] [--proxy PROXY]\n",
      "             [--speed SPEED] [--no-cookies] [--no-check-certificate]\n",
      "             [--continue] [--folder] [--remaining-ok]\n",
      "             url_or_id\n",
      "gdown: error: unrecognized arguments: #import test.csv from drive\n"
     ]
    }
   ],
   "source": [
    "# https://drive.google.com/file/d/1pmNSD1nbYHEAiP065s4akRXHMWFs9Dqw/view?usp=sharing DBpedia train.csv\n",
    "# https://drive.google.com/file/d/1mKededzdbJsWQnwsu-R_WSILYSvNEY7c/view?usp=sharing DBpedia test.csv\n",
    "!pip install gdown \n",
    "!gdown --id 1pmNSD1nbYHEAiP065s4akRXHMWFs9Dqw --output train.csv  #import train.csv from drive\n",
    "!gdown --id 1mKededzdbJsWQnwsu-R_WSILYSvNEY7c --output test.csv   #import test.csv from drive"
   ]
  },
  {
   "cell_type": "code",
   "execution_count": 3,
   "metadata": {
    "id": "a7DxLlchmrSG"
   },
   "outputs": [],
   "source": [
    "import numpy as np\n",
    "import pandas as pd\n",
    "\n",
    "train_data = pd.read_csv('train.csv', encoding='utf8',header=None) #read csv to dataframe\n",
    "test_data = pd.read_csv('test.csv', encoding='utf8',header=None)   #read csv to dataframe\n",
    "\n",
    "train_data.where(train_data[0] < 6, inplace = True)  #select first 5 categories\n",
    "train_data = train_data[train_data[0].notnull()]     #remove NaN values\n",
    "\n",
    "test_data.where(test_data[0] < 6, inplace = True)    #select first 5 categories\n",
    "test_data = test_data[test_data[0].notnull()]        #remove NaN values"
   ]
  },
  {
   "cell_type": "code",
   "execution_count": 3,
   "metadata": {
    "colab": {
     "base_uri": "https://localhost:8080/",
     "height": 204
    },
    "id": "oC2QSasgcGUv",
    "outputId": "1c424d17-0cd1-4617-c9cd-074e1d6d0465"
   },
   "outputs": [
    {
     "data": {
      "text/html": [
       "<div>\n",
       "<style scoped>\n",
       "    .dataframe tbody tr th:only-of-type {\n",
       "        vertical-align: middle;\n",
       "    }\n",
       "\n",
       "    .dataframe tbody tr th {\n",
       "        vertical-align: top;\n",
       "    }\n",
       "\n",
       "    .dataframe thead th {\n",
       "        text-align: right;\n",
       "    }\n",
       "</style>\n",
       "<table border=\"1\" class=\"dataframe\">\n",
       "  <thead>\n",
       "    <tr style=\"text-align: right;\">\n",
       "      <th></th>\n",
       "      <th>0</th>\n",
       "      <th>1</th>\n",
       "      <th>2</th>\n",
       "    </tr>\n",
       "  </thead>\n",
       "  <tbody>\n",
       "    <tr>\n",
       "      <th>694</th>\n",
       "      <td>1.0</td>\n",
       "      <td>CITS Group Corporation</td>\n",
       "      <td>The CITS Group Corporation (Chinese: 中国国旅集团有限...</td>\n",
       "    </tr>\n",
       "    <tr>\n",
       "      <th>187714</th>\n",
       "      <td>5.0</td>\n",
       "      <td>Mostafa Chamran</td>\n",
       "      <td>Mostafa Chamran Savei (8 March 1932 – 20 June...</td>\n",
       "    </tr>\n",
       "    <tr>\n",
       "      <th>134</th>\n",
       "      <td>1.0</td>\n",
       "      <td>Beyerdynamic</td>\n",
       "      <td>Beyerdynamic (stylized beyerdynamic) GmbH &amp; C...</td>\n",
       "    </tr>\n",
       "    <tr>\n",
       "      <th>170358</th>\n",
       "      <td>5.0</td>\n",
       "      <td>Chris Koster</td>\n",
       "      <td>Chris Koster (born August 31 1964) is an Amer...</td>\n",
       "    </tr>\n",
       "    <tr>\n",
       "      <th>128179</th>\n",
       "      <td>4.0</td>\n",
       "      <td>Alexandre Picard (ice hockey)</td>\n",
       "      <td>Alexandre Picard (born October 9 1985) is a C...</td>\n",
       "    </tr>\n",
       "  </tbody>\n",
       "</table>\n",
       "</div>"
      ],
      "text/plain": [
       "          0  ...                                                  2\n",
       "694     1.0  ...   The CITS Group Corporation (Chinese: 中国国旅集团有限...\n",
       "187714  5.0  ...   Mostafa Chamran Savei (8 March 1932 – 20 June...\n",
       "134     1.0  ...   Beyerdynamic (stylized beyerdynamic) GmbH & C...\n",
       "170358  5.0  ...   Chris Koster (born August 31 1964) is an Amer...\n",
       "128179  4.0  ...   Alexandre Picard (born October 9 1985) is a C...\n",
       "\n",
       "[5 rows x 3 columns]"
      ]
     },
     "execution_count": 3,
     "metadata": {},
     "output_type": "execute_result"
    }
   ],
   "source": [
    "train_data.sample(5) #sample from train data"
   ]
  },
  {
   "cell_type": "code",
   "execution_count": 4,
   "metadata": {
    "colab": {
     "base_uri": "https://localhost:8080/",
     "height": 204
    },
    "id": "LuZIprN5fGcK",
    "outputId": "fa2cafa0-6c56-4840-d034-c7578122332a"
   },
   "outputs": [
    {
     "data": {
      "text/html": [
       "<div>\n",
       "<style scoped>\n",
       "    .dataframe tbody tr th:only-of-type {\n",
       "        vertical-align: middle;\n",
       "    }\n",
       "\n",
       "    .dataframe tbody tr th {\n",
       "        vertical-align: top;\n",
       "    }\n",
       "\n",
       "    .dataframe thead th {\n",
       "        text-align: right;\n",
       "    }\n",
       "</style>\n",
       "<table border=\"1\" class=\"dataframe\">\n",
       "  <thead>\n",
       "    <tr style=\"text-align: right;\">\n",
       "      <th></th>\n",
       "      <th>0</th>\n",
       "      <th>1</th>\n",
       "      <th>2</th>\n",
       "    </tr>\n",
       "  </thead>\n",
       "  <tbody>\n",
       "    <tr>\n",
       "      <th>24380</th>\n",
       "      <td>5.0</td>\n",
       "      <td>Derek Hodge</td>\n",
       "      <td>Derek M. Hodge (October 5 1941 – May 31 2011)...</td>\n",
       "    </tr>\n",
       "    <tr>\n",
       "      <th>4372</th>\n",
       "      <td>1.0</td>\n",
       "      <td>Institute for OneWorld Health</td>\n",
       "      <td>OneWorld Health is a 501(c)(3) nonprofit drug...</td>\n",
       "    </tr>\n",
       "    <tr>\n",
       "      <th>6637</th>\n",
       "      <td>2.0</td>\n",
       "      <td>Episcopal School of Acadiana</td>\n",
       "      <td>Episcopal School of Acadiana (ESA) is a coedu...</td>\n",
       "    </tr>\n",
       "    <tr>\n",
       "      <th>6527</th>\n",
       "      <td>2.0</td>\n",
       "      <td>Hicksville High School (Ohio)</td>\n",
       "      <td>Hicksville High School is a public high schoo...</td>\n",
       "    </tr>\n",
       "    <tr>\n",
       "      <th>12951</th>\n",
       "      <td>3.0</td>\n",
       "      <td>Burton Cummings</td>\n",
       "      <td>Burton L. Cummings OC OM (born December 31 19...</td>\n",
       "    </tr>\n",
       "  </tbody>\n",
       "</table>\n",
       "</div>"
      ],
      "text/plain": [
       "         0  ...                                                  2\n",
       "24380  5.0  ...   Derek M. Hodge (October 5 1941 – May 31 2011)...\n",
       "4372   1.0  ...   OneWorld Health is a 501(c)(3) nonprofit drug...\n",
       "6637   2.0  ...   Episcopal School of Acadiana (ESA) is a coedu...\n",
       "6527   2.0  ...   Hicksville High School is a public high schoo...\n",
       "12951  3.0  ...   Burton L. Cummings OC OM (born December 31 19...\n",
       "\n",
       "[5 rows x 3 columns]"
      ]
     },
     "execution_count": 4,
     "metadata": {},
     "output_type": "execute_result"
    }
   ],
   "source": [
    "test_data.sample(5) #sample from test data"
   ]
  },
  {
   "cell_type": "code",
   "execution_count": 5,
   "metadata": {
    "id": "xIdmfSJsm4ZN"
   },
   "outputs": [],
   "source": [
    "train_label = pd.to_numeric(train_data.iloc[:,0]) #select labels (int) from train data\n",
    "train_text = train_data.iloc[:,1:3] #select article text from train data"
   ]
  },
  {
   "cell_type": "code",
   "execution_count": 6,
   "metadata": {
    "id": "dbfQMlpGpJY1"
   },
   "outputs": [],
   "source": [
    "test_label = pd.to_numeric(test_data.iloc[:,0]) #select labels (int) from test data\n",
    "test_text = test_data.iloc[:,1:3] #select article text from train data"
   ]
  },
  {
   "cell_type": "markdown",
   "metadata": {
    "id": "tqOIQiMFcCKk"
   },
   "source": [
    "#Pre-processing"
   ]
  },
  {
   "cell_type": "code",
   "execution_count": 7,
   "metadata": {
    "colab": {
     "base_uri": "https://localhost:8080/"
    },
    "id": "eGd_NGTLql8R",
    "outputId": "6432925e-11d3-4edc-fe82-73f1fbdab118"
   },
   "outputs": [
    {
     "name": "stdout",
     "output_type": "stream",
     "text": [
      "[nltk_data] Downloading package stopwords to /root/nltk_data...\n",
      "[nltk_data]   Unzipping corpora/stopwords.zip.\n"
     ]
    },
    {
     "data": {
      "text/plain": [
       "True"
      ]
     },
     "execution_count": 7,
     "metadata": {},
     "output_type": "execute_result"
    }
   ],
   "source": [
    "from sklearn.feature_extraction.text import CountVectorizer #vectorizer for article text data\n",
    "from nltk.corpus import stopwords #stopwords for desktop usage\n",
    "import nltk\n",
    "nltk.download('stopwords') #stopwords for collab notebook"
   ]
  },
  {
   "cell_type": "code",
   "execution_count": 8,
   "metadata": {
    "id": "0sdo8wL7CGFM"
   },
   "outputs": [],
   "source": [
    "vectorizer = CountVectorizer(stop_words=stopwords.words('english'), analyzer='word', ngram_range=(1, 1)) #vectorizer for words, removing stopwords"
   ]
  },
  {
   "cell_type": "code",
   "execution_count": 9,
   "metadata": {
    "id": "8x0-IR01DRW6"
   },
   "outputs": [],
   "source": [
    "test_title = test_text.iloc[:,0] #select titles from test text\n",
    "test_desc = test_text.iloc[:,1]  #select descriptions from test text"
   ]
  },
  {
   "cell_type": "code",
   "execution_count": 10,
   "metadata": {
    "id": "SyFZpmsYEuLP"
   },
   "outputs": [],
   "source": [
    "test_title = pd.DataFrame.sparse.from_spmatrix(vectorizer.fit_transform(test_title)) #vectorizing test_title and adding it to a dataframe\n",
    "test_title_feature_names = np.asarray(vectorizer.get_feature_names()) #getting all feature names for test_title\n",
    "test_desc = pd.DataFrame.sparse.from_spmatrix(vectorizer.fit_transform(test_desc)) #vectorizing test_desc and adding it to a dataframe\n",
    "test_desc_feature_names = np.asarray(vectorizer.get_feature_names()) #getting all feature names for test_desc"
   ]
  },
  {
   "cell_type": "code",
   "execution_count": 11,
   "metadata": {
    "colab": {
     "base_uri": "https://localhost:8080/"
    },
    "id": "XqEi2-fBhGtB",
    "outputId": "0420f174-816c-4a28-f6a8-324687aac507"
   },
   "outputs": [
    {
     "name": "stdout",
     "output_type": "stream",
     "text": [
      "   0      1      2      3      4      ...  25333  25334  25335  25336  25337\n",
      "0      0      0      0      0      0  ...      0      0      0      0      0\n",
      "1      0      0      0      0      0  ...      0      0      0      0      0\n",
      "2      0      0      0      0      0  ...      0      0      0      0      0\n",
      "3      0      0      0      0      0  ...      0      0      0      0      0\n",
      "4      0      0      0      0      0  ...      0      0      0      0      0\n",
      "\n",
      "[5 rows x 25338 columns]\n",
      "['0verflow' '100' '102nd' '105th' '110th']\n"
     ]
    }
   ],
   "source": [
    "#First 5 rows and feature names obtained with the vectoritzer\n",
    "print(test_title[0:5])\n",
    "print(test_title_feature_names[0:5])"
   ]
  },
  {
   "cell_type": "code",
   "execution_count": 12,
   "metadata": {
    "colab": {
     "base_uri": "https://localhost:8080/"
    },
    "id": "ukBvNK_bpH-J",
    "outputId": "597e4490-3663-49cb-f1ef-f0294e416dbb"
   },
   "outputs": [
    {
     "name": "stdout",
     "output_type": "stream",
     "text": [
      "   0      1      2      3      4      ...  77195  77196  77197  77198  77199\n",
      "0      0      0      0      0      0  ...      0      0      0      0      0\n",
      "1      0      0      0      0      0  ...      0      0      0      0      0\n",
      "2      0      0      0      0      0  ...      0      0      0      0      0\n",
      "3      0      0      0      0      0  ...      0      0      0      0      0\n",
      "4      0      0      0      0      0  ...      0      0      0      0      0\n",
      "\n",
      "[5 rows x 77200 columns]\n",
      "['00' '000' '00027' '000338sz' '000629']\n"
     ]
    }
   ],
   "source": [
    "#First 5 rows and feature names obtained with the vectoritzer\n",
    "print(test_desc[0:5])\n",
    "print(test_desc_feature_names[0:5])"
   ]
  },
  {
   "cell_type": "code",
   "execution_count": 13,
   "metadata": {
    "id": "yuKl7x3U33gu"
   },
   "outputs": [],
   "source": [
    "train_title = train_text.iloc[:,0] #select titles from train text\n",
    "train_desc = train_text.iloc[:,1]  #select descriptions from train text"
   ]
  },
  {
   "cell_type": "code",
   "execution_count": 14,
   "metadata": {
    "id": "-54u7V4OFOnh"
   },
   "outputs": [],
   "source": [
    "train_title = pd.DataFrame.sparse.from_spmatrix(vectorizer.fit_transform(train_title)) #vectorizing train_title and adding it to a dataframe\n",
    "train_title_feature_names = np.asarray(vectorizer.get_feature_names()) #getting all feature names for train_title\n",
    "train_desc = pd.DataFrame.sparse.from_spmatrix(vectorizer.fit_transform(train_desc)) #vectorizing train_desc and adding it to a dataframe\n",
    "train_desc_feature_names = vectorizer.get_feature_names() #getting all feature names for train_desc"
   ]
  },
  {
   "cell_type": "code",
   "execution_count": 15,
   "metadata": {
    "colab": {
     "base_uri": "https://localhost:8080/"
    },
    "id": "AXIH2FymkHOK",
    "outputId": "79718388-dcbe-47c5-ae75-e802ef934af6"
   },
   "outputs": [
    {
     "name": "stdout",
     "output_type": "stream",
     "text": [
      "   0       1       2       3       ...  117693  117694  117695  117696\n",
      "0       0       0       0       0  ...       0       0       0       0\n",
      "1       0       0       0       0  ...       0       0       0       0\n",
      "2       0       0       0       0  ...       0       0       0       0\n",
      "3       0       0       0       0  ...       0       0       0       0\n",
      "4       0       0       0       0  ...       0       0       0       0\n",
      "\n",
      "[5 rows x 117697 columns]\n",
      "['002' '05' '07' '09' '10']\n"
     ]
    }
   ],
   "source": [
    "#First 5 rows and feature names obtained with the vectoritzer\n",
    "print(train_title[0:5])\n",
    "print(train_title_feature_names[0:5])"
   ]
  },
  {
   "cell_type": "code",
   "execution_count": 16,
   "metadata": {
    "colab": {
     "base_uri": "https://localhost:8080/"
    },
    "id": "SmOXEY0fq3Pu",
    "outputId": "568cd80e-6701-4552-885c-95599d7b3b02"
   },
   "outputs": [
    {
     "name": "stdout",
     "output_type": "stream",
     "text": [
      "   0       1       2       3       ...  293357  293358  293359  293360\n",
      "0       0       0       0       0  ...       0       0       0       0\n",
      "1       0       0       0       0  ...       0       0       0       0\n",
      "2       0       0       0       0  ...       0       0       0       0\n",
      "3       0       0       0       0  ...       0       0       0       0\n",
      "4       0       0       0       0  ...       0       0       0       0\n",
      "\n",
      "[5 rows x 293361 columns]\n",
      "['00', '000', '0000', '00000006', '000001']\n"
     ]
    }
   ],
   "source": [
    "#First 5 rows and feature names obtained with the vectoritzer\n",
    "print(train_desc[0:5])\n",
    "print(train_desc_feature_names[0:5])"
   ]
  },
  {
   "cell_type": "code",
   "execution_count": 17,
   "metadata": {
    "id": "omfbCxvr-aJl"
   },
   "outputs": [],
   "source": [
    "from scipy.sparse import csr_matrix #for min-max scaling sparse matrices"
   ]
  },
  {
   "cell_type": "code",
   "execution_count": 18,
   "metadata": {
    "id": "_B3DpLPb7Dku"
   },
   "outputs": [],
   "source": [
    "def normalize(df): #function for min-max scaling of dataframes\n",
    "    result = df.copy()\n",
    "    for feature_name in df.columns:\n",
    "        max_value = csr_matrix(df[feature_name]).max()\n",
    "        min_value = csr_matrix(df[feature_name]).min()\n",
    "        result[feature_name] = (df[feature_name] - min_value) / (max_value - min_value)\n",
    "    return result"
   ]
  },
  {
   "cell_type": "code",
   "execution_count": 19,
   "metadata": {
    "id": "xofqUiCj51N2"
   },
   "outputs": [],
   "source": [
    "test_title = normalize(test_title) #min-max scale test_title"
   ]
  },
  {
   "cell_type": "code",
   "execution_count": 20,
   "metadata": {
    "colab": {
     "base_uri": "https://localhost:8080/"
    },
    "id": "ZZtMnnUptxIn",
    "outputId": "37f55eaa-2849-433f-823d-e5373d1ca09b"
   },
   "outputs": [
    {
     "name": "stdout",
     "output_type": "stream",
     "text": [
      "   0      1      2      3      4      ...  25333  25334  25335  25336  25337\n",
      "0    0.0    0.0    0.0    0.0    0.0  ...    0.0    0.0    0.0    0.0    0.0\n",
      "1    0.0    0.0    0.0    0.0    0.0  ...    0.0    0.0    0.0    0.0    0.0\n",
      "2    0.0    0.0    0.0    0.0    0.0  ...    0.0    0.0    0.0    0.0    0.0\n",
      "3    0.0    0.0    0.0    0.0    0.0  ...    0.0    0.0    0.0    0.0    0.0\n",
      "4    0.0    0.0    0.0    0.0    0.0  ...    0.0    0.0    0.0    0.0    0.0\n",
      "\n",
      "[5 rows x 25338 columns]\n"
     ]
    }
   ],
   "source": [
    "print(test_title[0:5])"
   ]
  },
  {
   "cell_type": "code",
   "execution_count": 21,
   "metadata": {
    "id": "4v9lEKB951N2"
   },
   "outputs": [],
   "source": [
    "test_desc = normalize(test_desc) #min-max scale test_desc"
   ]
  },
  {
   "cell_type": "code",
   "execution_count": 22,
   "metadata": {
    "colab": {
     "base_uri": "https://localhost:8080/"
    },
    "id": "cH74B7tUtxgF",
    "outputId": "278e04b4-451e-42fc-a214-c7466da41a0d"
   },
   "outputs": [
    {
     "name": "stdout",
     "output_type": "stream",
     "text": [
      "   0      1      2      3      4      ...  77195  77196  77197  77198  77199\n",
      "0    0.0    0.0    0.0    0.0    0.0  ...    0.0    0.0    0.0    0.0    0.0\n",
      "1    0.0    0.0    0.0    0.0    0.0  ...    0.0    0.0    0.0    0.0    0.0\n",
      "2    0.0    0.0    0.0    0.0    0.0  ...    0.0    0.0    0.0    0.0    0.0\n",
      "3    0.0    0.0    0.0    0.0    0.0  ...    0.0    0.0    0.0    0.0    0.0\n",
      "4    0.0    0.0    0.0    0.0    0.0  ...    0.0    0.0    0.0    0.0    0.0\n",
      "\n",
      "[5 rows x 77200 columns]\n"
     ]
    }
   ],
   "source": [
    "print(test_desc[0:5])"
   ]
  },
  {
   "cell_type": "code",
   "execution_count": 23,
   "metadata": {
    "id": "seP8jG3CB-qB"
   },
   "outputs": [],
   "source": [
    "train_title = normalize(train_title) #min-max scale train_title"
   ]
  },
  {
   "cell_type": "code",
   "execution_count": 24,
   "metadata": {
    "colab": {
     "base_uri": "https://localhost:8080/"
    },
    "id": "Z37ue-AbtxyD",
    "outputId": "df456193-60d5-42a9-f33d-f0bfef00a166"
   },
   "outputs": [
    {
     "name": "stdout",
     "output_type": "stream",
     "text": [
      "   0       1       2       3       ...  117693  117694  117695  117696\n",
      "0     0.0     0.0     0.0     0.0  ...     0.0     0.0     0.0     0.0\n",
      "1     0.0     0.0     0.0     0.0  ...     0.0     0.0     0.0     0.0\n",
      "2     0.0     0.0     0.0     0.0  ...     0.0     0.0     0.0     0.0\n",
      "3     0.0     0.0     0.0     0.0  ...     0.0     0.0     0.0     0.0\n",
      "4     0.0     0.0     0.0     0.0  ...     0.0     0.0     0.0     0.0\n",
      "\n",
      "[5 rows x 117697 columns]\n"
     ]
    }
   ],
   "source": [
    "print(train_title[0:5])"
   ]
  },
  {
   "cell_type": "code",
   "execution_count": 25,
   "metadata": {
    "id": "t7My4oYrSmLv"
   },
   "outputs": [],
   "source": [
    "train_desc = normalize(train_desc) #min-max scale train_desc"
   ]
  },
  {
   "cell_type": "code",
   "execution_count": 26,
   "metadata": {
    "colab": {
     "base_uri": "https://localhost:8080/"
    },
    "id": "lAJvee20tyUd",
    "outputId": "e75e5756-213d-4dcb-e9fb-2a8945b82b0c"
   },
   "outputs": [
    {
     "name": "stdout",
     "output_type": "stream",
     "text": [
      "   0       1       2       3       ...  293357  293358  293359  293360\n",
      "0     0.0     0.0     0.0     0.0  ...     0.0     0.0     0.0     0.0\n",
      "1     0.0     0.0     0.0     0.0  ...     0.0     0.0     0.0     0.0\n",
      "2     0.0     0.0     0.0     0.0  ...     0.0     0.0     0.0     0.0\n",
      "3     0.0     0.0     0.0     0.0  ...     0.0     0.0     0.0     0.0\n",
      "4     0.0     0.0     0.0     0.0  ...     0.0     0.0     0.0     0.0\n",
      "\n",
      "[5 rows x 293361 columns]\n"
     ]
    }
   ],
   "source": [
    "print(train_desc[0:5])"
   ]
  },
  {
   "cell_type": "markdown",
   "metadata": {
    "id": "qsQlbcyBklGw"
   },
   "source": [
    "Our **X** will be the sparse matrices and the feature names from the title and the description, and **Y** will be the labels provided in the csv file.\n",
    "\n",
    "Validation split is obtained later in the model.fit() function from training data"
   ]
  }
 ],
 "metadata": {
  "colab": {
   "collapsed_sections": [],
   "include_colab_link": true,
   "name": "adatbetolto.ipynb másolata",
   "provenance": []
  },
  "kernelspec": {
   "display_name": "Python 3",
   "language": "python",
   "name": "python3"
  },
  "language_info": {
   "codemirror_mode": {
    "name": "ipython",
    "version": 3
   },
   "file_extension": ".py",
   "mimetype": "text/x-python",
   "name": "python",
   "nbconvert_exporter": "python",
   "pygments_lexer": "ipython3",
   "version": "3.8.8"
  }
 },
 "nbformat": 4,
 "nbformat_minor": 1
}
