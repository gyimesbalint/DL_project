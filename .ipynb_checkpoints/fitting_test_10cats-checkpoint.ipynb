version https://git-lfs.github.com/spec/v1
oid sha256:a214488bbc628fad401d4c857ec3c3f446c3e9c2a05357b03da4ab82b231ec7f
size 148832
